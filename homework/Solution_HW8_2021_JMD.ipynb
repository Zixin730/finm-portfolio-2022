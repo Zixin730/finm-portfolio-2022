{
 "cells": [
  {
   "cell_type": "markdown",
   "metadata": {},
   "source": [
    "# Homework #8 Solutions\n",
    "### Portfolio Theory and Risk Management I"
   ]
  },
  {
   "cell_type": "markdown",
   "metadata": {},
   "source": [
    "## Imports"
   ]
  },
  {
   "cell_type": "code",
   "execution_count": 14,
   "metadata": {},
   "outputs": [],
   "source": [
    "import pandas as pd\n",
    "import numpy as np\n",
    "import matplotlib.pyplot as plt\n",
    "import statsmodels.api as sm\n",
    "from arch import arch_model\n",
    "from arch.univariate import GARCH, EWMAVariance \n",
    "from sklearn import linear_model\n",
    "import scipy.stats as stats\n",
    "from statsmodels.regression.rolling import RollingOLS\n",
    "import seaborn as sns\n",
    "import warnings\n",
    "warnings.filterwarnings(\"ignore\")\n",
    "pd.set_option(\"display.precision\", 4)\n",
    "sns.set(rc={'figure.figsize':(15, 10)})"
   ]
  },
  {
   "cell_type": "markdown",
   "metadata": {},
   "source": [
    "## Data"
   ]
  },
  {
   "cell_type": "code",
   "execution_count": 15,
   "metadata": {},
   "outputs": [
    {
     "data": {
      "text/html": [
       "<div>\n",
       "<style scoped>\n",
       "    .dataframe tbody tr th:only-of-type {\n",
       "        vertical-align: middle;\n",
       "    }\n",
       "\n",
       "    .dataframe tbody tr th {\n",
       "        vertical-align: top;\n",
       "    }\n",
       "\n",
       "    .dataframe thead th {\n",
       "        text-align: right;\n",
       "    }\n",
       "</style>\n",
       "<table border=\"1\" class=\"dataframe\">\n",
       "  <thead>\n",
       "    <tr style=\"text-align: right;\">\n",
       "      <th></th>\n",
       "      <th>Fund Capital ($billions)</th>\n",
       "      <th>Gross Monthly Performancea</th>\n",
       "      <th>Net Monthly Performanceb</th>\n",
       "      <th>Index of Net Performance</th>\n",
       "    </tr>\n",
       "    <tr>\n",
       "      <th>Date</th>\n",
       "      <th></th>\n",
       "      <th></th>\n",
       "      <th></th>\n",
       "      <th></th>\n",
       "    </tr>\n",
       "  </thead>\n",
       "  <tbody>\n",
       "    <tr>\n",
       "      <th>1994-03-01 00:00:00</th>\n",
       "      <td>1.1</td>\n",
       "      <td>-0.011</td>\n",
       "      <td>-0.013</td>\n",
       "      <td>0.99</td>\n",
       "    </tr>\n",
       "    <tr>\n",
       "      <th>1994-04-01 00:00:00</th>\n",
       "      <td>1.1</td>\n",
       "      <td>0.014</td>\n",
       "      <td>0.008</td>\n",
       "      <td>1.00</td>\n",
       "    </tr>\n",
       "    <tr>\n",
       "      <th>1994-05-01 00:00:00</th>\n",
       "      <td>1.2</td>\n",
       "      <td>0.068</td>\n",
       "      <td>0.053</td>\n",
       "      <td>1.05</td>\n",
       "    </tr>\n",
       "    <tr>\n",
       "      <th>1994-06-01 00:00:00</th>\n",
       "      <td>1.2</td>\n",
       "      <td>-0.039</td>\n",
       "      <td>-0.029</td>\n",
       "      <td>1.02</td>\n",
       "    </tr>\n",
       "    <tr>\n",
       "      <th>1994-07-01 00:00:00</th>\n",
       "      <td>1.4</td>\n",
       "      <td>0.116</td>\n",
       "      <td>0.084</td>\n",
       "      <td>1.10</td>\n",
       "    </tr>\n",
       "  </tbody>\n",
       "</table>\n",
       "</div>"
      ],
      "text/plain": [
       "                     Fund Capital ($billions)  Gross Monthly Performancea  \\\n",
       "Date                                                                        \n",
       "1994-03-01 00:00:00                       1.1                      -0.011   \n",
       "1994-04-01 00:00:00                       1.1                       0.014   \n",
       "1994-05-01 00:00:00                       1.2                       0.068   \n",
       "1994-06-01 00:00:00                       1.2                      -0.039   \n",
       "1994-07-01 00:00:00                       1.4                       0.116   \n",
       "\n",
       "                     Net Monthly Performanceb  Index of Net Performance  \n",
       "Date                                                                     \n",
       "1994-03-01 00:00:00                    -0.013                      0.99  \n",
       "1994-04-01 00:00:00                     0.008                      1.00  \n",
       "1994-05-01 00:00:00                     0.053                      1.05  \n",
       "1994-06-01 00:00:00                    -0.029                      1.02  \n",
       "1994-07-01 00:00:00                     0.084                      1.10  "
      ]
     },
     "execution_count": 15,
     "metadata": {},
     "output_type": "execute_result"
    }
   ],
   "source": [
    "ltcm = pd.read_excel('../data/ltcm_exhibits_data_1.xlsx', sheet_name=1,skiprows=2).rename(columns={\"Unnamed: 0\": \"Date\"})\\\n",
    "                                                                             .set_index('Date').dropna()\n",
    "\n",
    "ltcm.head()"
   ]
  },
  {
   "cell_type": "code",
   "execution_count": 16,
   "metadata": {},
   "outputs": [
    {
     "data": {
      "text/html": [
       "<div>\n",
       "<style scoped>\n",
       "    .dataframe tbody tr th:only-of-type {\n",
       "        vertical-align: middle;\n",
       "    }\n",
       "\n",
       "    .dataframe tbody tr th {\n",
       "        vertical-align: top;\n",
       "    }\n",
       "\n",
       "    .dataframe thead th {\n",
       "        text-align: right;\n",
       "    }\n",
       "</style>\n",
       "<table border=\"1\" class=\"dataframe\">\n",
       "  <thead>\n",
       "    <tr style=\"text-align: right;\">\n",
       "      <th></th>\n",
       "      <th>SPY ex</th>\n",
       "    </tr>\n",
       "    <tr>\n",
       "      <th>Date</th>\n",
       "      <th></th>\n",
       "    </tr>\n",
       "  </thead>\n",
       "  <tbody>\n",
       "    <tr>\n",
       "      <th>1993-02-28</th>\n",
       "      <td>0.0082</td>\n",
       "    </tr>\n",
       "    <tr>\n",
       "      <th>1993-03-31</th>\n",
       "      <td>0.0199</td>\n",
       "    </tr>\n",
       "    <tr>\n",
       "      <th>1993-04-30</th>\n",
       "      <td>-0.0281</td>\n",
       "    </tr>\n",
       "    <tr>\n",
       "      <th>1993-05-31</th>\n",
       "      <td>0.0244</td>\n",
       "    </tr>\n",
       "    <tr>\n",
       "      <th>1993-06-30</th>\n",
       "      <td>0.0011</td>\n",
       "    </tr>\n",
       "  </tbody>\n",
       "</table>\n",
       "</div>"
      ],
      "text/plain": [
       "            SPY ex\n",
       "Date              \n",
       "1993-02-28  0.0082\n",
       "1993-03-31  0.0199\n",
       "1993-04-30 -0.0281\n",
       "1993-05-31  0.0244\n",
       "1993-06-30  0.0011"
      ]
     },
     "execution_count": 16,
     "metadata": {},
     "output_type": "execute_result"
    }
   ],
   "source": [
    "SPY = pd.read_excel('../data/gmo_analysis_data_1.xlsx', sheet_name=2).set_index('Date')\n",
    "rf = pd.read_excel('../data/gmo_analysis_data_1.xlsx', sheet_name=3).set_index('Date')\n",
    "\n",
    "SPY['rf'] = rf['US3M']\n",
    "SPY_ex = SPY.subtract(SPY['rf'], axis=0)['SPY'].to_frame('SPY ex')\n",
    "\n",
    "SPY_ex.head()"
   ]
  },
  {
   "cell_type": "code",
   "execution_count": 17,
   "metadata": {},
   "outputs": [
    {
     "data": {
      "text/html": [
       "<div>\n",
       "<style scoped>\n",
       "    .dataframe tbody tr th:only-of-type {\n",
       "        vertical-align: middle;\n",
       "    }\n",
       "\n",
       "    .dataframe tbody tr th {\n",
       "        vertical-align: top;\n",
       "    }\n",
       "\n",
       "    .dataframe thead th {\n",
       "        text-align: right;\n",
       "    }\n",
       "</style>\n",
       "<table border=\"1\" class=\"dataframe\">\n",
       "  <thead>\n",
       "    <tr style=\"text-align: right;\">\n",
       "      <th></th>\n",
       "      <th>Fund Capital ($billions)</th>\n",
       "      <th>Gross Monthly Performancea</th>\n",
       "      <th>Net Monthly Performanceb</th>\n",
       "      <th>Index of Net Performance</th>\n",
       "    </tr>\n",
       "    <tr>\n",
       "      <th>Date</th>\n",
       "      <th></th>\n",
       "      <th></th>\n",
       "      <th></th>\n",
       "      <th></th>\n",
       "    </tr>\n",
       "  </thead>\n",
       "  <tbody>\n",
       "    <tr>\n",
       "      <th>1994-03-31</th>\n",
       "      <td>1.1</td>\n",
       "      <td>-0.011</td>\n",
       "      <td>-0.013</td>\n",
       "      <td>0.99</td>\n",
       "    </tr>\n",
       "    <tr>\n",
       "      <th>1994-04-30</th>\n",
       "      <td>1.1</td>\n",
       "      <td>0.014</td>\n",
       "      <td>0.008</td>\n",
       "      <td>1.00</td>\n",
       "    </tr>\n",
       "    <tr>\n",
       "      <th>1994-05-31</th>\n",
       "      <td>1.2</td>\n",
       "      <td>0.068</td>\n",
       "      <td>0.053</td>\n",
       "      <td>1.05</td>\n",
       "    </tr>\n",
       "    <tr>\n",
       "      <th>1994-06-30</th>\n",
       "      <td>1.2</td>\n",
       "      <td>-0.039</td>\n",
       "      <td>-0.029</td>\n",
       "      <td>1.02</td>\n",
       "    </tr>\n",
       "    <tr>\n",
       "      <th>1994-07-31</th>\n",
       "      <td>1.4</td>\n",
       "      <td>0.116</td>\n",
       "      <td>0.084</td>\n",
       "      <td>1.10</td>\n",
       "    </tr>\n",
       "  </tbody>\n",
       "</table>\n",
       "</div>"
      ],
      "text/plain": [
       "            Fund Capital ($billions)  Gross Monthly Performancea  \\\n",
       "Date                                                               \n",
       "1994-03-31                       1.1                      -0.011   \n",
       "1994-04-30                       1.1                       0.014   \n",
       "1994-05-31                       1.2                       0.068   \n",
       "1994-06-30                       1.2                      -0.039   \n",
       "1994-07-31                       1.4                       0.116   \n",
       "\n",
       "            Net Monthly Performanceb  Index of Net Performance  \n",
       "Date                                                            \n",
       "1994-03-31                    -0.013                      0.99  \n",
       "1994-04-30                     0.008                      1.00  \n",
       "1994-05-31                     0.053                      1.05  \n",
       "1994-06-30                    -0.029                      1.02  \n",
       "1994-07-31                     0.084                      1.10  "
      ]
     },
     "execution_count": 17,
     "metadata": {},
     "output_type": "execute_result"
    }
   ],
   "source": [
    "ltcm.index = SPY_ex.loc['1994-03':'1998-07'].index\n",
    "ltcm_ex = ltcm.subtract(SPY[['rf']], axis = 0).dropna().drop(columns = ['Index of Net Performance', 'rf'])\n",
    "ltcm_ex['SPY (excess)'] = SPY_ex['SPY ex']\n",
    "\n",
    "ltcm.head()"
   ]
  },
  {
   "cell_type": "code",
   "execution_count": 18,
   "metadata": {},
   "outputs": [
    {
     "data": {
      "text/html": [
       "<div>\n",
       "<style scoped>\n",
       "    .dataframe tbody tr th:only-of-type {\n",
       "        vertical-align: middle;\n",
       "    }\n",
       "\n",
       "    .dataframe tbody tr th {\n",
       "        vertical-align: top;\n",
       "    }\n",
       "\n",
       "    .dataframe thead th {\n",
       "        text-align: right;\n",
       "    }\n",
       "</style>\n",
       "<table border=\"1\" class=\"dataframe\">\n",
       "  <thead>\n",
       "    <tr style=\"text-align: right;\">\n",
       "      <th></th>\n",
       "      <th>Fund Capital ($billions)</th>\n",
       "      <th>Gross Performance (excess)</th>\n",
       "      <th>Net Performance (excess)</th>\n",
       "      <th>SPY (excess)</th>\n",
       "    </tr>\n",
       "    <tr>\n",
       "      <th>Date</th>\n",
       "      <th></th>\n",
       "      <th></th>\n",
       "      <th></th>\n",
       "      <th></th>\n",
       "    </tr>\n",
       "  </thead>\n",
       "  <tbody>\n",
       "    <tr>\n",
       "      <th>1993-02-28</th>\n",
       "      <td>NaN</td>\n",
       "      <td>NaN</td>\n",
       "      <td>NaN</td>\n",
       "      <td>0.0082</td>\n",
       "    </tr>\n",
       "    <tr>\n",
       "      <th>1993-03-31</th>\n",
       "      <td>NaN</td>\n",
       "      <td>NaN</td>\n",
       "      <td>NaN</td>\n",
       "      <td>0.0199</td>\n",
       "    </tr>\n",
       "    <tr>\n",
       "      <th>1993-04-30</th>\n",
       "      <td>NaN</td>\n",
       "      <td>NaN</td>\n",
       "      <td>NaN</td>\n",
       "      <td>-0.0281</td>\n",
       "    </tr>\n",
       "    <tr>\n",
       "      <th>1993-05-31</th>\n",
       "      <td>NaN</td>\n",
       "      <td>NaN</td>\n",
       "      <td>NaN</td>\n",
       "      <td>0.0244</td>\n",
       "    </tr>\n",
       "    <tr>\n",
       "      <th>1993-06-30</th>\n",
       "      <td>NaN</td>\n",
       "      <td>NaN</td>\n",
       "      <td>NaN</td>\n",
       "      <td>0.0011</td>\n",
       "    </tr>\n",
       "  </tbody>\n",
       "</table>\n",
       "</div>"
      ],
      "text/plain": [
       "            Fund Capital ($billions)  Gross Performance (excess)  \\\n",
       "Date                                                               \n",
       "1993-02-28                       NaN                         NaN   \n",
       "1993-03-31                       NaN                         NaN   \n",
       "1993-04-30                       NaN                         NaN   \n",
       "1993-05-31                       NaN                         NaN   \n",
       "1993-06-30                       NaN                         NaN   \n",
       "\n",
       "            Net Performance (excess)  SPY (excess)  \n",
       "Date                                                \n",
       "1993-02-28                       NaN        0.0082  \n",
       "1993-03-31                       NaN        0.0199  \n",
       "1993-04-30                       NaN       -0.0281  \n",
       "1993-05-31                       NaN        0.0244  \n",
       "1993-06-30                       NaN        0.0011  "
      ]
     },
     "execution_count": 18,
     "metadata": {},
     "output_type": "execute_result"
    }
   ],
   "source": [
    "ltcm_ex.columns = ['Fund Capital ($billions)', 'Gross Performance (excess)', 'Net Performance (excess)', 'SPY (excess)']\n",
    "\n",
    "ltcm_ex.head()"
   ]
  },
  {
   "cell_type": "markdown",
   "metadata": {},
   "source": [
    "# 1. LTCM\n",
    "\n",
    "## 1.1 \n",
    "### Describe LTCM’s investment strategy with regard to the following aspects:\n",
    "- Securities traded\n",
    "- Trading frequency\n",
    "- Skewness (Do they seek many small wins or a few big hits?)\n",
    "- Forecasting (What is behind their selection of trades?)\n",
    "\n",
    "#### Solution: \n",
    "- LTCM traded across a wide range of securities. They are heavily involved in fixed income and credit, and they also have sizeable positions in equities. In all these asset classes, they trade a large number of securities, across global markets.\n",
    "\n",
    "- LTCM's trading frequencies vary given that they house a wide range of strategies. Their largest bucket, the convergence trades, typically take weeks and months to converge. Overall, they are something of a medium-term frequency. Largely, they are not trying to arbitrage intraday movements, nor are they making long-term directional bets.\n",
    "\n",
    "- LTCM largely is trying to pick up small premia in the convergence trades, which limits the upside of any individual trade, and leaves it substantial downside, given all the leverage. Of course, aggregating all their trades together can lead to positive skewness if they are properly diversified. But we would expect that their typical trade has a small positive mean with substantial negative skewness.\n",
    "\n",
    "- For most their trades, LTCM is not making directional forecasts. Rather, they are trading spreads and pairs, forecasting relative convergence rather than absolute levels. In this sense, they do not rely on sophisticated forecasting models of the overall market but rather rely on models to forecast the size and speed of relative convergence in particular markets.\n",
    "\n",
    "## 1.2\n",
    "### What are LTCM’s biggest advantages over its competitors?\n",
    "\n",
    "#### Solution:\n",
    "Several advantages.\n",
    "- Efficient financing. LTCM got very favorable terms on all financing—sometimes even zero haircut! Typically had small, if any, outlay.</li>\n",
    "- Fund size. Have market power even in the large market of institutional wholesale.</li>\n",
    "- Liquidity. LTCM has in place many mechanisms to ensure liquidity.</li>\n",
    "- Long-term horizon. In financing and assessing trades, LTCM takes a relatively long-term view.\n",
    "- Hedged. LTCM avoids taking too much default risk or explicit directional bets.\n",
    "\n",
    "Then again, LTCM went bust in Aug. 1998, so maybe these advantages were not as strong as it\n",
    "seemed!\n",
    "\n",
    "## 1.3\n",
    "### The case discusses four types of funding risk facing LTCM:\n",
    "- collateral haircuts\n",
    "- repo maturity\n",
    "- equity redemption\n",
    "- loan access\n",
    "The case discusses specific ways in which LTCM manages each of these risks. Briefly discuss\n",
    "them.\n",
    "\n",
    "#### Solution:\n",
    "The case discusses steps LTCM took to manage four types of funding risks.\n",
    "- Collateral haircuts. For most trades, LTCM obtains 100% financing on a fully collateralized\n",
    "basis. Furthermore, LTCM stress tests the haircuts across its asset classes.\n",
    "- Repo. LTCM goes against the norm by entering into relatively long-maturity repo. While much of it is overnight, LTCM uses contracts that typically have maturity of 6-12 months. Furthermore, LTCM manages their aggregate repo maturity.\n",
    "- Equity redemption. The firm is highly levered, so equity funding risk is especially important. LTCM restricts redemptions of equity year by year. The restriction is particularly strong in that unredeemed money is re-locked.\n",
    "They also spread the redemption windows across the year to ensure there is never a possi- bility of immediate withdrawal of a large portion of equity.\n",
    "- For debt funding, LTCM negotiated a revolving loan that has no Material Adverse Change clause. Thus, the availability of debt funding is not so highly correlated with fund perfor- mance.\n",
    "\n",
    "## 1.4\n",
    "### LTCM is largely in the business of selling liquidity and volatility. Describe how LTCM accounts for liquidity risk in their quantitative measurements.\n",
    "\n",
    "#### Solution:\n",
    "LTCM attempts to account for liquidity risk quantitatively by adjusting security correlations. For short-term horizons, LTCM assumes positive correlation between all trade cat- egories. Even if their net exposure to a strategy flips sides, they still assume positive correlation to the new net position.\n",
    "Given the efforts of LTCM to hedge out obvious market risks, there are many strategies which would seem to have zero correlation. However, LTCM feels that liquidity concerns can cause the effective trading to be positively correlated.\n",
    "\n",
    "## 1.5\n",
    "### Is leverage risk currently a concern for LTCM?\n",
    "\n",
    "#### Solution:\n",
    "It would seem that leverage is not particularly dangerous at the moment. The fund’s volatility is relatively low, its VaR is relatively low, nor is it particularly high relative to the rest of the industry.\n",
    "Moreover, the firm actively manages its funding risk which theoretically means it should be able to handle the natural risks of high leverage.\n",
    "At the time of the case, the firm is trying to determine whether to further increase leverage. Subsequently, at the end of 1997 the fund returned about a third of its 7.5 billion equity capital to investors.\n",
    "Of course, less than a year later, the fund blew up, but from the time of the case it’s hard to see the leverage risk.\n",
    "\n",
    "## 1.6\n",
    "### Many strategies of LTCM rely on converging spreads. LTCM feels that these are almost win/win situations because of the fact that if the spread converges, they make money. If it diverges, the trade becomes even more attractive, as convergence is still expected at a future date.\n",
    "\n",
    "#### Solution:\n",
    "What is the risk in these convergence trades?\n",
    "Solution: About a year after the time of the case, the fund loses most of its value due to non-converging trades. So clearly there is some risk!\n",
    "Positions are subject to liquidity risk. If market liquidity dries up or the markets become segmented, the divergent spreads can persist for a long time. This indeed happens later to LTCM. The trades that get them in trouble ultimately pay off, but not before LTCM blows up.\n",
    "LTCM believes it can exit these convergence trades if they become too unprofitable. However, a stop-loss order is not the same as a put option. If the price jumps discontinuously through the stop-loss, then it is ineffective. Or a market may be paralyzed/illiquid when trying to execute the stop-loss. A put option does not need to worry about price impact, whereas a stop-loss does. Finally, a stop-loss ensures that an investor sells as soon as a security price hits a worst-case scenario, ensuring unfavorable market timing.\n"
   ]
  },
  {
   "cell_type": "markdown",
   "metadata": {},
   "source": [
    "## 2 LTCM Risk Decomposition"
   ]
  },
  {
   "cell_type": "markdown",
   "metadata": {},
   "source": [
    "## 2.1 Summary Stats"
   ]
  },
  {
   "cell_type": "code",
   "execution_count": 19,
   "metadata": {},
   "outputs": [],
   "source": [
    "def summary_stats(df, annual_fac=12):\n",
    "    stat_df = (df.mean()*annual_fac).to_frame('Mean')\n",
    "    stat_df['Vol'] = df.std()*np.sqrt(annual_fac)\n",
    "    stat_df['Sharpe'] = stat_df['Mean']/stat_df['Vol']\n",
    "    \n",
    "    return stat_df\n",
    "\n",
    "def tail_risk_stats(df, annual_fac=12):\n",
    "    tr_df = df.skew().to_frame('Skew')\n",
    "    tr_df['Kurtosis'] = df.kurtosis()\n",
    "    tr_df['VaR (0.05)'] = df.quantile(0.05)\n",
    "    return tr_df"
   ]
  },
  {
   "cell_type": "markdown",
   "metadata": {},
   "source": [
    "(a) For both the gross and net series of LTCM excess returns, report the mean, volatility, and\n",
    "Sharpe ratios. (Annualize them.)"
   ]
  },
  {
   "cell_type": "code",
   "execution_count": 20,
   "metadata": {},
   "outputs": [
    {
     "data": {
      "text/html": [
       "<div>\n",
       "<style scoped>\n",
       "    .dataframe tbody tr th:only-of-type {\n",
       "        vertical-align: middle;\n",
       "    }\n",
       "\n",
       "    .dataframe tbody tr th {\n",
       "        vertical-align: top;\n",
       "    }\n",
       "\n",
       "    .dataframe thead th {\n",
       "        text-align: right;\n",
       "    }\n",
       "</style>\n",
       "<table border=\"1\" class=\"dataframe\">\n",
       "  <thead>\n",
       "    <tr style=\"text-align: right;\">\n",
       "      <th></th>\n",
       "      <th>Mean</th>\n",
       "      <th>Vol</th>\n",
       "      <th>Sharpe</th>\n",
       "    </tr>\n",
       "  </thead>\n",
       "  <tbody>\n",
       "    <tr>\n",
       "      <th>Gross Performance (excess)</th>\n",
       "      <td>NaN</td>\n",
       "      <td>NaN</td>\n",
       "      <td>NaN</td>\n",
       "    </tr>\n",
       "    <tr>\n",
       "      <th>Net Performance (excess)</th>\n",
       "      <td>NaN</td>\n",
       "      <td>NaN</td>\n",
       "      <td>NaN</td>\n",
       "    </tr>\n",
       "    <tr>\n",
       "      <th>SPY (excess)</th>\n",
       "      <td>0.0883</td>\n",
       "      <td>0.1461</td>\n",
       "      <td>0.6044</td>\n",
       "    </tr>\n",
       "  </tbody>\n",
       "</table>\n",
       "</div>"
      ],
      "text/plain": [
       "                              Mean     Vol  Sharpe\n",
       "Gross Performance (excess)     NaN     NaN     NaN\n",
       "Net Performance (excess)       NaN     NaN     NaN\n",
       "SPY (excess)                0.0883  0.1461  0.6044"
      ]
     },
     "execution_count": 20,
     "metadata": {},
     "output_type": "execute_result"
    }
   ],
   "source": [
    "summary_stats(ltcm_ex[['Gross Performance (excess)','Net Performance (excess)','SPY (excess)']])"
   ]
  },
  {
   "cell_type": "markdown",
   "metadata": {},
   "source": [
    "(b) Report the skewness, kurtosis, and (historic) VaR(.05)."
   ]
  },
  {
   "cell_type": "code",
   "execution_count": 21,
   "metadata": {},
   "outputs": [
    {
     "data": {
      "text/html": [
       "<div>\n",
       "<style scoped>\n",
       "    .dataframe tbody tr th:only-of-type {\n",
       "        vertical-align: middle;\n",
       "    }\n",
       "\n",
       "    .dataframe tbody tr th {\n",
       "        vertical-align: top;\n",
       "    }\n",
       "\n",
       "    .dataframe thead th {\n",
       "        text-align: right;\n",
       "    }\n",
       "</style>\n",
       "<table border=\"1\" class=\"dataframe\">\n",
       "  <thead>\n",
       "    <tr style=\"text-align: right;\">\n",
       "      <th></th>\n",
       "      <th>Skew</th>\n",
       "      <th>Kurtosis</th>\n",
       "      <th>VaR (0.05)</th>\n",
       "    </tr>\n",
       "  </thead>\n",
       "  <tbody>\n",
       "    <tr>\n",
       "      <th>Gross Performance (excess)</th>\n",
       "      <td>NaN</td>\n",
       "      <td>NaN</td>\n",
       "      <td>NaN</td>\n",
       "    </tr>\n",
       "    <tr>\n",
       "      <th>Net Performance (excess)</th>\n",
       "      <td>NaN</td>\n",
       "      <td>NaN</td>\n",
       "      <td>NaN</td>\n",
       "    </tr>\n",
       "    <tr>\n",
       "      <th>SPY (excess)</th>\n",
       "      <td>-0.6025</td>\n",
       "      <td>1.2484</td>\n",
       "      <td>-0.0696</td>\n",
       "    </tr>\n",
       "  </tbody>\n",
       "</table>\n",
       "</div>"
      ],
      "text/plain": [
       "                              Skew  Kurtosis  VaR (0.05)\n",
       "Gross Performance (excess)     NaN       NaN         NaN\n",
       "Net Performance (excess)       NaN       NaN         NaN\n",
       "SPY (excess)               -0.6025    1.2484     -0.0696"
      ]
     },
     "execution_count": 21,
     "metadata": {},
     "output_type": "execute_result"
    }
   ],
   "source": [
    "tail_risk_stats(ltcm_ex[['Gross Performance (excess)','Net Performance (excess)','SPY (excess)']])"
   ]
  },
  {
   "cell_type": "markdown",
   "metadata": {},
   "source": [
    "(c) Comment on how these stats compare to SPY and other assets we have seen. How much\n",
    "do they differ between gross and net?\n",
    "\n",
    "The summary stats are great for the data in the exhibits, and even better if cut off at the end of 1997, at the time of the case.\n",
    "\n",
    "- Sharpe is very high relative to what we usually see.\n",
    "- Volatility is sized similarly to SPY, and minimum return is not too bad.\n",
    "\n",
    "Still, note that \n",
    "- SPY does amazing during this period, \n",
    "- so LTCM's returns while fantastic, are not an outlier relative to SPY.\n",
    "- In fact, if we include the 1998 data through July, the tail-risk statistics look worse for LTCM than for SPY.\n",
    "\n",
    "If we include the August crash,\n",
    "- All the performance looks bad relative to SPY, particularly the tail-risk.\n",
    "\n",
    "The difference between Gross and Net is not too large.\n",
    "- Obviously, the net returns are lower, but given how high LTCM returns are (especially through) 1997, the net returns still deliver a fantastic Sharpe and overall profile. Though one can note they are a bit lower than SPY."
   ]
  },
  {
   "cell_type": "markdown",
   "metadata": {},
   "source": [
    "## 2.2 Market Regression"
   ]
  },
  {
   "cell_type": "markdown",
   "metadata": {},
   "source": [
    ">$\\tilde{r}^{LTCM}_{t} = \\alpha + \\beta^{m}\\tilde{r}^{m}_{t}+\\epsilon_{t}$"
   ]
  },
  {
   "cell_type": "code",
   "execution_count": 22,
   "metadata": {},
   "outputs": [],
   "source": [
    "def regress(y, X, intercept = True, annual_fac=12):\n",
    "    if intercept == True:\n",
    "        X_ = sm.add_constant(X)\n",
    "        reg = sm.OLS(y, X_).fit()\n",
    "        reg_df = reg.params.to_frame('Regression Parameters')\n",
    "        reg_df.loc[r'$R^{2}$'] = reg.rsquared\n",
    "        reg_df.loc['const'] *= annual_fac\n",
    "    else:\n",
    "        reg = sm.OLS(y, X).fit()\n",
    "        reg_df = reg.params.to_frame('Regression Parameters')\n",
    "        reg_df.loc[r'$R^{2}$'] = reg.rsquared\n",
    "    \n",
    "    return reg_df"
   ]
  },
  {
   "cell_type": "markdown",
   "metadata": {},
   "source": [
    "(a) Report $\\alpha$ and $\\beta^{m}$. Report the $R^{2}$ stat."
   ]
  },
  {
   "cell_type": "code",
   "execution_count": 23,
   "metadata": {},
   "outputs": [
    {
     "data": {
      "text/html": [
       "<div>\n",
       "<style scoped>\n",
       "    .dataframe tbody tr th:only-of-type {\n",
       "        vertical-align: middle;\n",
       "    }\n",
       "\n",
       "    .dataframe tbody tr th {\n",
       "        vertical-align: top;\n",
       "    }\n",
       "\n",
       "    .dataframe thead th {\n",
       "        text-align: right;\n",
       "    }\n",
       "</style>\n",
       "<table border=\"1\" class=\"dataframe\">\n",
       "  <thead>\n",
       "    <tr style=\"text-align: right;\">\n",
       "      <th></th>\n",
       "      <th>Regression Parameters</th>\n",
       "    </tr>\n",
       "  </thead>\n",
       "  <tbody>\n",
       "    <tr>\n",
       "      <th>const</th>\n",
       "      <td>NaN</td>\n",
       "    </tr>\n",
       "    <tr>\n",
       "      <th>SPY (excess)</th>\n",
       "      <td>NaN</td>\n",
       "    </tr>\n",
       "    <tr>\n",
       "      <th>$R^{2}$</th>\n",
       "      <td>NaN</td>\n",
       "    </tr>\n",
       "  </tbody>\n",
       "</table>\n",
       "</div>"
      ],
      "text/plain": [
       "              Regression Parameters\n",
       "const                           NaN\n",
       "SPY (excess)                    NaN\n",
       "$R^{2}$                         NaN"
      ]
     },
     "execution_count": 23,
     "metadata": {},
     "output_type": "execute_result"
    }
   ],
   "source": [
    "regress(ltcm_ex['Net Performance (excess)'], ltcm_ex['SPY (excess)']) "
   ]
  },
  {
   "cell_type": "markdown",
   "metadata": {},
   "source": [
    "(b) From this regression, does LTCM appear to be a “closet indexer”?\n",
    "\n",
    "Definitely not. Correlation to the market is tiny and $\\beta$ is small. "
   ]
  },
  {
   "cell_type": "markdown",
   "metadata": {},
   "source": [
    "(c) From the regression, does LTCM appear to deliver excess returns beyond the risk premium we expect from market exposure?\n",
    "\n",
    "Yes, LTCM appears to deliver a large amount of excess returns beyond those expected from market exposure. The $\\alpha$ of the regression is large at 13.15% annualized. "
   ]
  },
  {
   "cell_type": "markdown",
   "metadata": {},
   "source": [
    "## 2.3 Quadratic Regression"
   ]
  },
  {
   "cell_type": "markdown",
   "metadata": {},
   "source": [
    ">$\\tilde{r}^{LTCM}_{t} = \\alpha + \\beta_{1}\\tilde{r}^{m}_{t}+ \\beta_{2}(\\tilde{r}^{m}_{t})^{2}+\\epsilon_{t}$"
   ]
  },
  {
   "cell_type": "markdown",
   "metadata": {},
   "source": [
    "(a) Report $\\beta_{1}$, $\\beta_{2}$, and the $R^{2}$ stat."
   ]
  },
  {
   "cell_type": "code",
   "execution_count": 24,
   "metadata": {},
   "outputs": [
    {
     "data": {
      "text/html": [
       "<div>\n",
       "<style scoped>\n",
       "    .dataframe tbody tr th:only-of-type {\n",
       "        vertical-align: middle;\n",
       "    }\n",
       "\n",
       "    .dataframe tbody tr th {\n",
       "        vertical-align: top;\n",
       "    }\n",
       "\n",
       "    .dataframe thead th {\n",
       "        text-align: right;\n",
       "    }\n",
       "</style>\n",
       "<table border=\"1\" class=\"dataframe\">\n",
       "  <thead>\n",
       "    <tr style=\"text-align: right;\">\n",
       "      <th></th>\n",
       "      <th>Regression Parameters</th>\n",
       "    </tr>\n",
       "  </thead>\n",
       "  <tbody>\n",
       "    <tr>\n",
       "      <th>const</th>\n",
       "      <td>NaN</td>\n",
       "    </tr>\n",
       "    <tr>\n",
       "      <th>SPY (excess)</th>\n",
       "      <td>NaN</td>\n",
       "    </tr>\n",
       "    <tr>\n",
       "      <th>SPY (excess) squared</th>\n",
       "      <td>NaN</td>\n",
       "    </tr>\n",
       "    <tr>\n",
       "      <th>$R^{2}$</th>\n",
       "      <td>NaN</td>\n",
       "    </tr>\n",
       "  </tbody>\n",
       "</table>\n",
       "</div>"
      ],
      "text/plain": [
       "                      Regression Parameters\n",
       "const                                   NaN\n",
       "SPY (excess)                            NaN\n",
       "SPY (excess) squared                    NaN\n",
       "$R^{2}$                                 NaN"
      ]
     },
     "execution_count": 24,
     "metadata": {},
     "output_type": "execute_result"
    }
   ],
   "source": [
    "ltcm_ex['SPY (excess) squared'] = ltcm_ex['SPY (excess)'] **2\n",
    "\n",
    "regress(ltcm_ex['Net Performance (excess)'], ltcm_ex[['SPY (excess)','SPY (excess) squared']]) "
   ]
  },
  {
   "cell_type": "markdown",
   "metadata": {},
   "source": [
    "(b) Does the quadratic market factor do much to increase the overall LTCM variation explained by the market?\n",
    "\n",
    "- The quadratic market factor does not add to $R^{2}$ to a significant degree.\n",
    "- Thus, quadratic movements of SPY are not significant in explaining LTCM variation.\n",
    "\n",
    "(c) From the regression evidence, does LTCM’s market exposure behave as if it is long market options or short market options?\n",
    "\n",
    "LTCM appears to be short market options as it has negative exposure to market volatility (this is what the quadratic market factor represents). \n",
    "\n",
    "(d) Should we describe LTCM as being positively or negatively exposed to market volatility?\n",
    "\n",
    "To the degree it has quadratic exposure, it is negative. This indicates LTCM underperforms particularly large SPY movements (whether on the upside or downside). Consequently, LTCM has negative exposure to market volatility. "
   ]
  },
  {
   "cell_type": "markdown",
   "metadata": {},
   "source": [
    "## 2.4 Asymmetric Regression"
   ]
  },
  {
   "cell_type": "markdown",
   "metadata": {},
   "source": [
    ">$\\tilde{r}^{LTCM}_{t} = \\alpha + \\beta\\tilde{r}^{m}_{t}+ \\beta_{u}max(\\tilde{r}^{m}_{t}-k_{1}, 0)+ \\beta_{d}max(k_{2}-\\tilde{r}^{m}_{t}, 0)+\\epsilon_{t}$"
   ]
  },
  {
   "cell_type": "markdown",
   "metadata": {},
   "source": [
    "(a) Report $\\beta$, $\\beta_{u}$, $\\beta_{d}$ and the $R^{2}$ stat."
   ]
  },
  {
   "cell_type": "code",
   "execution_count": 25,
   "metadata": {},
   "outputs": [
    {
     "data": {
      "text/html": [
       "<div>\n",
       "<style scoped>\n",
       "    .dataframe tbody tr th:only-of-type {\n",
       "        vertical-align: middle;\n",
       "    }\n",
       "\n",
       "    .dataframe tbody tr th {\n",
       "        vertical-align: top;\n",
       "    }\n",
       "\n",
       "    .dataframe thead th {\n",
       "        text-align: right;\n",
       "    }\n",
       "</style>\n",
       "<table border=\"1\" class=\"dataframe\">\n",
       "  <thead>\n",
       "    <tr style=\"text-align: right;\">\n",
       "      <th></th>\n",
       "      <th>Regression Parameters</th>\n",
       "    </tr>\n",
       "  </thead>\n",
       "  <tbody>\n",
       "    <tr>\n",
       "      <th>const</th>\n",
       "      <td>NaN</td>\n",
       "    </tr>\n",
       "    <tr>\n",
       "      <th>SPY (excess)</th>\n",
       "      <td>NaN</td>\n",
       "    </tr>\n",
       "    <tr>\n",
       "      <th>Up</th>\n",
       "      <td>NaN</td>\n",
       "    </tr>\n",
       "    <tr>\n",
       "      <th>Down</th>\n",
       "      <td>NaN</td>\n",
       "    </tr>\n",
       "    <tr>\n",
       "      <th>$R^{2}$</th>\n",
       "      <td>NaN</td>\n",
       "    </tr>\n",
       "  </tbody>\n",
       "</table>\n",
       "</div>"
      ],
      "text/plain": [
       "              Regression Parameters\n",
       "const                           NaN\n",
       "SPY (excess)                    NaN\n",
       "Up                              NaN\n",
       "Down                            NaN\n",
       "$R^{2}$                         NaN"
      ]
     },
     "execution_count": 25,
     "metadata": {},
     "output_type": "execute_result"
    }
   ],
   "source": [
    "k1 = .03\n",
    "k2 = -.03\n",
    "\n",
    "ltcm_ex['Up'] = (ltcm_ex['SPY (excess)'] - k1).clip(0)\n",
    "ltcm_ex['Down'] = (k2 - ltcm_ex['SPY (excess)']).clip(0)\n",
    "\n",
    "regress(ltcm_ex['Net Performance (excess)'], ltcm_ex[['SPY (excess)','Up','Down']])"
   ]
  },
  {
   "cell_type": "markdown",
   "metadata": {},
   "source": [
    "(b) Is LTCM long or short the call-like factor? And the put-like factor?\n",
    "\n",
    "- $\\beta^{Up}$ is negative so LTCM appears short the call-like factor.\n",
    "- $\\beta^{Down}$ is positive so LTCM appears long the put-like factor.\n",
    "\n",
    "(c) Which factor moves LTCM more, the call-like factor, or the put-like factor?\n",
    "\n",
    "The magnitude of the Down market $\\beta$ is larger, meaning that the put-like factor moves LTCM more.\n",
    "\n",
    "(d) In the previous problem, you commented on whether LTCM is positively or negatively exposed to market volatility. Using this current regression, does this volatility exposure come more from being long the market’s upside? Short the market’s downside? Something else?\n",
    "\n",
    "In the previous problem we commented that LTCM is negatively exposed to market vol. This volatility exposure must come more from being short the market's upside, as LTCM is short the call-like factor and long the put-like factor. "
   ]
  },
  {
   "cell_type": "markdown",
   "metadata": {},
   "source": [
    "## 3 The FX Carry Trade"
   ]
  },
  {
   "cell_type": "markdown",
   "metadata": {},
   "source": [
    "## Two Data Sources\n",
    "\n",
    "The original data set for the homework, `fx_carry_data.xlsx`, reported the **annualized** risk-free rate. \n",
    "- The Homework instructions did not tell you to divide the risk-free rates by 12, to change them to monthly rates. While I think this should have been apparent, it is fine if you used the data in its annualized form--but your results will be **very** different, and very unrealistic.\n",
    "\n",
    "- If you did make this adjustment, you just divided the risk-free rates by 12. Note that LIBOR rates are reported using simple compounding, so we are fine to just multiply the rate by 1/12. This will be a bit different than the true, compounded, return. For our purposes it is not a big deal.\n",
    "\n",
    "If you would like a clean set of data, use `fx_carry_data_v2.xlsx`.\n",
    "- It reports the risk-free rates in a monthly scaling.\n",
    "- It also pulls the LIBOR data from 1-month LIBOR instead of the original 3-month LIBOR. Thus, this set is more appropriate for our one-month trade-horizon considerations."
   ]
  },
  {
   "cell_type": "code",
   "execution_count": 27,
   "metadata": {},
   "outputs": [
    {
     "data": {
      "text/html": [
       "<div>\n",
       "<style scoped>\n",
       "    .dataframe tbody tr th:only-of-type {\n",
       "        vertical-align: middle;\n",
       "    }\n",
       "\n",
       "    .dataframe tbody tr th {\n",
       "        vertical-align: top;\n",
       "    }\n",
       "\n",
       "    .dataframe thead th {\n",
       "        text-align: right;\n",
       "    }\n",
       "</style>\n",
       "<table border=\"1\" class=\"dataframe\">\n",
       "  <thead>\n",
       "    <tr style=\"text-align: right;\">\n",
       "      <th></th>\n",
       "      <th>USD1M</th>\n",
       "      <th>GBP1M</th>\n",
       "      <th>EUR1M</th>\n",
       "      <th>CHF1M</th>\n",
       "      <th>JPY1M</th>\n",
       "    </tr>\n",
       "    <tr>\n",
       "      <th>DATE</th>\n",
       "      <th></th>\n",
       "      <th></th>\n",
       "      <th></th>\n",
       "      <th></th>\n",
       "      <th></th>\n",
       "    </tr>\n",
       "  </thead>\n",
       "  <tbody>\n",
       "    <tr>\n",
       "      <th>1999-01-31</th>\n",
       "      <td>0.0041</td>\n",
       "      <td>0.0049</td>\n",
       "      <td>0.0026</td>\n",
       "      <td>0.0010</td>\n",
       "      <td>3.3458e-04</td>\n",
       "    </tr>\n",
       "    <tr>\n",
       "      <th>1999-02-28</th>\n",
       "      <td>0.0041</td>\n",
       "      <td>0.0046</td>\n",
       "      <td>0.0026</td>\n",
       "      <td>0.0010</td>\n",
       "      <td>2.3226e-04</td>\n",
       "    </tr>\n",
       "    <tr>\n",
       "      <th>1999-03-31</th>\n",
       "      <td>0.0041</td>\n",
       "      <td>0.0044</td>\n",
       "      <td>0.0025</td>\n",
       "      <td>0.0010</td>\n",
       "      <td>1.4270e-04</td>\n",
       "    </tr>\n",
       "    <tr>\n",
       "      <th>1999-04-30</th>\n",
       "      <td>0.0041</td>\n",
       "      <td>0.0044</td>\n",
       "      <td>0.0021</td>\n",
       "      <td>0.0008</td>\n",
       "      <td>9.8953e-05</td>\n",
       "    </tr>\n",
       "    <tr>\n",
       "      <th>1999-05-31</th>\n",
       "      <td>0.0041</td>\n",
       "      <td>0.0044</td>\n",
       "      <td>0.0021</td>\n",
       "      <td>0.0008</td>\n",
       "      <td>7.4997e-05</td>\n",
       "    </tr>\n",
       "  </tbody>\n",
       "</table>\n",
       "</div>"
      ],
      "text/plain": [
       "             USD1M   GBP1M   EUR1M   CHF1M       JPY1M\n",
       "DATE                                                  \n",
       "1999-01-31  0.0041  0.0049  0.0026  0.0010  3.3458e-04\n",
       "1999-02-28  0.0041  0.0046  0.0026  0.0010  2.3226e-04\n",
       "1999-03-31  0.0041  0.0044  0.0025  0.0010  1.4270e-04\n",
       "1999-04-30  0.0041  0.0044  0.0021  0.0008  9.8953e-05\n",
       "1999-05-31  0.0041  0.0044  0.0021  0.0008  7.4997e-05"
      ]
     },
     "execution_count": 27,
     "metadata": {},
     "output_type": "execute_result"
    }
   ],
   "source": [
    "rf = pd.read_excel('../data/fx_carry_data_v2.xlsx', sheet_name = 1).set_index('DATE')\n",
    "\n",
    "log_rf = np.log(1 + rf)\n",
    "\n",
    "log_rf.head()"
   ]
  },
  {
   "cell_type": "code",
   "execution_count": 28,
   "metadata": {},
   "outputs": [
    {
     "data": {
      "text/html": [
       "<div>\n",
       "<style scoped>\n",
       "    .dataframe tbody tr th:only-of-type {\n",
       "        vertical-align: middle;\n",
       "    }\n",
       "\n",
       "    .dataframe tbody tr th {\n",
       "        vertical-align: top;\n",
       "    }\n",
       "\n",
       "    .dataframe thead th {\n",
       "        text-align: right;\n",
       "    }\n",
       "</style>\n",
       "<table border=\"1\" class=\"dataframe\">\n",
       "  <thead>\n",
       "    <tr style=\"text-align: right;\">\n",
       "      <th></th>\n",
       "      <th>USUK</th>\n",
       "      <th>USEU</th>\n",
       "      <th>USSZ</th>\n",
       "      <th>USJP</th>\n",
       "    </tr>\n",
       "    <tr>\n",
       "      <th>DATE</th>\n",
       "      <th></th>\n",
       "      <th></th>\n",
       "      <th></th>\n",
       "      <th></th>\n",
       "    </tr>\n",
       "  </thead>\n",
       "  <tbody>\n",
       "    <tr>\n",
       "      <th>1999-01-31</th>\n",
       "      <td>0.4982</td>\n",
       "      <td>0.1285</td>\n",
       "      <td>-0.3484</td>\n",
       "      <td>-4.7536</td>\n",
       "    </tr>\n",
       "    <tr>\n",
       "      <th>1999-02-28</th>\n",
       "      <td>0.4717</td>\n",
       "      <td>0.0949</td>\n",
       "      <td>-0.3712</td>\n",
       "      <td>-4.7766</td>\n",
       "    </tr>\n",
       "    <tr>\n",
       "      <th>1999-03-31</th>\n",
       "      <td>0.4787</td>\n",
       "      <td>0.0777</td>\n",
       "      <td>-0.3904</td>\n",
       "      <td>-4.7743</td>\n",
       "    </tr>\n",
       "    <tr>\n",
       "      <th>1999-04-30</th>\n",
       "      <td>0.4753</td>\n",
       "      <td>0.0549</td>\n",
       "      <td>-0.4225</td>\n",
       "      <td>-4.7827</td>\n",
       "    </tr>\n",
       "    <tr>\n",
       "      <th>1999-05-31</th>\n",
       "      <td>0.4713</td>\n",
       "      <td>0.0413</td>\n",
       "      <td>-0.4240</td>\n",
       "      <td>-4.7948</td>\n",
       "    </tr>\n",
       "  </tbody>\n",
       "</table>\n",
       "</div>"
      ],
      "text/plain": [
       "              USUK    USEU    USSZ    USJP\n",
       "DATE                                      \n",
       "1999-01-31  0.4982  0.1285 -0.3484 -4.7536\n",
       "1999-02-28  0.4717  0.0949 -0.3712 -4.7766\n",
       "1999-03-31  0.4787  0.0777 -0.3904 -4.7743\n",
       "1999-04-30  0.4753  0.0549 -0.4225 -4.7827\n",
       "1999-05-31  0.4713  0.0413 -0.4240 -4.7948"
      ]
     },
     "execution_count": 28,
     "metadata": {},
     "output_type": "execute_result"
    }
   ],
   "source": [
    "fx = pd.read_excel('../data/fx_carry_data_v2.xlsx', sheet_name = 2).set_index('DATE')\n",
    "\n",
    "log_fx = np.log(fx)\n",
    "\n",
    "log_fx.head()"
   ]
  },
  {
   "cell_type": "markdown",
   "metadata": {},
   "source": [
    "Timing of the risk-free rate:\n",
    "- The data is defined such that the March value of the risk-free rate corresponds to the rate beginning in March and ending in April.\n",
    "- In terms of the class notation, $r^{f,i}_{t,t+1}$ is reported at time $t$. (It is risk-free, so it is a rate from $t$ to $t+1$ but it is know at $t$."
   ]
  },
  {
   "cell_type": "markdown",
   "metadata": {},
   "source": [
    "## 3.1 The Static Carry Trade"
   ]
  },
  {
   "cell_type": "code",
   "execution_count": 29,
   "metadata": {},
   "outputs": [
    {
     "data": {
      "text/html": [
       "<div>\n",
       "<style scoped>\n",
       "    .dataframe tbody tr th:only-of-type {\n",
       "        vertical-align: middle;\n",
       "    }\n",
       "\n",
       "    .dataframe tbody tr th {\n",
       "        vertical-align: top;\n",
       "    }\n",
       "\n",
       "    .dataframe thead th {\n",
       "        text-align: right;\n",
       "    }\n",
       "</style>\n",
       "<table border=\"1\" class=\"dataframe\">\n",
       "  <thead>\n",
       "    <tr style=\"text-align: right;\">\n",
       "      <th></th>\n",
       "      <th>USUK</th>\n",
       "      <th>USEU</th>\n",
       "      <th>USSZ</th>\n",
       "      <th>USJP</th>\n",
       "    </tr>\n",
       "    <tr>\n",
       "      <th>DATE</th>\n",
       "      <th></th>\n",
       "      <th></th>\n",
       "      <th></th>\n",
       "      <th></th>\n",
       "    </tr>\n",
       "  </thead>\n",
       "  <tbody>\n",
       "    <tr>\n",
       "      <th>1999-02-28</th>\n",
       "      <td>-0.0257</td>\n",
       "      <td>-0.0351</td>\n",
       "      <td>-0.0259</td>\n",
       "      <td>-0.0268</td>\n",
       "    </tr>\n",
       "    <tr>\n",
       "      <th>1999-03-31</th>\n",
       "      <td>0.0075</td>\n",
       "      <td>-0.0187</td>\n",
       "      <td>-0.0222</td>\n",
       "      <td>-0.0016</td>\n",
       "    </tr>\n",
       "    <tr>\n",
       "      <th>1999-04-30</th>\n",
       "      <td>-0.0031</td>\n",
       "      <td>-0.0245</td>\n",
       "      <td>-0.0352</td>\n",
       "      <td>-0.0124</td>\n",
       "    </tr>\n",
       "    <tr>\n",
       "      <th>1999-05-31</th>\n",
       "      <td>-0.0037</td>\n",
       "      <td>-0.0155</td>\n",
       "      <td>-0.0048</td>\n",
       "      <td>-0.0160</td>\n",
       "    </tr>\n",
       "    <tr>\n",
       "      <th>1999-06-30</th>\n",
       "      <td>-0.0157</td>\n",
       "      <td>-0.0128</td>\n",
       "      <td>-0.0211</td>\n",
       "      <td>-0.0045</td>\n",
       "    </tr>\n",
       "  </tbody>\n",
       "</table>\n",
       "</div>"
      ],
      "text/plain": [
       "              USUK    USEU    USSZ    USJP\n",
       "DATE                                      \n",
       "1999-02-28 -0.0257 -0.0351 -0.0259 -0.0268\n",
       "1999-03-31  0.0075 -0.0187 -0.0222 -0.0016\n",
       "1999-04-30 -0.0031 -0.0245 -0.0352 -0.0124\n",
       "1999-05-31 -0.0037 -0.0155 -0.0048 -0.0160\n",
       "1999-06-30 -0.0157 -0.0128 -0.0211 -0.0045"
      ]
     },
     "execution_count": 29,
     "metadata": {},
     "output_type": "execute_result"
    }
   ],
   "source": [
    "log_rf_ex = log_rf.subtract(log_rf['USD1M'], axis=0)[log_rf.columns[1:]]\n",
    "\n",
    "log_rf_ex_col = log_rf_ex.copy()\n",
    "\n",
    "log_rf_ex_col.columns = log_fx.columns\n",
    "\n",
    "ret = (log_rf_ex_col.shift() + log_fx.diff()).dropna()\n",
    "\n",
    "ret.head()"
   ]
  },
  {
   "cell_type": "code",
   "execution_count": 30,
   "metadata": {},
   "outputs": [
    {
     "data": {
      "text/html": [
       "<div>\n",
       "<style scoped>\n",
       "    .dataframe tbody tr th:only-of-type {\n",
       "        vertical-align: middle;\n",
       "    }\n",
       "\n",
       "    .dataframe tbody tr th {\n",
       "        vertical-align: top;\n",
       "    }\n",
       "\n",
       "    .dataframe thead th {\n",
       "        text-align: right;\n",
       "    }\n",
       "</style>\n",
       "<table border=\"1\" class=\"dataframe\">\n",
       "  <thead>\n",
       "    <tr style=\"text-align: right;\">\n",
       "      <th></th>\n",
       "      <th>Mean</th>\n",
       "      <th>Vol</th>\n",
       "      <th>Sharpe</th>\n",
       "    </tr>\n",
       "  </thead>\n",
       "  <tbody>\n",
       "    <tr>\n",
       "      <th>USUK</th>\n",
       "      <td>-0.0035</td>\n",
       "      <td>0.0863</td>\n",
       "      <td>-0.0406</td>\n",
       "    </tr>\n",
       "    <tr>\n",
       "      <th>USEU</th>\n",
       "      <td>-0.0044</td>\n",
       "      <td>0.0947</td>\n",
       "      <td>-0.0459</td>\n",
       "    </tr>\n",
       "    <tr>\n",
       "      <th>USSZ</th>\n",
       "      <td>0.0043</td>\n",
       "      <td>0.0988</td>\n",
       "      <td>0.0437</td>\n",
       "    </tr>\n",
       "    <tr>\n",
       "      <th>USJP</th>\n",
       "      <td>-0.0174</td>\n",
       "      <td>0.0915</td>\n",
       "      <td>-0.1903</td>\n",
       "    </tr>\n",
       "  </tbody>\n",
       "</table>\n",
       "</div>"
      ],
      "text/plain": [
       "        Mean     Vol  Sharpe\n",
       "USUK -0.0035  0.0863 -0.0406\n",
       "USEU -0.0044  0.0947 -0.0459\n",
       "USSZ  0.0043  0.0988  0.0437\n",
       "USJP -0.0174  0.0915 -0.1903"
      ]
     },
     "execution_count": 30,
     "metadata": {},
     "output_type": "execute_result"
    }
   ],
   "source": [
    "summary_stats(ret)"
   ]
  },
  {
   "cell_type": "markdown",
   "metadata": {},
   "source": [
    "What differences do you see across currencies?\n",
    "\n",
    "Mean returns are tiny and tend to be negative for currency pairs apart from the US dollar and the Swiss franc. The only returns of notable magnitude stem from the USD and JPY trade."
   ]
  },
  {
   "cell_type": "markdown",
   "metadata": {},
   "source": [
    "## 3.2 Implications for UIP\n",
    "\n",
    "(a)  Do any of these stats contradict the (log version) of Uncovered Interest Parity (UIP)?\n",
    "\n",
    "The results above are evidence against UIP, but not strong evidence.\n",
    "- UIP implies that the mean excess return should be zero. The USD and JPY trade seems to have a mean excess return significantly different from zero.\n",
    "\n",
    "- The evidence from the other currencies is not clear. Their mean excess return is not exactly zero, but they are so close to zero that they may not be statistically significant.\n",
    "\n",
    "- Note that UIP makes no implication about the volatility of these excess returns.\n",
    "\n",
    "(b) A long position in which foreign currency offered the best Sharpe ratio over the sample?\n",
    "- Being long CHF would have delivered a small positive mean excess log return, but a poor Sharpe.\n",
    "- The best trade would have been to be short JPY and long USD. This delivered a small but positive mean return and Sharpe.\n",
    "\n",
    "(c) Are there any foreign currencies for which a long position earned a negative excess return (in USD) over the sample?\n",
    "\n",
    "A long position in three of the currencies had negative mean excess (log) returns!"
   ]
  },
  {
   "cell_type": "markdown",
   "metadata": {},
   "source": [
    "## 3.3 Predicting FX\n",
    "\n",
    "> $s^{i}_{t+1}-s^{i}_{t}=\\alpha^{i}+\\beta^{i}(r^{f,$}_{t,t+1}-r^{f,i}_{t,t+1})+\\epsilon^{i}_{t+1}$"
   ]
  },
  {
   "cell_type": "markdown",
   "metadata": {},
   "source": [
    "(a) Make a table with columns corresponding to a different currency regression. Report the regression estimates $\\alpha^{i}$ and $\\beta^{i}$ in the first two rows. Report the $R^{2}$ stat in the third row."
   ]
  },
  {
   "cell_type": "code",
   "execution_count": 31,
   "metadata": {},
   "outputs": [
    {
     "data": {
      "text/html": [
       "<div>\n",
       "<style scoped>\n",
       "    .dataframe tbody tr th:only-of-type {\n",
       "        vertical-align: middle;\n",
       "    }\n",
       "\n",
       "    .dataframe tbody tr th {\n",
       "        vertical-align: top;\n",
       "    }\n",
       "\n",
       "    .dataframe thead th {\n",
       "        text-align: right;\n",
       "    }\n",
       "</style>\n",
       "<table border=\"1\" class=\"dataframe\">\n",
       "  <thead>\n",
       "    <tr style=\"text-align: right;\">\n",
       "      <th></th>\n",
       "      <th>USUK</th>\n",
       "      <th>USEU</th>\n",
       "      <th>USSZ</th>\n",
       "      <th>USJP</th>\n",
       "    </tr>\n",
       "  </thead>\n",
       "  <tbody>\n",
       "    <tr>\n",
       "      <th>$\\alpha^{i}$</th>\n",
       "      <td>-0.0059</td>\n",
       "      <td>0.0070</td>\n",
       "      <td>0.0436</td>\n",
       "      <td>-0.0060</td>\n",
       "    </tr>\n",
       "    <tr>\n",
       "      <th>$\\beta^{i}$</th>\n",
       "      <td>0.4858</td>\n",
       "      <td>-1.2564</td>\n",
       "      <td>-1.6466</td>\n",
       "      <td>0.3715</td>\n",
       "    </tr>\n",
       "    <tr>\n",
       "      <th>$R^{2}$</th>\n",
       "      <td>0.0004</td>\n",
       "      <td>0.0026</td>\n",
       "      <td>0.0039</td>\n",
       "      <td>0.0005</td>\n",
       "    </tr>\n",
       "  </tbody>\n",
       "</table>\n",
       "</div>"
      ],
      "text/plain": [
       "                USUK    USEU    USSZ    USJP\n",
       "$\\alpha^{i}$ -0.0059  0.0070  0.0436 -0.0060\n",
       "$\\beta^{i}$   0.4858 -1.2564 -1.6466  0.3715\n",
       "$R^{2}$       0.0004  0.0026  0.0039  0.0005"
      ]
     },
     "execution_count": 31,
     "metadata": {},
     "output_type": "execute_result"
    }
   ],
   "source": [
    "ys = log_fx.diff().dropna()\n",
    "Xs = -log_rf_ex.shift().dropna()\n",
    "\n",
    "fx_reg_pred = pd.DataFrame(data = None, index = [r'$\\alpha^{i}$',r'$\\beta^{i}$',r'$R^{2}$'])\n",
    "\n",
    "for i in range(0,len(ys.columns)):\n",
    "    fx_reg_pred[ys.columns[i]] = regress(ys[ys.columns[i]],Xs[Xs.columns[i]])['Regression Parameters'].values\n",
    "    \n",
    "fx_reg_pred"
   ]
  },
  {
   "cell_type": "markdown",
   "metadata": {},
   "source": [
    "## 3.4 Dynamic Carry Trade"
   ]
  },
  {
   "cell_type": "code",
   "execution_count": 32,
   "metadata": {},
   "outputs": [
    {
     "data": {
      "text/html": [
       "<div>\n",
       "<style scoped>\n",
       "    .dataframe tbody tr th:only-of-type {\n",
       "        vertical-align: middle;\n",
       "    }\n",
       "\n",
       "    .dataframe tbody tr th {\n",
       "        vertical-align: top;\n",
       "    }\n",
       "\n",
       "    .dataframe thead th {\n",
       "        text-align: right;\n",
       "    }\n",
       "</style>\n",
       "<table border=\"1\" class=\"dataframe\">\n",
       "  <thead>\n",
       "    <tr style=\"text-align: right;\">\n",
       "      <th></th>\n",
       "      <th>USUK</th>\n",
       "      <th>USEU</th>\n",
       "      <th>USSZ</th>\n",
       "      <th>USJP</th>\n",
       "    </tr>\n",
       "    <tr>\n",
       "      <th>DATE</th>\n",
       "      <th></th>\n",
       "      <th></th>\n",
       "      <th></th>\n",
       "      <th></th>\n",
       "    </tr>\n",
       "  </thead>\n",
       "  <tbody>\n",
       "    <tr>\n",
       "      <th>1999-02-28</th>\n",
       "      <td>-6.8394e-05</td>\n",
       "      <td>-0.0028</td>\n",
       "      <td>-0.0046</td>\n",
       "      <td>-0.0029</td>\n",
       "    </tr>\n",
       "    <tr>\n",
       "      <th>1999-03-31</th>\n",
       "      <td>-2.3875e-04</td>\n",
       "      <td>-0.0029</td>\n",
       "      <td>-0.0046</td>\n",
       "      <td>-0.0029</td>\n",
       "    </tr>\n",
       "    <tr>\n",
       "      <th>1999-04-30</th>\n",
       "      <td>-3.2543e-04</td>\n",
       "      <td>-0.0031</td>\n",
       "      <td>-0.0046</td>\n",
       "      <td>-0.0030</td>\n",
       "    </tr>\n",
       "    <tr>\n",
       "      <th>1999-05-31</th>\n",
       "      <td>-3.2588e-04</td>\n",
       "      <td>-0.0038</td>\n",
       "      <td>-0.0050</td>\n",
       "      <td>-0.0030</td>\n",
       "    </tr>\n",
       "    <tr>\n",
       "      <th>1999-06-30</th>\n",
       "      <td>-3.3511e-04</td>\n",
       "      <td>-0.0039</td>\n",
       "      <td>-0.0050</td>\n",
       "      <td>-0.0030</td>\n",
       "    </tr>\n",
       "  </tbody>\n",
       "</table>\n",
       "</div>"
      ],
      "text/plain": [
       "                  USUK    USEU    USSZ    USJP\n",
       "DATE                                          \n",
       "1999-02-28 -6.8394e-05 -0.0028 -0.0046 -0.0029\n",
       "1999-03-31 -2.3875e-04 -0.0029 -0.0046 -0.0029\n",
       "1999-04-30 -3.2543e-04 -0.0031 -0.0046 -0.0030\n",
       "1999-05-31 -3.2588e-04 -0.0038 -0.0050 -0.0030\n",
       "1999-06-30 -3.3511e-04 -0.0039 -0.0050 -0.0030"
      ]
     },
     "execution_count": 32,
     "metadata": {},
     "output_type": "execute_result"
    }
   ],
   "source": [
    "alphas = (fx_reg_pred.loc[r'$\\alpha^{i}$'] / 12)\n",
    "betas = fx_reg_pred.loc[r'$\\beta^{i}$']\n",
    "Xs.columns = fx_reg_pred.columns\n",
    "\n",
    "ret_ex_forecast = alphas.values + ((betas - 1) * Xs)\n",
    "\n",
    "ret_ex_forecast.head()"
   ]
  },
  {
   "cell_type": "markdown",
   "metadata": {},
   "source": [
    "(a) Use your regression estimates from Problem 3 along with the formula above to calculate the fraction of months for which the estimated FX risk premium positive. That is, for each $i$, calculate how often in the time-series we have:\n",
    "> $E_{t}[\\tilde{r}^{i}_{t+1}]>0$"
   ]
  },
  {
   "cell_type": "code",
   "execution_count": 33,
   "metadata": {},
   "outputs": [
    {
     "data": {
      "text/html": [
       "<div>\n",
       "<style scoped>\n",
       "    .dataframe tbody tr th:only-of-type {\n",
       "        vertical-align: middle;\n",
       "    }\n",
       "\n",
       "    .dataframe tbody tr th {\n",
       "        vertical-align: top;\n",
       "    }\n",
       "\n",
       "    .dataframe thead th {\n",
       "        text-align: right;\n",
       "    }\n",
       "</style>\n",
       "<table border=\"1\" class=\"dataframe\">\n",
       "  <thead>\n",
       "    <tr style=\"text-align: right;\">\n",
       "      <th></th>\n",
       "      <th>USUK</th>\n",
       "      <th>USEU</th>\n",
       "      <th>USSZ</th>\n",
       "      <th>USJP</th>\n",
       "    </tr>\n",
       "  </thead>\n",
       "  <tbody>\n",
       "    <tr>\n",
       "      <th>% of Months</th>\n",
       "      <td>23.8095</td>\n",
       "      <td>50.1832</td>\n",
       "      <td>63.0037</td>\n",
       "      <td>0.0</td>\n",
       "    </tr>\n",
       "  </tbody>\n",
       "</table>\n",
       "</div>"
      ],
      "text/plain": [
       "                USUK     USEU     USSZ  USJP\n",
       "% of Months  23.8095  50.1832  63.0037   0.0"
      ]
     },
     "execution_count": 33,
     "metadata": {},
     "output_type": "execute_result"
    }
   ],
   "source": [
    "month_frac = pd.DataFrame(data = None, columns = ret_ex_forecast.columns, index = ['% of Months'])\n",
    "\n",
    "for col in ret_ex_forecast.columns:\n",
    "    month_frac[col] = (len(ret_ex_forecast[ret_ex_forecast[col] > 0])/len(ret_ex_forecast)) * 100\n",
    "\n",
    "ret_ex_forecast\n",
    "\n",
    "month_frac"
   ]
  },
  {
   "cell_type": "markdown",
   "metadata": {},
   "source": [
    "(b) Which currencies most consistently have a positive FX risk premium? And for which currencies does the FX risk premium most often go negative?\n",
    "\n",
    "Though the static carry-trade of section 3.3 found that UK and EU have negative mean excess (log) returns, the dynamic carry trade finds that the time-varying forecast is often positive.\n",
    "\n",
    "For JP, the forecast is negative throughout the sample due to the much higher interest rate in USD not being offset by appreciation of the Yen to the USD.\n",
    "\n",
    "(c) Explain how we could use these conditional risk premia to improve the static carry trade returns calculated in Problem 1.\n",
    "\n",
    "Just as in HW7, we can use forecasts of excess returns to construct trading positions, (weights,) which vary with the forecasts. The resulting trading strategy should be better than the static carry trade.\n",
    "\n",
    "That is, we could time the magnitude and direction of the currency trades instead of being passively 100\\% invested in a currency according to the evidence in 3.3.\n",
    "\n",
    "It is analagous to timing the trading of SPY according to the Earnings-Price Ratio instead of being passively 100\\% invested in SPY.\n",
    "\n",
    "Of course, it is an open question as to whether this will work given the weak R-squared in-sample, let alone out-of-sample."
   ]
  }
 ],
 "metadata": {
  "kernelspec": {
   "display_name": "Python 3.7.4 ('base')",
   "language": "python",
   "name": "python3"
  },
  "language_info": {
   "codemirror_mode": {
    "name": "ipython",
    "version": 3
   },
   "file_extension": ".py",
   "mimetype": "text/x-python",
   "name": "python",
   "nbconvert_exporter": "python",
   "pygments_lexer": "ipython3",
   "version": "3.7.4"
  },
  "vscode": {
   "interpreter": {
    "hash": "8aba7c7331238ad8bef3d07aa03cf759b24ea56e2341769d4c660500293a6aca"
   }
  }
 },
 "nbformat": 4,
 "nbformat_minor": 4
}
