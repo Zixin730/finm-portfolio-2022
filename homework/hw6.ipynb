{
 "cells": [
  {
   "cell_type": "code",
   "execution_count": 70,
   "metadata": {},
   "outputs": [],
   "source": [
    "import pandas as pd\n",
    "import numpy as np\n",
    "import matplotlib.pyplot as plt\n",
    "import statsmodels.api as sm\n",
    "from arch import arch_model\n",
    "from arch.univariate import GARCH, EWMAVariance\n",
    "from sklearn import linear_model\n",
    "import scipy.stats as stats\n",
    "from statsmodels.regression.rolling import RollingOLS\n",
    "import seaborn as sns\n",
    "import warnings\n",
    "import ast\n",
    "warnings.filterwarnings(\"ignore\")\n",
    "pd.set_option(\"display.precision\", 4)"
   ]
  },
  {
   "cell_type": "markdown",
   "metadata": {},
   "source": [
    "### Data"
   ]
  },
  {
   "cell_type": "code",
   "execution_count": 71,
   "metadata": {},
   "outputs": [],
   "source": [
    "mom_factor = pd.read_excel(\"../data/momentum_data.xlsx\", sheet_name=2, index_col=0)\n",
    "mom_decile = pd.read_excel(\n",
    "    \"../data/momentum_data.xlsx\", sheet_name=3, index_col=0)\n",
    "mom_size = pd.read_excel(\"../data/momentum_data.xlsx\",\n",
    "                         sheet_name=4, index_col=0)"
   ]
  },
  {
   "cell_type": "code",
   "execution_count": 72,
   "metadata": {},
   "outputs": [],
   "source": [
    "factor_ret = pd.read_excel(\"../data/momentum_data.xlsx\", sheet_name=1, index_col=0)\n",
    "rf = pd.read_excel(\"../data/momentum_data.xlsx\", sheet_name=5, index_col=0)"
   ]
  },
  {
   "cell_type": "markdown",
   "metadata": {},
   "source": [
    "## Function"
   ]
  },
  {
   "cell_type": "code",
   "execution_count": 73,
   "metadata": {},
   "outputs": [],
   "source": [
    "def sub_summarize(df, year_list, r, annualize=12):\n",
    "    col_name = [\"mean\", \"vol\", \"Sharpe\", \"skewness\"]\n",
    "    corr_name = [i+\"_corr\" for i in r.columns]\n",
    "    res = pd.DataFrame(columns=col_name.extend(corr_name))\n",
    "    i = 0\n",
    "    for y in year_list:\n",
    "        sub1 = df.loc[y[0]: y[1]]\n",
    "        sub2 = r.loc[y[0]: y[1]]\n",
    "        res.loc[i, \"mean\"] = sub1.mean() * annualize\n",
    "        res.loc[i, \"vol\"] = sub1.std() * np.sqrt(annualize)\n",
    "        res.loc[i, \"Sharpe\"] = res.loc[i, \"mean\"]/res.loc[i, \"vol\"]\n",
    "        res.loc[i, \"skewness\"] = sub1.skew()\n",
    "\n",
    "        res.loc[i, corr_name] = np.corrcoef(sub1, sub2, rowvar=False)[0, 1:]\n",
    "        i += 1\n",
    "    res.index = pd.Series([repr(y)[1:-1] for y in year_list])\n",
    "    return res\n",
    "\n",
    "\n",
    "def summary_stat(df, r, year, annual_factor):\n",
    "    '''summary assets' mean return, voaltility(stdev) and sharpe ratio'''\n",
    "    result = pd.DataFrame()\n",
    "    corr_name = [i+\"_corr\" for i in r.columns]\n",
    "    df = df.loc[year[0]: year[1]].copy()\n",
    "    r = r.loc[year[0]: year[1]].copy()\n",
    "    result[\"mean\"] = df.mean() * annual_factor\n",
    "    result[\"vol\"] = df.std() * np.sqrt(annual_factor)\n",
    "    result[\"Sharpe\"] = result[\"mean\"]/result[\"vol\"]\n",
    "    result[\"skewness\"] = df.skew()\n",
    "\n",
    "    result[corr_name] = np.corrcoef(r, df, rowvar=False)[\n",
    "        r.shape[1]:, :r.shape[1]]\n",
    "    return result\n"
   ]
  },
  {
   "cell_type": "markdown",
   "metadata": {},
   "source": [
    "# 2.Investigating Momentum\n",
    "## 2.1 Is momentum still profitable?\n",
    "### (a) Using the data provided, fill in Table 1 with the appropriate stats for $r^{mom:FF}$"
   ]
  },
  {
   "cell_type": "code",
   "execution_count": 74,
   "metadata": {},
   "outputs": [
    {
     "data": {
      "text/plain": [
       "Index(['SMALL LoPRIOR', 'ME1 PRIOR2', 'SMALL HiPRIOR', 'BIG LoPRIOR',\n",
       "       'ME2 PRIOR2', 'BIG HiPRIOR'],\n",
       "      dtype='object')"
      ]
     },
     "execution_count": 74,
     "metadata": {},
     "output_type": "execute_result"
    }
   ],
   "source": [
    "mom_size.columns"
   ]
  },
  {
   "cell_type": "code",
   "execution_count": 75,
   "metadata": {},
   "outputs": [
    {
     "data": {
      "text/html": [
       "<div>\n",
       "<style scoped>\n",
       "    .dataframe tbody tr th:only-of-type {\n",
       "        vertical-align: middle;\n",
       "    }\n",
       "\n",
       "    .dataframe tbody tr th {\n",
       "        vertical-align: top;\n",
       "    }\n",
       "\n",
       "    .dataframe thead th {\n",
       "        text-align: right;\n",
       "    }\n",
       "</style>\n",
       "<table border=\"1\" class=\"dataframe\">\n",
       "  <thead>\n",
       "    <tr style=\"text-align: right;\">\n",
       "      <th></th>\n",
       "      <th>mean</th>\n",
       "      <th>vol</th>\n",
       "      <th>Sharpe</th>\n",
       "      <th>skewness</th>\n",
       "      <th>MKT_corr</th>\n",
       "      <th>HML_corr</th>\n",
       "    </tr>\n",
       "  </thead>\n",
       "  <tbody>\n",
       "    <tr>\n",
       "      <th>'1927', '2022'</th>\n",
       "      <td>0.0772</td>\n",
       "      <td>0.1626</td>\n",
       "      <td>0.4749</td>\n",
       "      <td>-3.0157</td>\n",
       "      <td>-0.3448</td>\n",
       "      <td>-0.4176</td>\n",
       "    </tr>\n",
       "    <tr>\n",
       "      <th>'1927', '1993'</th>\n",
       "      <td>0.0901</td>\n",
       "      <td>0.1600</td>\n",
       "      <td>0.5630</td>\n",
       "      <td>-3.8093</td>\n",
       "      <td>-0.3625</td>\n",
       "      <td>-0.4949</td>\n",
       "    </tr>\n",
       "    <tr>\n",
       "      <th>'1994', '2008'</th>\n",
       "      <td>0.1043</td>\n",
       "      <td>0.1755</td>\n",
       "      <td>0.5943</td>\n",
       "      <td>-0.5824</td>\n",
       "      <td>-0.2345</td>\n",
       "      <td>-0.1307</td>\n",
       "    </tr>\n",
       "    <tr>\n",
       "      <th>'2009', '2022'</th>\n",
       "      <td>-0.0149</td>\n",
       "      <td>0.1593</td>\n",
       "      <td>-0.0932</td>\n",
       "      <td>-2.8113</td>\n",
       "      <td>-0.3779</td>\n",
       "      <td>-0.3851</td>\n",
       "    </tr>\n",
       "  </tbody>\n",
       "</table>\n",
       "</div>"
      ],
      "text/plain": [
       "                  mean     vol  Sharpe  skewness  MKT_corr  HML_corr\n",
       "'1927', '2022'  0.0772  0.1626  0.4749   -3.0157   -0.3448   -0.4176\n",
       "'1927', '1993'  0.0901  0.1600  0.5630   -3.8093   -0.3625   -0.4949\n",
       "'1994', '2008'  0.1043  0.1755  0.5943   -0.5824   -0.2345   -0.1307\n",
       "'2009', '2022' -0.0149  0.1593 -0.0932   -2.8113   -0.3779   -0.3851"
      ]
     },
     "execution_count": 75,
     "metadata": {},
     "output_type": "execute_result"
    }
   ],
   "source": [
    "mom_ff = 1/2*(mom_size[\"BIG HiPRIOR\"]+mom_size[\"SMALL HiPRIOR\"]) - \\\n",
    "    1/2*(mom_size[\"BIG LoPRIOR\"]+mom_size[\"SMALL LoPRIOR\"])\n",
    "\n",
    "mom_ff = mom_ff.dropna()\n",
    "\n",
    "year_list = [(\"1927\", \"2022\"), (\"1927\", \"1993\"),(\"1994\", \"2008\"), (\"2009\", \"2022\")]\n",
    "r = factor_ret[[\"MKT\", \"HML\"]]\n",
    "sub_summarize(mom_ff, year_list, r, annualize=12)"
   ]
  },
  {
   "cell_type": "markdown",
   "metadata": {},
   "source": [
    "### (b) Has momentum changed much over time, as seen through these subsample statistics?\n",
    "\n",
    "* Momentum's performance has been fairly consistent over the entire sample except that in the past 12 years the mean return has been very poor. \n",
    "* In the subperiod 1994-2008, the momentum has the best performance. The sharpe ratio is the highest, and the sknewness is only slightly negative. The correlations to the market and the value factor are the lowest. And this is exactly the period that momentum was published and well-practiced.\n",
    "\n",
    "### (c) Does this data support AQR’s argument that momentum is an important piece of the ideal portfolio? What if mean returns to momentum are in actuality near zero due to transaction costs—would there still be evidence here that momentum is valuable?\n",
    "\n",
    "* Yes. The persistent performance over time (except for the 2009 crash which causes low mean return in 2009-2022) seems to support the idea that momentum is not just a statistical anomaly. Even in the final subsample, it gives negative correlation to the market and value to the point it is valuable to a mean-variance investor even with a mean return near zero. "
   ]
  },
  {
   "cell_type": "markdown",
   "metadata": {},
   "source": [
    "## 2.2 The case is about whether a long-only implementation of momentum is valuable.\n",
    "### (a) Fill out Table 2 for the data in the period 1994-2022."
   ]
  },
  {
   "cell_type": "code",
   "execution_count": 8,
   "metadata": {},
   "outputs": [],
   "source": [
    "mom_u_ff = 1/2*(mom_size[\"BIG HiPRIOR\"] + mom_size[\"SMALL HiPRIOR\"]) - rf[\"RF\"]"
   ]
  },
  {
   "cell_type": "code",
   "execution_count": 19,
   "metadata": {},
   "outputs": [
    {
     "data": {
      "text/html": [
       "<div>\n",
       "<style scoped>\n",
       "    .dataframe tbody tr th:only-of-type {\n",
       "        vertical-align: middle;\n",
       "    }\n",
       "\n",
       "    .dataframe tbody tr th {\n",
       "        vertical-align: top;\n",
       "    }\n",
       "\n",
       "    .dataframe thead th {\n",
       "        text-align: right;\n",
       "    }\n",
       "</style>\n",
       "<table border=\"1\" class=\"dataframe\">\n",
       "  <thead>\n",
       "    <tr style=\"text-align: right;\">\n",
       "      <th></th>\n",
       "      <th>mean</th>\n",
       "      <th>vol</th>\n",
       "      <th>Sharpe</th>\n",
       "      <th>skewness</th>\n",
       "      <th>MKT_corr</th>\n",
       "      <th>HML_corr</th>\n",
       "    </tr>\n",
       "  </thead>\n",
       "  <tbody>\n",
       "    <tr>\n",
       "      <th>long-and-short</th>\n",
       "      <td>0.0473</td>\n",
       "      <td>0.1686</td>\n",
       "      <td>0.2807</td>\n",
       "      <td>-1.4337</td>\n",
       "      <td>-0.3061</td>\n",
       "      <td>-0.2385</td>\n",
       "    </tr>\n",
       "    <tr>\n",
       "      <th>long-only</th>\n",
       "      <td>0.1128</td>\n",
       "      <td>0.1789</td>\n",
       "      <td>0.6304</td>\n",
       "      <td>-0.4829</td>\n",
       "      <td>0.9035</td>\n",
       "      <td>-0.1547</td>\n",
       "    </tr>\n",
       "  </tbody>\n",
       "</table>\n",
       "</div>"
      ],
      "text/plain": [
       "                  mean     vol  Sharpe  skewness  MKT_corr  HML_corr\n",
       "long-and-short  0.0473  0.1686  0.2807   -1.4337   -0.3061   -0.2385\n",
       "long-only       0.1128  0.1789  0.6304   -0.4829    0.9035   -0.1547"
      ]
     },
     "execution_count": 19,
     "metadata": {},
     "output_type": "execute_result"
    }
   ],
   "source": [
    "year_list = [(\"1994\", \"2022\")]\n",
    "sum1 = sub_summarize(mom_ff, year_list, r, annualize=12)\n",
    "sum2 = sub_summarize(mom_u_ff, year_list, r, annualize=12)\n",
    "sum = pd.concat([sum1, sum2])\n",
    "sum.index = [\"long-and-short\", \"long-only\"]\n",
    "sum"
   ]
  },
  {
   "cell_type": "markdown",
   "metadata": {},
   "source": [
    "### (b) Is long-only momentum as attractive as long-short momentum with respect to mean, volatility, and Sharpe Ratio?\n",
    "\n",
    "* Long-only momentum has higher mean return than the long-short momentum, however it has a same volatlity, thushas a higer sharpe ratio."
   ]
  },
  {
   "cell_type": "markdown",
   "metadata": {},
   "source": [
    "### (c) Is long-only momentum as diversifying as long-short momentum with respect to market and value premia\n",
    "\n",
    "* No. It has a high correlation with respect to market factor. "
   ]
  },
  {
   "cell_type": "markdown",
   "metadata": {},
   "source": [
    "### (d) Show a plot of the cumulative product of $1 + r^{mom·FF}$ and $1 + r^{momU·FF}$ over the 1994-2022 subsample"
   ]
  },
  {
   "cell_type": "code",
   "execution_count": 10,
   "metadata": {},
   "outputs": [
    {
     "data": {
      "text/plain": [
       "<matplotlib.axes._subplots.AxesSubplot at 0x7fd83df738d0>"
      ]
     },
     "execution_count": 10,
     "metadata": {},
     "output_type": "execute_result"
    },
    {
     "data": {
      "image/png": "[encoded data removed]",
      "text/plain": [
       "<Figure size 864x576 with 1 Axes>"
      ]
     },
     "metadata": {
      "needs_background": "light"
     },
     "output_type": "display_data"
    }
   ],
   "source": [
    "mom_ret = pd.merge(mom_ff.to_frame(\"long-and-short\"),\n",
    "                   mom_u_ff.to_frame(\"long-only\"), left_index=True, right_index=True)\n",
    "sub_ret = mom_ret.loc[\"1994\":\"2022\"]\n",
    "(sub_ret + 1).cumprod().plot(figsize=(12, 8))"
   ]
  },
  {
   "cell_type": "markdown",
   "metadata": {},
   "source": [
    "## 2.3 Is momentum just data mining, or is it a robust strategy?\n",
    "### (a) Compare all three constructions, (in the full-sample period,) by filling out the stats in the table below for the period 1994-2022."
   ]
  },
  {
   "cell_type": "code",
   "execution_count": 76,
   "metadata": {},
   "outputs": [],
   "source": [
    "mom_d = pd.DataFrame()\n",
    "mom_d[\"mom_D1\"] = mom_decile[\"Hi PRIOR\"] - mom_decile[\"Lo PRIOR\"]\n",
    "mom_d[\"mom_D3\"] = 1/3*(mom_decile[\"PRIOR 8\"] + mom_decile[\"PRIOR 9\"] +\n",
    "              mom_decile[\"Hi PRIOR\"]) - 1/3*(mom_decile[\"Lo PRIOR\"] + mom_decile[\"PRIOR 2\"] + mom_decile[\"PRIOR 3\"])\n",
    "mom_d[\"mom_D5\"] = mom_decile.iloc[:, 5:].mean(axis=1) - mom_decile.iloc[:, :5].mean(\n",
    "    axis=1)"
   ]
  },
  {
   "cell_type": "code",
   "execution_count": 78,
   "metadata": {},
   "outputs": [
    {
     "data": {
      "text/html": [
       "<div>\n",
       "<style scoped>\n",
       "    .dataframe tbody tr th:only-of-type {\n",
       "        vertical-align: middle;\n",
       "    }\n",
       "\n",
       "    .dataframe tbody tr th {\n",
       "        vertical-align: top;\n",
       "    }\n",
       "\n",
       "    .dataframe thead th {\n",
       "        text-align: right;\n",
       "    }\n",
       "</style>\n",
       "<table border=\"1\" class=\"dataframe\">\n",
       "  <thead>\n",
       "    <tr style=\"text-align: right;\">\n",
       "      <th></th>\n",
       "      <th>mean</th>\n",
       "      <th>vol</th>\n",
       "      <th>Sharpe</th>\n",
       "      <th>skewness</th>\n",
       "      <th>MKT_corr</th>\n",
       "      <th>HML_corr</th>\n",
       "    </tr>\n",
       "  </thead>\n",
       "  <tbody>\n",
       "    <tr>\n",
       "      <th>mom_D1</th>\n",
       "      <td>0.0794</td>\n",
       "      <td>0.2980</td>\n",
       "      <td>0.2665</td>\n",
       "      <td>-1.3236</td>\n",
       "      <td>-0.3356</td>\n",
       "      <td>-0.2364</td>\n",
       "    </tr>\n",
       "    <tr>\n",
       "      <th>mom_D3</th>\n",
       "      <td>0.0342</td>\n",
       "      <td>0.1926</td>\n",
       "      <td>0.1776</td>\n",
       "      <td>-1.3554</td>\n",
       "      <td>-0.3654</td>\n",
       "      <td>-0.2299</td>\n",
       "    </tr>\n",
       "    <tr>\n",
       "      <th>mom_D5</th>\n",
       "      <td>0.0180</td>\n",
       "      <td>0.1340</td>\n",
       "      <td>0.1345</td>\n",
       "      <td>-1.4354</td>\n",
       "      <td>-0.3579</td>\n",
       "      <td>-0.2275</td>\n",
       "    </tr>\n",
       "  </tbody>\n",
       "</table>\n",
       "</div>"
      ],
      "text/plain": [
       "          mean     vol  Sharpe  skewness  MKT_corr  HML_corr\n",
       "mom_D1  0.0794  0.2980  0.2665   -1.3236   -0.3356   -0.2364\n",
       "mom_D3  0.0342  0.1926  0.1776   -1.3554   -0.3654   -0.2299\n",
       "mom_D5  0.0180  0.1340  0.1345   -1.4354   -0.3579   -0.2275"
      ]
     },
     "execution_count": 78,
     "metadata": {},
     "output_type": "execute_result"
    }
   ],
   "source": [
    "sum_d = summary_stat(mom_d, r, (\"1994\", \"2022\"), 12)\n",
    "sum_d"
   ]
  },
  {
   "cell_type": "markdown",
   "metadata": {},
   "source": [
    "### (b) Do the tradeoffs between the 1-decile, 3-decile, and 5-decile constructions line up with the theoretical tradeoffs we discussed in the lecture?\n",
    "\n",
    "* If we build our data from the extreme decile for the \"winners\" and \"losers\", we can get higher mean return from the portfolio. The downside is that we would expect higher volatility. This is consistent with what we see here."
   ]
  },
  {
   "cell_type": "markdown",
   "metadata": {},
   "source": [
    "### (c) Should AQR’s retail product consider using a 1-decile or 5-decile construction?\n",
    "\n",
    "* 1-decile. However 1-decile momentum factor has high volatility, it has low correlation to market and value factor. If AQR chooses the 5-decile construction, it means that it will hold all securities on the market, the trading costs from the rebalancing would be huge and the premium would be negative too, but it has a smaller volality and a very diversified portfolio. "
   ]
  },
  {
   "cell_type": "markdown",
   "metadata": {},
   "source": [
    "### (d) Compare FF-constructed factor and decile-constructed factor"
   ]
  },
  {
   "cell_type": "code",
   "execution_count": 79,
   "metadata": {},
   "outputs": [
    {
     "data": {
      "text/html": [
       "<div>\n",
       "<style scoped>\n",
       "    .dataframe tbody tr th:only-of-type {\n",
       "        vertical-align: middle;\n",
       "    }\n",
       "\n",
       "    .dataframe tbody tr th {\n",
       "        vertical-align: top;\n",
       "    }\n",
       "\n",
       "    .dataframe thead th {\n",
       "        text-align: right;\n",
       "    }\n",
       "</style>\n",
       "<table border=\"1\" class=\"dataframe\">\n",
       "  <thead>\n",
       "    <tr style=\"text-align: right;\">\n",
       "      <th></th>\n",
       "      <th>mean</th>\n",
       "      <th>vol</th>\n",
       "      <th>Sharpe</th>\n",
       "      <th>skewness</th>\n",
       "      <th>MKT_corr</th>\n",
       "      <th>HML_corr</th>\n",
       "    </tr>\n",
       "  </thead>\n",
       "  <tbody>\n",
       "    <tr>\n",
       "      <th>long-and-short</th>\n",
       "      <td>0.0473</td>\n",
       "      <td>0.1686</td>\n",
       "      <td>0.2807</td>\n",
       "      <td>-1.4337</td>\n",
       "      <td>-0.3061</td>\n",
       "      <td>-0.2385</td>\n",
       "    </tr>\n",
       "    <tr>\n",
       "      <th>long-only</th>\n",
       "      <td>0.1128</td>\n",
       "      <td>0.1789</td>\n",
       "      <td>0.6304</td>\n",
       "      <td>-0.4829</td>\n",
       "      <td>0.9035</td>\n",
       "      <td>-0.1547</td>\n",
       "    </tr>\n",
       "    <tr>\n",
       "      <th>mom_D1</th>\n",
       "      <td>0.0794</td>\n",
       "      <td>0.2980</td>\n",
       "      <td>0.2665</td>\n",
       "      <td>-1.3236</td>\n",
       "      <td>-0.3356</td>\n",
       "      <td>-0.2364</td>\n",
       "    </tr>\n",
       "    <tr>\n",
       "      <th>mom_D3</th>\n",
       "      <td>0.0342</td>\n",
       "      <td>0.1926</td>\n",
       "      <td>0.1776</td>\n",
       "      <td>-1.3554</td>\n",
       "      <td>-0.3654</td>\n",
       "      <td>-0.2299</td>\n",
       "    </tr>\n",
       "    <tr>\n",
       "      <th>mom_D5</th>\n",
       "      <td>0.0180</td>\n",
       "      <td>0.1340</td>\n",
       "      <td>0.1345</td>\n",
       "      <td>-1.4354</td>\n",
       "      <td>-0.3579</td>\n",
       "      <td>-0.2275</td>\n",
       "    </tr>\n",
       "  </tbody>\n",
       "</table>\n",
       "</div>"
      ],
      "text/plain": [
       "                  mean     vol  Sharpe  skewness  MKT_corr  HML_corr\n",
       "long-and-short  0.0473  0.1686  0.2807   -1.4337   -0.3061   -0.2385\n",
       "long-only       0.1128  0.1789  0.6304   -0.4829    0.9035   -0.1547\n",
       "mom_D1          0.0794  0.2980  0.2665   -1.3236   -0.3356   -0.2364\n",
       "mom_D3          0.0342  0.1926  0.1776   -1.3554   -0.3654   -0.2299\n",
       "mom_D5          0.0180  0.1340  0.1345   -1.4354   -0.3579   -0.2275"
      ]
     },
     "execution_count": 79,
     "metadata": {},
     "output_type": "execute_result"
    }
   ],
   "source": [
    "pd.concat([sum, sum_d])"
   ]
  },
  {
   "cell_type": "markdown",
   "metadata": {},
   "source": [
    "* The Fama-French construction has a smaller vol, and thus a higher sharpe ratio. Other measures are on the same scale as those of the 3-decile construction. This shows that segment by size actually gives a better performance. "
   ]
  },
  {
   "cell_type": "markdown",
   "metadata": {},
   "source": [
    "## 2.4 Does implementing momentum require trading lots of small stocks—thus causing even larger trading costs?\n",
    "### (a) Fill out Table 4 over the sample 1994-2022.\n"
   ]
  },
  {
   "cell_type": "code",
   "execution_count": 80,
   "metadata": {},
   "outputs": [
    {
     "data": {
      "text/plain": [
       "Date\n",
       "1927-01-31    0.0036\n",
       "1927-02-28   -0.0215\n",
       "1927-03-31    0.0362\n",
       "1927-04-30    0.0430\n",
       "1927-05-31    0.0301\n",
       "               ...  \n",
       "2022-05-31    0.0248\n",
       "2022-06-30    0.0080\n",
       "2022-07-31   -0.0397\n",
       "2022-08-31    0.0210\n",
       "2022-09-30    0.0353\n",
       "Length: 1149, dtype: float64"
      ]
     },
     "execution_count": 80,
     "metadata": {},
     "output_type": "execute_result"
    }
   ],
   "source": [
    "mom_ff"
   ]
  },
  {
   "cell_type": "code",
   "execution_count": 81,
   "metadata": {},
   "outputs": [],
   "source": [
    "mom_bs = pd.DataFrame()\n",
    "mom_bs[\"mom_ff\"] = mom_ff\n",
    "mom_bs[\"mom_s\"] = mom_size[\"SMALL HiPRIOR\"] - mom_size[\"SMALL LoPRIOR\"]\n",
    "mom_bs[\"mom_b\"] = mom_size[\"BIG HiPRIOR\"] - mom_size[\"BIG LoPRIOR\"]"
   ]
  },
  {
   "cell_type": "code",
   "execution_count": 82,
   "metadata": {},
   "outputs": [
    {
     "data": {
      "text/html": [
       "<div>\n",
       "<style scoped>\n",
       "    .dataframe tbody tr th:only-of-type {\n",
       "        vertical-align: middle;\n",
       "    }\n",
       "\n",
       "    .dataframe tbody tr th {\n",
       "        vertical-align: top;\n",
       "    }\n",
       "\n",
       "    .dataframe thead th {\n",
       "        text-align: right;\n",
       "    }\n",
       "</style>\n",
       "<table border=\"1\" class=\"dataframe\">\n",
       "  <thead>\n",
       "    <tr style=\"text-align: right;\">\n",
       "      <th></th>\n",
       "      <th>mean</th>\n",
       "      <th>vol</th>\n",
       "      <th>Sharpe</th>\n",
       "      <th>skewness</th>\n",
       "      <th>MKT_corr</th>\n",
       "      <th>HML_corr</th>\n",
       "    </tr>\n",
       "  </thead>\n",
       "  <tbody>\n",
       "    <tr>\n",
       "      <th>mom_ff</th>\n",
       "      <td>0.0473</td>\n",
       "      <td>0.1686</td>\n",
       "      <td>0.2807</td>\n",
       "      <td>-1.4337</td>\n",
       "      <td>-0.3061</td>\n",
       "      <td>-0.2385</td>\n",
       "    </tr>\n",
       "    <tr>\n",
       "      <th>mom_s</th>\n",
       "      <td>0.0627</td>\n",
       "      <td>0.1716</td>\n",
       "      <td>0.3656</td>\n",
       "      <td>-1.7501</td>\n",
       "      <td>-0.3069</td>\n",
       "      <td>-0.1647</td>\n",
       "    </tr>\n",
       "    <tr>\n",
       "      <th>mom_b</th>\n",
       "      <td>0.0319</td>\n",
       "      <td>0.1819</td>\n",
       "      <td>0.1755</td>\n",
       "      <td>-0.8576</td>\n",
       "      <td>-0.2780</td>\n",
       "      <td>-0.2869</td>\n",
       "    </tr>\n",
       "  </tbody>\n",
       "</table>\n",
       "</div>"
      ],
      "text/plain": [
       "          mean     vol  Sharpe  skewness  MKT_corr  HML_corr\n",
       "mom_ff  0.0473  0.1686  0.2807   -1.4337   -0.3061   -0.2385\n",
       "mom_s   0.0627  0.1716  0.3656   -1.7501   -0.3069   -0.1647\n",
       "mom_b   0.0319  0.1819  0.1755   -0.8576   -0.2780   -0.2869"
      ]
     },
     "execution_count": 82,
     "metadata": {},
     "output_type": "execute_result"
    }
   ],
   "source": [
    "sum_bs = summary_stat(mom_bs, r, (\"1994\", \"2022\"), 12)\n",
    "sum_bs"
   ]
  },
  {
   "cell_type": "markdown",
   "metadata": {},
   "source": [
    "### (b) Is the attractiveness of the momentum strategy mostly driven by the small stocks? That is, does a momentum strategy in large stocks still deliver excess returns at comparable risk?\n",
    "\n",
    "* A momentum strategy in large stocks deliver little bit lower excess return than that in small stocks, and a bigger volatility, thus a lower Shape ratio. \n",
    "* However when we consider the liquidity that large stocks have, a momentum strategy in large stocks still delivers excess returns at comparable risk. "
   ]
  },
  {
   "cell_type": "markdown",
   "metadata": {},
   "source": [
    "## 2.5 In conclusion, what is your assessment of the AQR retail product? Is it capturing the important features of the Fama-French construction of momentum? Would you suggest any modifications?\n",
    "\n",
    "* The AQR retail product is substantially different from what we typically refer to as momentum. Though it has strong expected returns, it is almost all from market premium. This is a feature of being long-only and won't be fixed by modifying the exact constructions decile, sorting by size, etc."
   ]
  },
  {
   "cell_type": "markdown",
   "metadata": {},
   "source": []
  }
 ],
 "metadata": {
  "kernelspec": {
   "display_name": "Python 3.7.4 ('base')",
   "language": "python",
   "name": "python3"
  },
  "language_info": {
   "codemirror_mode": {
    "name": "ipython",
    "version": 3
   },
   "file_extension": ".py",
   "mimetype": "text/x-python",
   "name": "python",
   "nbconvert_exporter": "python",
   "pygments_lexer": "ipython3",
   "version": "3.7.4"
  },
  "orig_nbformat": 4,
  "vscode": {
   "interpreter": {
    "hash": "8aba7c7331238ad8bef3d07aa03cf759b24ea56e2341769d4c660500293a6aca"
   }
  }
 },
 "nbformat": 4,
 "nbformat_minor": 2
}
