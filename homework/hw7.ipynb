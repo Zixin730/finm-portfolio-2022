{
 "cells": [
  {
   "cell_type": "code",
   "execution_count": 1,
   "metadata": {},
   "outputs": [],
   "source": [
    "import pandas as pd\n",
    "import numpy as np\n",
    "import matplotlib.pyplot as plt\n",
    "import statsmodels.api as sm\n",
    "from arch import arch_model\n",
    "from arch.univariate import GARCH, EWMAVariance\n",
    "from sklearn import linear_model\n",
    "import scipy.stats as stats\n",
    "from statsmodels.regression.rolling import RollingOLS\n",
    "import seaborn as sns\n",
    "import warnings\n",
    "import ast\n",
    "warnings.filterwarnings(\"ignore\")\n",
    "pd.set_option(\"display.precision\", 4)"
   ]
  },
  {
   "cell_type": "markdown",
   "metadata": {},
   "source": [
    "## Functions"
   ]
  },
  {
   "cell_type": "code",
   "execution_count": 185,
   "metadata": {},
   "outputs": [],
   "source": [
    "def summary_stat(df, annual_factor, q=0.05):\n",
    "    '''summary assets' mean return, voaltility(stdev) and sharpe ratio'''\n",
    "    result = pd.DataFrame()\n",
    "    result[\"mean\"] = df.mean() * annual_factor\n",
    "    result[\"volatility\"] = df.std() * np.sqrt(annual_factor)\n",
    "    result[\"Sharpe Ratio\"] = result[\"mean\"]/result[\"volatility\"]\n",
    "\n",
    "    return result\n",
    "\n",
    "def sub_summarize(df, year_list, annualize=12):\n",
    "    col_name = [\"mean\", \"vol\", \"Sharpe\"]\n",
    "    res = pd.DataFrame(columns=col_name)\n",
    "    i = 0\n",
    "    for y in year_list:\n",
    "        sub1 = df.loc[y[0]: y[1]]\n",
    "        res.loc[i, \"mean\"] = sub1.mean() * annualize\n",
    "        res.loc[i, \"vol\"] = sub1.std() * np.sqrt(annualize)\n",
    "        res.loc[i, \"Sharpe\"] = res.loc[i, \"mean\"]/res.loc[i, \"vol\"]\n",
    "        # res.loc[i, \"skewness\"] = sub1.skew()\n",
    "\n",
    "        i += 1\n",
    "    res.index = pd.Series([repr(y)[1:-1] for y in year_list])\n",
    "    return res"
   ]
  },
  {
   "cell_type": "code",
   "execution_count": 41,
   "metadata": {},
   "outputs": [],
   "source": [
    "def tailMetrics(returns, ret, quantile=.05, relative=False):\n",
    "    \n",
    "    # returns: excess return\n",
    "    # ret: total return\n",
    "    metrics = pd.DataFrame(index=ret.columns)\n",
    "\n",
    "    VaR = returns.quantile(quantile)\n",
    "    CVaR = (returns[returns < returns.quantile(quantile)]).mean()\n",
    "\n",
    "    if relative:\n",
    "        VaR /= returns.std()\n",
    "        CVaR /= returns.std()\n",
    "\n",
    "    metrics[f'VaR ({quantile})'] = VaR\n",
    "    metrics[f'CVaR ({quantile})'] = CVaR\n",
    "\n",
    "    cum_ret = (1 + ret).cumprod()\n",
    "    rolling_max = cum_ret.cummax()  # cummax function\n",
    "    drawdown = (cum_ret - rolling_max) / rolling_max\n",
    "    max_drawdown = drawdown.min()\n",
    "    metrics['Max Drawdown'] = max_drawdown\n",
    "\n",
    "    return metrics"
   ]
  },
  {
   "cell_type": "code",
   "execution_count": 68,
   "metadata": {},
   "outputs": [],
   "source": [
    "def get_capm_matrics(targets, regressors, add_constant=True, annualize_factor=12):\n",
    "\n",
    "    result = pd.DataFrame(index=targets.columns)\n",
    "    resid_matrix = pd.DataFrame(columns=targets.columns)\n",
    "    t_p_value = pd.DataFrame(index=targets.columns)\n",
    "\n",
    "    if add_constant:\n",
    "        X = sm.add_constant(regressors)\n",
    "    else:\n",
    "        X = regressors.copy()\n",
    "    for column in targets.columns:\n",
    "        y = targets[[column]]\n",
    "        model = sm.OLS(y, X, missing='drop').fit()\n",
    "        if add_constant:\n",
    "            result.loc[column, \"alpha\"] = model.params['const'] * \\\n",
    "                annualize_factor\n",
    "        result.loc[column, regressors.columns] = model.params[regressors.columns]\n",
    "\n",
    "        result.loc[column, \"R-squared\"] = model.rsquared\n",
    "\n",
    "        resid_matrix[column] = model.resid\n",
    "        if add_constant:\n",
    "            t_p_value.loc[column, \"t-value\"] = model.tvalues['const']\n",
    "            t_p_value.loc[column, \"p-value\"] = model.pvalues['const']\n",
    "\n",
    "    return result, resid_matrix, t_p_value"
   ]
  },
  {
   "cell_type": "code",
   "execution_count": 170,
   "metadata": {},
   "outputs": [],
   "source": [
    "def summary_stats_bm(series, bm, annual_fac=12):\n",
    "    ss_df = pd.DataFrame(data=None)\n",
    "    ss_df['Mean'] = series.mean() * annual_fac\n",
    "    ss_df['Vol'] = series.std() * np.sqrt(annual_fac)\n",
    "    ss_df['Sharpe (Mean/Vol)'] = ss_df['Mean'] / ss_df['Vol']\n",
    "\n",
    "    X = sm.add_constant(bm.loc[series.index])\n",
    "    alphas, betas = [], []\n",
    "    for col in series.columns:\n",
    "        y = series[[col]]\n",
    "        reg = sm.OLS(y, X).fit().params\n",
    "        alphas.append(reg[0] * annual_fac)\n",
    "        betas.append(reg[1])\n",
    "    ss_df[\"alpha\"] = alphas\n",
    "    ss_df[\"beta\"] = betas\n",
    "\n",
    "    cum_ret = (1 + series).cumprod()\n",
    "    rolling_max = cum_ret.cummax()\n",
    "    drawdown = (cum_ret - rolling_max) / rolling_max\n",
    "    ss_df['Max Drawdown'] = drawdown.min()\n",
    "\n",
    "    return ss_df"
   ]
  },
  {
   "cell_type": "markdown",
   "metadata": {},
   "source": [
    "## 2 Analyzing GMO\n",
    "### 2.1 Calculate the mean, volatility, and Sharpe ratio for GMWAX."
   ]
  },
  {
   "cell_type": "code",
   "execution_count": 35,
   "metadata": {},
   "outputs": [],
   "source": [
    "ret = pd.read_excel(\"../data/gmo_analysis_data.xlsx\", sheet_name=2, index_col=0)\n",
    "rf = pd.read_excel(\"../data/gmo_analysis_data.xlsx\", sheet_name=3, index_col=0)\n",
    "GMWAX_ex = (ret[\"GMWAX\"] - rf[\"US3M\"]).dropna()"
   ]
  },
  {
   "cell_type": "code",
   "execution_count": 36,
   "metadata": {},
   "outputs": [
    {
     "data": {
      "text/html": [
       "<div>\n",
       "<style scoped>\n",
       "    .dataframe tbody tr th:only-of-type {\n",
       "        vertical-align: middle;\n",
       "    }\n",
       "\n",
       "    .dataframe tbody tr th {\n",
       "        vertical-align: top;\n",
       "    }\n",
       "\n",
       "    .dataframe thead th {\n",
       "        text-align: right;\n",
       "    }\n",
       "</style>\n",
       "<table border=\"1\" class=\"dataframe\">\n",
       "  <thead>\n",
       "    <tr style=\"text-align: right;\">\n",
       "      <th></th>\n",
       "      <th>mean</th>\n",
       "      <th>vol</th>\n",
       "      <th>Sharpe</th>\n",
       "    </tr>\n",
       "  </thead>\n",
       "  <tbody>\n",
       "    <tr>\n",
       "      <th>'1996', '2011'</th>\n",
       "      <td>0.0158</td>\n",
       "      <td>0.125</td>\n",
       "      <td>0.1266</td>\n",
       "    </tr>\n",
       "    <tr>\n",
       "      <th>'2012', '2022'</th>\n",
       "      <td>0.0366</td>\n",
       "      <td>0.092</td>\n",
       "      <td>0.3982</td>\n",
       "    </tr>\n",
       "    <tr>\n",
       "      <th>'1996', '2022'</th>\n",
       "      <td>0.0245</td>\n",
       "      <td>0.1123</td>\n",
       "      <td>0.2181</td>\n",
       "    </tr>\n",
       "  </tbody>\n",
       "</table>\n",
       "</div>"
      ],
      "text/plain": [
       "                  mean     vol  Sharpe\n",
       "'1996', '2011'  0.0158   0.125  0.1266\n",
       "'2012', '2022'  0.0366   0.092  0.3982\n",
       "'1996', '2022'  0.0245  0.1123  0.2181"
      ]
     },
     "execution_count": 36,
     "metadata": {},
     "output_type": "execute_result"
    }
   ],
   "source": [
    "year_list = [(\"1996\", \"2011\"), (\"2012\", \"2022\"),(\"1996\", \"2022\")]\n",
    "sub_summarize(GMWAX_ex, year_list, annualize=12)\n"
   ]
  },
  {
   "cell_type": "markdown",
   "metadata": {},
   "source": [
    "### 2.2 GMO believes a risk premium is compensation for a security’s tendency to lose money at “bad times”. For all three samples, analyze extreme scenarios by looking at"
   ]
  },
  {
   "cell_type": "code",
   "execution_count": 66,
   "metadata": {},
   "outputs": [
    {
     "data": {
      "text/html": [
       "<div>\n",
       "<style scoped>\n",
       "    .dataframe tbody tr th:only-of-type {\n",
       "        vertical-align: middle;\n",
       "    }\n",
       "\n",
       "    .dataframe tbody tr th {\n",
       "        vertical-align: top;\n",
       "    }\n",
       "\n",
       "    .dataframe thead th {\n",
       "        text-align: right;\n",
       "    }\n",
       "</style>\n",
       "<table border=\"1\" class=\"dataframe\">\n",
       "  <thead>\n",
       "    <tr style=\"text-align: right;\">\n",
       "      <th></th>\n",
       "      <th>VaR (0.05)</th>\n",
       "      <th>CVaR (0.05)</th>\n",
       "      <th>Max Drawdown</th>\n",
       "    </tr>\n",
       "  </thead>\n",
       "  <tbody>\n",
       "    <tr>\n",
       "      <th>SPY</th>\n",
       "      <td>-0.0800</td>\n",
       "      <td>-0.1008</td>\n",
       "      <td>-0.5080</td>\n",
       "    </tr>\n",
       "    <tr>\n",
       "      <th>GMWAX</th>\n",
       "      <td>-0.0483</td>\n",
       "      <td>-0.0860</td>\n",
       "      <td>-0.3552</td>\n",
       "    </tr>\n",
       "  </tbody>\n",
       "</table>\n",
       "</div>"
      ],
      "text/plain": [
       "       VaR (0.05)  CVaR (0.05)  Max Drawdown\n",
       "SPY       -0.0800      -0.1008       -0.5080\n",
       "GMWAX     -0.0483      -0.0860       -0.3552"
      ]
     },
     "execution_count": 66,
     "metadata": {},
     "output_type": "execute_result"
    }
   ],
   "source": [
    "ret_ex = ret.subtract(rf[\"US3M\"], axis=0).dropna()\n",
    "tailMetrics(ret_ex, ret.dropna(), quantile=.05, relative=False)"
   ]
  },
  {
   "cell_type": "markdown",
   "metadata": {},
   "source": [
    "#### (a) Does GMWAX have high or low tail-risk as seen by these stats? \n",
    "\n",
    "* Compared to SPY, yes. It has lower VaR and CVaR, also a lower max drawdown. \n",
    "\n",
    "#### (b) Does that vary much across the two subsamples?\n",
    "\n",
    "* Yes, GMO's VaR improves notably in the second subsample, and drawdown is also much lower in the second subsample. "
   ]
  },
  {
   "cell_type": "code",
   "execution_count": 67,
   "metadata": {},
   "outputs": [
    {
     "data": {
      "text/html": [
       "<div>\n",
       "<style scoped>\n",
       "    .dataframe tbody tr th:only-of-type {\n",
       "        vertical-align: middle;\n",
       "    }\n",
       "\n",
       "    .dataframe tbody tr th {\n",
       "        vertical-align: top;\n",
       "    }\n",
       "\n",
       "    .dataframe thead th {\n",
       "        text-align: right;\n",
       "    }\n",
       "</style>\n",
       "<table border=\"1\" class=\"dataframe\">\n",
       "  <thead>\n",
       "    <tr style=\"text-align: right;\">\n",
       "      <th></th>\n",
       "      <th>VaR (0.05)</th>\n",
       "      <th>CVaR (0.05)</th>\n",
       "      <th>Max Drawdown</th>\n",
       "    </tr>\n",
       "  </thead>\n",
       "  <tbody>\n",
       "    <tr>\n",
       "      <th>SPY: 1996-2011</th>\n",
       "      <td>-0.0802</td>\n",
       "      <td>-0.1051</td>\n",
       "      <td>-0.5080</td>\n",
       "    </tr>\n",
       "    <tr>\n",
       "      <th>GMWAX: 1996-2011</th>\n",
       "      <td>-0.0598</td>\n",
       "      <td>-0.0965</td>\n",
       "      <td>-0.3552</td>\n",
       "    </tr>\n",
       "    <tr>\n",
       "      <th>SPY: 2012-2022</th>\n",
       "      <td>-0.0687</td>\n",
       "      <td>-0.0905</td>\n",
       "      <td>-0.2393</td>\n",
       "    </tr>\n",
       "    <tr>\n",
       "      <th>GMWAX: 2012-2022</th>\n",
       "      <td>-0.0397</td>\n",
       "      <td>-0.0618</td>\n",
       "      <td>-0.2168</td>\n",
       "    </tr>\n",
       "  </tbody>\n",
       "</table>\n",
       "</div>"
      ],
      "text/plain": [
       "                  VaR (0.05)  CVaR (0.05)  Max Drawdown\n",
       "SPY: 1996-2011       -0.0802      -0.1051       -0.5080\n",
       "GMWAX: 1996-2011     -0.0598      -0.0965       -0.3552\n",
       "SPY: 2012-2022       -0.0687      -0.0905       -0.2393\n",
       "GMWAX: 2012-2022     -0.0397      -0.0618       -0.2168"
      ]
     },
     "execution_count": 67,
     "metadata": {},
     "output_type": "execute_result"
    }
   ],
   "source": [
    "sub1_ex, sub1_ret = ret_ex[:\"2011\"].dropna(), ret[:\"2011\"].dropna()\n",
    "sub2_ex, sub2_ret = ret_ex[\"2012\": \"2022\"], ret[\"2012\": \"2022\"]\n",
    "sub1 = tailMetrics(sub1_ex, sub1_ret,\n",
    "                   quantile=.05, relative=False)\n",
    "sub2 = tailMetrics(sub2_ex, sub2_ret,\n",
    "                   quantile=.05, relative=False)\n",
    "tail1 = pd.concat([sub1, sub2])\n",
    "tail1.index = [\"SPY: 1996-2011\", \"GMWAX: 1996-2011\",\n",
    "               \"SPY: 2012-2022\", \"GMWAX: 2012-2022\"]\n",
    "tail1"
   ]
  },
  {
   "cell_type": "markdown",
   "metadata": {},
   "source": [
    "### 2.3 For all three samples, regress excess returns of GMWAX on excess returns of SPY.\n",
    "\n",
    "#### (a) Report the estimated alpha, beta, and r-squared."
   ]
  },
  {
   "cell_type": "code",
   "execution_count": 71,
   "metadata": {},
   "outputs": [
    {
     "data": {
      "text/html": [
       "<div>\n",
       "<style scoped>\n",
       "    .dataframe tbody tr th:only-of-type {\n",
       "        vertical-align: middle;\n",
       "    }\n",
       "\n",
       "    .dataframe tbody tr th {\n",
       "        vertical-align: top;\n",
       "    }\n",
       "\n",
       "    .dataframe thead th {\n",
       "        text-align: right;\n",
       "    }\n",
       "</style>\n",
       "<table border=\"1\" class=\"dataframe\">\n",
       "  <thead>\n",
       "    <tr style=\"text-align: right;\">\n",
       "      <th></th>\n",
       "      <th>alpha</th>\n",
       "      <th>SPY</th>\n",
       "      <th>R-squared</th>\n",
       "    </tr>\n",
       "  </thead>\n",
       "  <tbody>\n",
       "    <tr>\n",
       "      <th>GMWAX</th>\n",
       "      <td>-0.017</td>\n",
       "      <td>0.5456</td>\n",
       "      <td>0.5777</td>\n",
       "    </tr>\n",
       "  </tbody>\n",
       "</table>\n",
       "</div>"
      ],
      "text/plain": [
       "       alpha     SPY  R-squared\n",
       "GMWAX -0.017  0.5456     0.5777"
      ]
     },
     "execution_count": 71,
     "metadata": {},
     "output_type": "execute_result"
    }
   ],
   "source": [
    "summary, _, _ = get_capm_matrics(ret_ex[[\"GMWAX\"]], ret_ex[[\"SPY\"]], add_constant=True, annualize_factor=12)\n",
    "summary"
   ]
  },
  {
   "cell_type": "code",
   "execution_count": 72,
   "metadata": {},
   "outputs": [
    {
     "data": {
      "text/html": [
       "<div>\n",
       "<style scoped>\n",
       "    .dataframe tbody tr th:only-of-type {\n",
       "        vertical-align: middle;\n",
       "    }\n",
       "\n",
       "    .dataframe tbody tr th {\n",
       "        vertical-align: top;\n",
       "    }\n",
       "\n",
       "    .dataframe thead th {\n",
       "        text-align: right;\n",
       "    }\n",
       "</style>\n",
       "<table border=\"1\" class=\"dataframe\">\n",
       "  <thead>\n",
       "    <tr style=\"text-align: right;\">\n",
       "      <th></th>\n",
       "      <th>alpha</th>\n",
       "      <th>SPY</th>\n",
       "      <th>R-squared</th>\n",
       "    </tr>\n",
       "  </thead>\n",
       "  <tbody>\n",
       "    <tr>\n",
       "      <th>GMWAX</th>\n",
       "      <td>-0.0209</td>\n",
       "      <td>0.5353</td>\n",
       "      <td>0.5002</td>\n",
       "    </tr>\n",
       "  </tbody>\n",
       "</table>\n",
       "</div>"
      ],
      "text/plain": [
       "        alpha     SPY  R-squared\n",
       "GMWAX -0.0209  0.5353     0.5002"
      ]
     },
     "execution_count": 72,
     "metadata": {},
     "output_type": "execute_result"
    }
   ],
   "source": [
    "summary, _, _ = get_capm_matrics(\n",
    "    sub1_ex[[\"GMWAX\"]], sub1_ret[[\"SPY\"]], add_constant=True, annualize_factor=12)\n",
    "summary"
   ]
  },
  {
   "cell_type": "code",
   "execution_count": 73,
   "metadata": {},
   "outputs": [
    {
     "data": {
      "text/html": [
       "<div>\n",
       "<style scoped>\n",
       "    .dataframe tbody tr th:only-of-type {\n",
       "        vertical-align: middle;\n",
       "    }\n",
       "\n",
       "    .dataframe tbody tr th {\n",
       "        vertical-align: top;\n",
       "    }\n",
       "\n",
       "    .dataframe thead th {\n",
       "        text-align: right;\n",
       "    }\n",
       "</style>\n",
       "<table border=\"1\" class=\"dataframe\">\n",
       "  <thead>\n",
       "    <tr style=\"text-align: right;\">\n",
       "      <th></th>\n",
       "      <th>alpha</th>\n",
       "      <th>SPY</th>\n",
       "      <th>R-squared</th>\n",
       "    </tr>\n",
       "  </thead>\n",
       "  <tbody>\n",
       "    <tr>\n",
       "      <th>GMWAX</th>\n",
       "      <td>-0.0384</td>\n",
       "      <td>0.5628</td>\n",
       "      <td>0.7634</td>\n",
       "    </tr>\n",
       "  </tbody>\n",
       "</table>\n",
       "</div>"
      ],
      "text/plain": [
       "        alpha     SPY  R-squared\n",
       "GMWAX -0.0384  0.5628     0.7634"
      ]
     },
     "execution_count": 73,
     "metadata": {},
     "output_type": "execute_result"
    }
   ],
   "source": [
    "summary, _, _ = get_capm_matrics(\n",
    "    sub2_ex[[\"GMWAX\"]], sub2_ret[[\"SPY\"]], add_constant=True, annualize_factor=12)\n",
    "summary"
   ]
  },
  {
   "cell_type": "markdown",
   "metadata": {},
   "source": [
    "#### (b) Is GMWAX a low-beta strategy? Has that changed since the case?\n",
    "\n",
    "* GMWAX beta to SPY is around 0.54 to 0.56, as a multiasset allocation strategy, we can consider it a low-beta strategy. \n",
    "* In each subsample, beta does not change much, beta varies from 0.54-0.56. \n",
    "\n",
    "#### (c) Does GMWAX provide alpha? Has that changed across the subsamples?\n",
    "\n",
    "For each subsample, alpha < 0. GMWAC didn't provide alpha in either subsample. "
   ]
  },
  {
   "cell_type": "markdown",
   "metadata": {},
   "source": [
    "## 3 Forecast Regressions\n",
    "### 3.1 Consider the lagged regression\n",
    "\n",
    "**using total return**"
   ]
  },
  {
   "cell_type": "code",
   "execution_count": 97,
   "metadata": {},
   "outputs": [
    {
     "data": {
      "text/html": [
       "<div>\n",
       "<style scoped>\n",
       "    .dataframe tbody tr th:only-of-type {\n",
       "        vertical-align: middle;\n",
       "    }\n",
       "\n",
       "    .dataframe tbody tr th {\n",
       "        vertical-align: top;\n",
       "    }\n",
       "\n",
       "    .dataframe thead th {\n",
       "        text-align: right;\n",
       "    }\n",
       "</style>\n",
       "<table border=\"1\" class=\"dataframe\">\n",
       "  <thead>\n",
       "    <tr style=\"text-align: right;\">\n",
       "      <th></th>\n",
       "      <th>DP</th>\n",
       "      <th>EP</th>\n",
       "      <th>US10Y</th>\n",
       "      <th>SPY</th>\n",
       "    </tr>\n",
       "  </thead>\n",
       "  <tbody>\n",
       "    <tr>\n",
       "      <th>1993-02-28</th>\n",
       "      <td>NaN</td>\n",
       "      <td>NaN</td>\n",
       "      <td>NaN</td>\n",
       "      <td>0.0107</td>\n",
       "    </tr>\n",
       "    <tr>\n",
       "      <th>1993-03-31</th>\n",
       "      <td>2.82</td>\n",
       "      <td>4.44</td>\n",
       "      <td>6.03</td>\n",
       "      <td>0.0224</td>\n",
       "    </tr>\n",
       "    <tr>\n",
       "      <th>1993-04-30</th>\n",
       "      <td>2.77</td>\n",
       "      <td>4.41</td>\n",
       "      <td>6.03</td>\n",
       "      <td>-0.0256</td>\n",
       "    </tr>\n",
       "    <tr>\n",
       "      <th>1993-05-31</th>\n",
       "      <td>2.82</td>\n",
       "      <td>4.44</td>\n",
       "      <td>6.05</td>\n",
       "      <td>0.0270</td>\n",
       "    </tr>\n",
       "    <tr>\n",
       "      <th>1993-06-30</th>\n",
       "      <td>2.81</td>\n",
       "      <td>4.38</td>\n",
       "      <td>6.16</td>\n",
       "      <td>0.0037</td>\n",
       "    </tr>\n",
       "  </tbody>\n",
       "</table>\n",
       "</div>"
      ],
      "text/plain": [
       "              DP    EP  US10Y     SPY\n",
       "1993-02-28   NaN   NaN    NaN  0.0107\n",
       "1993-03-31  2.82  4.44   6.03  0.0224\n",
       "1993-04-30  2.77  4.41   6.03 -0.0256\n",
       "1993-05-31  2.82  4.44   6.05  0.0270\n",
       "1993-06-30  2.81  4.38   6.16  0.0037"
      ]
     },
     "execution_count": 97,
     "metadata": {},
     "output_type": "execute_result"
    }
   ],
   "source": [
    "factor = pd.read_excel(\"../data/gmo_analysis_data.xlsx\", sheet_name=1, index_col=0)\n",
    "factor = factor.shift().merge(ret[[\"SPY\"]], left_index=True, right_index=True)\n",
    "factor.head()"
   ]
  },
  {
   "cell_type": "code",
   "execution_count": 84,
   "metadata": {},
   "outputs": [
    {
     "data": {
      "text/html": [
       "<div>\n",
       "<style scoped>\n",
       "    .dataframe tbody tr th:only-of-type {\n",
       "        vertical-align: middle;\n",
       "    }\n",
       "\n",
       "    .dataframe tbody tr th {\n",
       "        vertical-align: top;\n",
       "    }\n",
       "\n",
       "    .dataframe thead th {\n",
       "        text-align: right;\n",
       "    }\n",
       "</style>\n",
       "<table border=\"1\" class=\"dataframe\">\n",
       "  <thead>\n",
       "    <tr style=\"text-align: right;\">\n",
       "      <th></th>\n",
       "      <th>alpha</th>\n",
       "      <th>DP</th>\n",
       "      <th>R-squared</th>\n",
       "    </tr>\n",
       "  </thead>\n",
       "  <tbody>\n",
       "    <tr>\n",
       "      <th>SPY</th>\n",
       "      <td>-0.1129</td>\n",
       "      <td>0.0094</td>\n",
       "      <td>0.0094</td>\n",
       "    </tr>\n",
       "  </tbody>\n",
       "</table>\n",
       "</div>"
      ],
      "text/plain": [
       "      alpha      DP  R-squared\n",
       "SPY -0.1129  0.0094     0.0094"
      ]
     },
     "execution_count": 84,
     "metadata": {},
     "output_type": "execute_result"
    }
   ],
   "source": [
    "summary1, _, _ = get_capm_matrics(\n",
    "    factor[[\"SPY\"]], factor[[\"DP\"]], add_constant=True, annualize_factor=12)\n",
    "summary1"
   ]
  },
  {
   "cell_type": "code",
   "execution_count": 85,
   "metadata": {},
   "outputs": [
    {
     "data": {
      "text/html": [
       "<div>\n",
       "<style scoped>\n",
       "    .dataframe tbody tr th:only-of-type {\n",
       "        vertical-align: middle;\n",
       "    }\n",
       "\n",
       "    .dataframe tbody tr th {\n",
       "        vertical-align: top;\n",
       "    }\n",
       "\n",
       "    .dataframe thead th {\n",
       "        text-align: right;\n",
       "    }\n",
       "</style>\n",
       "<table border=\"1\" class=\"dataframe\">\n",
       "  <thead>\n",
       "    <tr style=\"text-align: right;\">\n",
       "      <th></th>\n",
       "      <th>alpha</th>\n",
       "      <th>EP</th>\n",
       "      <th>R-squared</th>\n",
       "    </tr>\n",
       "  </thead>\n",
       "  <tbody>\n",
       "    <tr>\n",
       "      <th>SPY</th>\n",
       "      <td>-0.0712</td>\n",
       "      <td>0.0032</td>\n",
       "      <td>0.0086</td>\n",
       "    </tr>\n",
       "  </tbody>\n",
       "</table>\n",
       "</div>"
      ],
      "text/plain": [
       "      alpha      EP  R-squared\n",
       "SPY -0.0712  0.0032     0.0086"
      ]
     },
     "execution_count": 85,
     "metadata": {},
     "output_type": "execute_result"
    }
   ],
   "source": [
    "summary2, _, _ = get_capm_matrics(\n",
    "    factor[[\"SPY\"]], factor[[\"EP\"]], add_constant=True, annualize_factor=12)\n",
    "summary2\n"
   ]
  },
  {
   "cell_type": "code",
   "execution_count": 86,
   "metadata": {},
   "outputs": [
    {
     "data": {
      "text/html": [
       "<div>\n",
       "<style scoped>\n",
       "    .dataframe tbody tr th:only-of-type {\n",
       "        vertical-align: middle;\n",
       "    }\n",
       "\n",
       "    .dataframe tbody tr th {\n",
       "        vertical-align: top;\n",
       "    }\n",
       "\n",
       "    .dataframe thead th {\n",
       "        text-align: right;\n",
       "    }\n",
       "</style>\n",
       "<table border=\"1\" class=\"dataframe\">\n",
       "  <thead>\n",
       "    <tr style=\"text-align: right;\">\n",
       "      <th></th>\n",
       "      <th>alpha</th>\n",
       "      <th>DP</th>\n",
       "      <th>EP</th>\n",
       "      <th>US10Y</th>\n",
       "      <th>R-squared</th>\n",
       "    </tr>\n",
       "  </thead>\n",
       "  <tbody>\n",
       "    <tr>\n",
       "      <th>SPY</th>\n",
       "      <td>-0.1792</td>\n",
       "      <td>0.008</td>\n",
       "      <td>0.0027</td>\n",
       "      <td>-0.001</td>\n",
       "      <td>0.0163</td>\n",
       "    </tr>\n",
       "  </tbody>\n",
       "</table>\n",
       "</div>"
      ],
      "text/plain": [
       "      alpha     DP      EP  US10Y  R-squared\n",
       "SPY -0.1792  0.008  0.0027 -0.001     0.0163"
      ]
     },
     "execution_count": 86,
     "metadata": {},
     "output_type": "execute_result"
    }
   ],
   "source": [
    "summary3, _, _ = get_capm_matrics(\n",
    "    factor[[\"SPY\"]], factor[[\"DP\", \"EP\", \"US10Y\"]], add_constant=True, annualize_factor=12)\n",
    "summary3"
   ]
  },
  {
   "cell_type": "markdown",
   "metadata": {},
   "source": [
    "### 3.2 For each of the three regressions, let’s try to utilize the resulting forecast in a trading strategy."
   ]
  },
  {
   "cell_type": "code",
   "execution_count": 157,
   "metadata": {},
   "outputs": [],
   "source": [
    "predict1 = factor[[\"DP\"]].dropna() * summary1.iloc[0, 1] + summary1.iloc[0, 0]/12\n",
    "predict2 = factor[[\"EP\"]].dropna() * summary2.iloc[0, 1] + summary2.iloc[0, 0]/12\n",
    "predict3 = (factor[[\"DP\", \"EP\", \"US10Y\"]].dropna() * summary3.iloc[0, 1:4]).sum(axis=1) + summary3.iloc[0, 0]/12\n",
    "predict1.columns = [\"SPY\"]\n",
    "predict2.columns = [\"SPY\"]\n",
    "predict3 = predict3.to_frame(\"SPY\")"
   ]
  },
  {
   "cell_type": "code",
   "execution_count": 177,
   "metadata": {},
   "outputs": [],
   "source": [
    "predict_all = pd.concat([p*100*factor[[\"SPY\"]] for p in [predict1, predict2, predict3]], axis=1)\n",
    "predict_all.columns = [\"DP\", \"EP\", \"3-Factor\"]"
   ]
  },
  {
   "cell_type": "code",
   "execution_count": 211,
   "metadata": {},
   "outputs": [
    {
     "data": {
      "text/html": [
       "<div>\n",
       "<style scoped>\n",
       "    .dataframe tbody tr th:only-of-type {\n",
       "        vertical-align: middle;\n",
       "    }\n",
       "\n",
       "    .dataframe tbody tr th {\n",
       "        vertical-align: top;\n",
       "    }\n",
       "\n",
       "    .dataframe thead th {\n",
       "        text-align: right;\n",
       "    }\n",
       "</style>\n",
       "<table border=\"1\" class=\"dataframe\">\n",
       "  <thead>\n",
       "    <tr style=\"text-align: right;\">\n",
       "      <th></th>\n",
       "      <th>Mean</th>\n",
       "      <th>Vol</th>\n",
       "      <th>Sharpe (Mean/Vol)</th>\n",
       "      <th>alpha</th>\n",
       "      <th>beta</th>\n",
       "      <th>Max Drawdown</th>\n",
       "    </tr>\n",
       "  </thead>\n",
       "  <tbody>\n",
       "    <tr>\n",
       "      <th>DP</th>\n",
       "      <td>0.1095</td>\n",
       "      <td>0.1490</td>\n",
       "      <td>0.7348</td>\n",
       "      <td>0.0207</td>\n",
       "      <td>0.8611</td>\n",
       "      <td>-0.6530</td>\n",
       "    </tr>\n",
       "    <tr>\n",
       "      <th>EP</th>\n",
       "      <td>0.1078</td>\n",
       "      <td>0.1286</td>\n",
       "      <td>0.8383</td>\n",
       "      <td>0.0322</td>\n",
       "      <td>0.7327</td>\n",
       "      <td>-0.3823</td>\n",
       "    </tr>\n",
       "    <tr>\n",
       "      <th>3-Factor</th>\n",
       "      <td>0.1250</td>\n",
       "      <td>0.1456</td>\n",
       "      <td>0.8588</td>\n",
       "      <td>0.0451</td>\n",
       "      <td>0.7750</td>\n",
       "      <td>-0.5221</td>\n",
       "    </tr>\n",
       "  </tbody>\n",
       "</table>\n",
       "</div>"
      ],
      "text/plain": [
       "            Mean     Vol  Sharpe (Mean/Vol)   alpha    beta  Max Drawdown\n",
       "DP        0.1095  0.1490             0.7348  0.0207  0.8611       -0.6530\n",
       "EP        0.1078  0.1286             0.8383  0.0322  0.7327       -0.3823\n",
       "3-Factor  0.1250  0.1456             0.8588  0.0451  0.7750       -0.5221"
      ]
     },
     "execution_count": 211,
     "metadata": {},
     "output_type": "execute_result"
    }
   ],
   "source": [
    "summary_stats_bm(predict_all.iloc[1:, ], ret.iloc[1:, 0])"
   ]
  },
  {
   "cell_type": "markdown",
   "metadata": {},
   "source": [
    "### 3.3 GMO believes a risk premium is compensation for a security’s tendency to lose money at “bad times”. Let’s consider risk characteristics.\n",
    "\n",
    "#### (a) calculate the monthly VaR for π = .05. Just use the quantile of the historic data for this VaR calculation."
   ]
  },
  {
   "cell_type": "code",
   "execution_count": 195,
   "metadata": {},
   "outputs": [
    {
     "data": {
      "text/html": [
       "<div>\n",
       "<style scoped>\n",
       "    .dataframe tbody tr th:only-of-type {\n",
       "        vertical-align: middle;\n",
       "    }\n",
       "\n",
       "    .dataframe tbody tr th {\n",
       "        vertical-align: top;\n",
       "    }\n",
       "\n",
       "    .dataframe thead th {\n",
       "        text-align: right;\n",
       "    }\n",
       "</style>\n",
       "<table border=\"1\" class=\"dataframe\">\n",
       "  <thead>\n",
       "    <tr style=\"text-align: right;\">\n",
       "      <th></th>\n",
       "      <th>VaR(0.05)</th>\n",
       "    </tr>\n",
       "  </thead>\n",
       "  <tbody>\n",
       "    <tr>\n",
       "      <th>DP</th>\n",
       "      <td>-0.0523</td>\n",
       "    </tr>\n",
       "    <tr>\n",
       "      <th>EP</th>\n",
       "      <td>-0.0541</td>\n",
       "    </tr>\n",
       "    <tr>\n",
       "      <th>3-Factor</th>\n",
       "      <td>-0.0642</td>\n",
       "    </tr>\n",
       "    <tr>\n",
       "      <th>SPY</th>\n",
       "      <td>-0.0739</td>\n",
       "    </tr>\n",
       "    <tr>\n",
       "      <th>GMWAX</th>\n",
       "      <td>-0.0473</td>\n",
       "    </tr>\n",
       "  </tbody>\n",
       "</table>\n",
       "</div>"
      ],
      "text/plain": [
       "          VaR(0.05)\n",
       "DP          -0.0523\n",
       "EP          -0.0541\n",
       "3-Factor    -0.0642\n",
       "SPY         -0.0739\n",
       "GMWAX       -0.0473"
      ]
     },
     "execution_count": 195,
     "metadata": {},
     "output_type": "execute_result"
    }
   ],
   "source": [
    "predict_all.dropna().quantile(.05).append(ret.quantile(.05)).to_frame(\"VaR(0.05)\")"
   ]
  },
  {
   "cell_type": "markdown",
   "metadata": {},
   "source": [
    "#### (b) The GMO case mentions that stocks under-performed short-term bonds from 2000-2011. Does the dynamic portfolio above under-perform the risk-free rate over this time?\n",
    "\n",
    "* Dynamic portfolio has a higher mean however higher volatility compared to risk-free rate. \n",
    "* From the mean return view, dynamic portfolio outperformed risk-free rate. However, if we use Sharpe ratio as an evaluation standard, it under-performed the risk-free rate. "
   ]
  },
  {
   "cell_type": "code",
   "execution_count": 192,
   "metadata": {},
   "outputs": [
    {
     "data": {
      "text/html": [
       "<div>\n",
       "<style scoped>\n",
       "    .dataframe tbody tr th:only-of-type {\n",
       "        vertical-align: middle;\n",
       "    }\n",
       "\n",
       "    .dataframe tbody tr th {\n",
       "        vertical-align: top;\n",
       "    }\n",
       "\n",
       "    .dataframe thead th {\n",
       "        text-align: right;\n",
       "    }\n",
       "</style>\n",
       "<table border=\"1\" class=\"dataframe\">\n",
       "  <thead>\n",
       "    <tr style=\"text-align: right;\">\n",
       "      <th></th>\n",
       "      <th>mean</th>\n",
       "      <th>volatility</th>\n",
       "      <th>Sharpe Ratio</th>\n",
       "    </tr>\n",
       "  </thead>\n",
       "  <tbody>\n",
       "    <tr>\n",
       "      <th>DP</th>\n",
       "      <td>0.1095</td>\n",
       "      <td>0.1490</td>\n",
       "      <td>0.7348</td>\n",
       "    </tr>\n",
       "    <tr>\n",
       "      <th>EP</th>\n",
       "      <td>0.1078</td>\n",
       "      <td>0.1286</td>\n",
       "      <td>0.8383</td>\n",
       "    </tr>\n",
       "    <tr>\n",
       "      <th>3-Factor</th>\n",
       "      <td>0.1250</td>\n",
       "      <td>0.1456</td>\n",
       "      <td>0.8588</td>\n",
       "    </tr>\n",
       "    <tr>\n",
       "      <th>US3M</th>\n",
       "      <td>0.0229</td>\n",
       "      <td>0.0061</td>\n",
       "      <td>3.7512</td>\n",
       "    </tr>\n",
       "  </tbody>\n",
       "</table>\n",
       "</div>"
      ],
      "text/plain": [
       "            mean  volatility  Sharpe Ratio\n",
       "DP        0.1095      0.1490        0.7348\n",
       "EP        0.1078      0.1286        0.8383\n",
       "3-Factor  0.1250      0.1456        0.8588\n",
       "US3M      0.0229      0.0061        3.7512"
      ]
     },
     "execution_count": 192,
     "metadata": {},
     "output_type": "execute_result"
    }
   ],
   "source": [
    "summary_stat(predict_all.join(rf).dropna(), 12)"
   ]
  },
  {
   "cell_type": "markdown",
   "metadata": {},
   "source": [
    "#### (c) Based on the regression estimates, in how many periods do we estimate a negative risk premium?"
   ]
  },
  {
   "cell_type": "code",
   "execution_count": 332,
   "metadata": {},
   "outputs": [
    {
     "data": {
      "text/html": [
       "<div>\n",
       "<style scoped>\n",
       "    .dataframe tbody tr th:only-of-type {\n",
       "        vertical-align: middle;\n",
       "    }\n",
       "\n",
       "    .dataframe tbody tr th {\n",
       "        vertical-align: top;\n",
       "    }\n",
       "\n",
       "    .dataframe thead th {\n",
       "        text-align: right;\n",
       "    }\n",
       "</style>\n",
       "<table border=\"1\" class=\"dataframe\">\n",
       "  <thead>\n",
       "    <tr style=\"text-align: right;\">\n",
       "      <th></th>\n",
       "      <th>Underperformed (%)</th>\n",
       "    </tr>\n",
       "  </thead>\n",
       "  <tbody>\n",
       "    <tr>\n",
       "      <th>DP</th>\n",
       "      <td>35.1124</td>\n",
       "    </tr>\n",
       "    <tr>\n",
       "      <th>EP</th>\n",
       "      <td>35.6742</td>\n",
       "    </tr>\n",
       "    <tr>\n",
       "      <th>3-Factor</th>\n",
       "      <td>31.4607</td>\n",
       "    </tr>\n",
       "  </tbody>\n",
       "</table>\n",
       "</div>"
      ],
      "text/plain": [
       "          Underperformed (%)\n",
       "DP                   35.1124\n",
       "EP                   35.6742\n",
       "3-Factor             31.4607"
      ]
     },
     "execution_count": 332,
     "metadata": {},
     "output_type": "execute_result"
    }
   ],
   "source": [
    "predict_ind = predict_all.dropna().copy()\n",
    "predict_ind[predict_all >= 0] = 0\n",
    "predict_ind[predict_all < 0] = 1\n",
    "underperform_rate = (predict_ind.sum(axis=0)/predict_ind.shape[0]*100).to_frame(\"Underperformed (%)\")\n",
    "underperform_rate"
   ]
  },
  {
   "cell_type": "markdown",
   "metadata": {},
   "source": [
    "#### (d) Do you believe the dynamic strategy takes on extra risk??\n",
    "\n",
    "* No, judging by the tail risk metrics and volatility of the dynamic strategies compared to SPY it does not seem like these strategies take on extra risk on the whole."
   ]
  },
  {
   "cell_type": "markdown",
   "metadata": {},
   "source": [
    "## 4 Out-of-Sample Forecasting\n",
    "#### 4.1 Report the out-of-sample R2"
   ]
  },
  {
   "cell_type": "code",
   "execution_count": 300,
   "metadata": {},
   "outputs": [
    {
     "data": {
      "text/html": [
       "<div>\n",
       "<style scoped>\n",
       "    .dataframe tbody tr th:only-of-type {\n",
       "        vertical-align: middle;\n",
       "    }\n",
       "\n",
       "    .dataframe tbody tr th {\n",
       "        vertical-align: top;\n",
       "    }\n",
       "\n",
       "    .dataframe thead th {\n",
       "        text-align: right;\n",
       "    }\n",
       "</style>\n",
       "<table border=\"1\" class=\"dataframe\">\n",
       "  <thead>\n",
       "    <tr style=\"text-align: right;\">\n",
       "      <th></th>\n",
       "      <th>const</th>\n",
       "      <th>DP</th>\n",
       "      <th>EP</th>\n",
       "    </tr>\n",
       "  </thead>\n",
       "  <tbody>\n",
       "    <tr>\n",
       "      <th>2022-06-30</th>\n",
       "      <td>-0.0167</td>\n",
       "      <td>0.0073</td>\n",
       "      <td>0.0026</td>\n",
       "    </tr>\n",
       "    <tr>\n",
       "      <th>2022-07-31</th>\n",
       "      <td>-0.0176</td>\n",
       "      <td>0.0078</td>\n",
       "      <td>0.0025</td>\n",
       "    </tr>\n",
       "    <tr>\n",
       "      <th>2022-08-31</th>\n",
       "      <td>-0.0172</td>\n",
       "      <td>0.0074</td>\n",
       "      <td>0.0026</td>\n",
       "    </tr>\n",
       "    <tr>\n",
       "      <th>2022-09-30</th>\n",
       "      <td>-0.0175</td>\n",
       "      <td>0.0076</td>\n",
       "      <td>0.0026</td>\n",
       "    </tr>\n",
       "    <tr>\n",
       "      <th>2022-10-31</th>\n",
       "      <td>-0.0183</td>\n",
       "      <td>0.0081</td>\n",
       "      <td>0.0024</td>\n",
       "    </tr>\n",
       "  </tbody>\n",
       "</table>\n",
       "</div>"
      ],
      "text/plain": [
       "             const      DP      EP\n",
       "2022-06-30 -0.0167  0.0073  0.0026\n",
       "2022-07-31 -0.0176  0.0078  0.0025\n",
       "2022-08-31 -0.0172  0.0074  0.0026\n",
       "2022-09-30 -0.0175  0.0076  0.0026\n",
       "2022-10-31 -0.0183  0.0081  0.0024"
      ]
     },
     "execution_count": 300,
     "metadata": {},
     "output_type": "execute_result"
    }
   ],
   "source": [
    "# model = RollingOLS.from_formula(\"SPY ~ DP + EP\", data=factor, window=factor.shape[0], min_nobs=60, expanding=True).fit()\n",
    "model = RollingOLS(\n",
    "    factor[[\"SPY\"]], sm.add_constant(factor[[\"DP\", \"EP\"]]), window=factor.shape[0], min_nobs=60, expanding=True).fit()\n",
    "\n",
    "params = model.params.shift()\n",
    "params.tail()"
   ]
  },
  {
   "cell_type": "code",
   "execution_count": 301,
   "metadata": {},
   "outputs": [
    {
     "data": {
      "text/plain": [
       "0.6184327462302773"
      ]
     },
     "execution_count": 301,
     "metadata": {},
     "output_type": "execute_result"
    }
   ],
   "source": [
    "predict_spy = (params[[\"DP\", \"EP\"]] * factor[[\"DP\", \"EP\"]]\n",
    "               ).sum(axis=1) + params[\"const\"]\n",
    "predict_err = np.square(factor[\"SPY\"].subtract(predict_spy)).sum()\n",
    "predict_err"
   ]
  },
  {
   "cell_type": "code",
   "execution_count": 302,
   "metadata": {},
   "outputs": [],
   "source": [
    "zero_pre_spy = factor[[\"SPY\"]].expanding(60).mean().shift()\n",
    "zero_pre_err = np.square((factor[[\"SPY\"]] - zero_pre_spy)).sum()"
   ]
  },
  {
   "cell_type": "code",
   "execution_count": 303,
   "metadata": {},
   "outputs": [
    {
     "data": {
      "text/plain": [
       "-0.013733571597686511"
      ]
     },
     "execution_count": 303,
     "metadata": {},
     "output_type": "execute_result"
    }
   ],
   "source": [
    "1 - predict_err/zero_pre_err[0]\n"
   ]
  },
  {
   "cell_type": "markdown",
   "metadata": {},
   "source": [
    "###  4.2 Re-do problem 3.2 using this OOS forecast. How much better/worse is the OOS strategy compared to the in-sample version of 3.2?\n",
    "\n",
    "* Worse. "
   ]
  },
  {
   "cell_type": "code",
   "execution_count": 311,
   "metadata": {},
   "outputs": [
    {
     "data": {
      "text/html": [
       "<div>\n",
       "<style scoped>\n",
       "    .dataframe tbody tr th:only-of-type {\n",
       "        vertical-align: middle;\n",
       "    }\n",
       "\n",
       "    .dataframe tbody tr th {\n",
       "        vertical-align: top;\n",
       "    }\n",
       "\n",
       "    .dataframe thead th {\n",
       "        text-align: right;\n",
       "    }\n",
       "</style>\n",
       "<table border=\"1\" class=\"dataframe\">\n",
       "  <thead>\n",
       "    <tr style=\"text-align: right;\">\n",
       "      <th></th>\n",
       "      <th>Mean</th>\n",
       "      <th>Vol</th>\n",
       "      <th>Sharpe (Mean/Vol)</th>\n",
       "      <th>alpha</th>\n",
       "      <th>beta</th>\n",
       "      <th>Max Drawdown</th>\n",
       "    </tr>\n",
       "  </thead>\n",
       "  <tbody>\n",
       "    <tr>\n",
       "      <th>oos_portfolio</th>\n",
       "      <td>0.093</td>\n",
       "      <td>0.2293</td>\n",
       "      <td>0.4059</td>\n",
       "      <td>0.0549</td>\n",
       "      <td>0.4585</td>\n",
       "      <td>-0.7609</td>\n",
       "    </tr>\n",
       "  </tbody>\n",
       "</table>\n",
       "</div>"
      ],
      "text/plain": [
       "                Mean     Vol  Sharpe (Mean/Vol)   alpha    beta  Max Drawdown\n",
       "oos_portfolio  0.093  0.2293             0.4059  0.0549  0.4585       -0.7609"
      ]
     },
     "execution_count": 311,
     "metadata": {},
     "output_type": "execute_result"
    }
   ],
   "source": [
    "oos_port = (predict_spy * 100 * ret[\"SPY\"]).to_frame(\"oos_portfolio\")\n",
    "summary_stats_bm(oos_port.iloc[61:, ], ret.iloc[61:, 0])"
   ]
  },
  {
   "cell_type": "markdown",
   "metadata": {},
   "source": [
    "### 4.3 Re-do problem 3.3 using this OOS forecast.\n",
    "\n",
    "* OOS forecast has higher risk than insample forecast. "
   ]
  },
  {
   "cell_type": "code",
   "execution_count": 316,
   "metadata": {},
   "outputs": [
    {
     "data": {
      "text/html": [
       "<div>\n",
       "<style scoped>\n",
       "    .dataframe tbody tr th:only-of-type {\n",
       "        vertical-align: middle;\n",
       "    }\n",
       "\n",
       "    .dataframe tbody tr th {\n",
       "        vertical-align: top;\n",
       "    }\n",
       "\n",
       "    .dataframe thead th {\n",
       "        text-align: right;\n",
       "    }\n",
       "</style>\n",
       "<table border=\"1\" class=\"dataframe\">\n",
       "  <thead>\n",
       "    <tr style=\"text-align: right;\">\n",
       "      <th></th>\n",
       "      <th>VaR(0.05)</th>\n",
       "    </tr>\n",
       "  </thead>\n",
       "  <tbody>\n",
       "    <tr>\n",
       "      <th>oos_portfolio</th>\n",
       "      <td>-0.0742</td>\n",
       "    </tr>\n",
       "    <tr>\n",
       "      <th>DP</th>\n",
       "      <td>-0.0523</td>\n",
       "    </tr>\n",
       "    <tr>\n",
       "      <th>EP</th>\n",
       "      <td>-0.0541</td>\n",
       "    </tr>\n",
       "    <tr>\n",
       "      <th>3-Factor</th>\n",
       "      <td>-0.0642</td>\n",
       "    </tr>\n",
       "  </tbody>\n",
       "</table>\n",
       "</div>"
      ],
      "text/plain": [
       "               VaR(0.05)\n",
       "oos_portfolio    -0.0742\n",
       "DP               -0.0523\n",
       "EP               -0.0541\n",
       "3-Factor         -0.0642"
      ]
     },
     "execution_count": 316,
     "metadata": {},
     "output_type": "execute_result"
    }
   ],
   "source": [
    "tail_risk = oos_port.dropna().quantile(.05).append(\n",
    "    predict_all.dropna().quantile(.05)).to_frame(\"VaR(0.05)\")\n",
    "tail_risk"
   ]
  },
  {
   "cell_type": "code",
   "execution_count": 317,
   "metadata": {},
   "outputs": [
    {
     "data": {
      "text/html": [
       "<div>\n",
       "<style scoped>\n",
       "    .dataframe tbody tr th:only-of-type {\n",
       "        vertical-align: middle;\n",
       "    }\n",
       "\n",
       "    .dataframe tbody tr th {\n",
       "        vertical-align: top;\n",
       "    }\n",
       "\n",
       "    .dataframe thead th {\n",
       "        text-align: right;\n",
       "    }\n",
       "</style>\n",
       "<table border=\"1\" class=\"dataframe\">\n",
       "  <thead>\n",
       "    <tr style=\"text-align: right;\">\n",
       "      <th></th>\n",
       "      <th>mean</th>\n",
       "      <th>volatility</th>\n",
       "      <th>Sharpe Ratio</th>\n",
       "    </tr>\n",
       "  </thead>\n",
       "  <tbody>\n",
       "    <tr>\n",
       "      <th>oos_portfolio</th>\n",
       "      <td>0.0930</td>\n",
       "      <td>0.2293</td>\n",
       "      <td>0.4059</td>\n",
       "    </tr>\n",
       "    <tr>\n",
       "      <th>DP</th>\n",
       "      <td>0.0841</td>\n",
       "      <td>0.1520</td>\n",
       "      <td>0.5531</td>\n",
       "    </tr>\n",
       "    <tr>\n",
       "      <th>EP</th>\n",
       "      <td>0.0830</td>\n",
       "      <td>0.1301</td>\n",
       "      <td>0.6384</td>\n",
       "    </tr>\n",
       "    <tr>\n",
       "      <th>3-Factor</th>\n",
       "      <td>0.1056</td>\n",
       "      <td>0.1503</td>\n",
       "      <td>0.7027</td>\n",
       "    </tr>\n",
       "  </tbody>\n",
       "</table>\n",
       "</div>"
      ],
      "text/plain": [
       "                 mean  volatility  Sharpe Ratio\n",
       "oos_portfolio  0.0930      0.2293        0.4059\n",
       "DP             0.0841      0.1520        0.5531\n",
       "EP             0.0830      0.1301        0.6384\n",
       "3-Factor       0.1056      0.1503        0.7027"
      ]
     },
     "execution_count": 317,
     "metadata": {},
     "output_type": "execute_result"
    }
   ],
   "source": [
    "summary_stat(oos_port.join(predict_all).dropna(), 12)"
   ]
  },
  {
   "cell_type": "code",
   "execution_count": 333,
   "metadata": {},
   "outputs": [
    {
     "data": {
      "text/html": [
       "<div>\n",
       "<style scoped>\n",
       "    .dataframe tbody tr th:only-of-type {\n",
       "        vertical-align: middle;\n",
       "    }\n",
       "\n",
       "    .dataframe tbody tr th {\n",
       "        vertical-align: top;\n",
       "    }\n",
       "\n",
       "    .dataframe thead th {\n",
       "        text-align: right;\n",
       "    }\n",
       "</style>\n",
       "<table border=\"1\" class=\"dataframe\">\n",
       "  <thead>\n",
       "    <tr style=\"text-align: right;\">\n",
       "      <th></th>\n",
       "      <th>Underperformed (%)</th>\n",
       "    </tr>\n",
       "  </thead>\n",
       "  <tbody>\n",
       "    <tr>\n",
       "      <th>DP</th>\n",
       "      <td>35.1124</td>\n",
       "    </tr>\n",
       "    <tr>\n",
       "      <th>EP</th>\n",
       "      <td>35.6742</td>\n",
       "    </tr>\n",
       "    <tr>\n",
       "      <th>3-Factor</th>\n",
       "      <td>31.4607</td>\n",
       "    </tr>\n",
       "    <tr>\n",
       "      <th>oos_portfolio</th>\n",
       "      <td>31.6527</td>\n",
       "    </tr>\n",
       "  </tbody>\n",
       "</table>\n",
       "</div>"
      ],
      "text/plain": [
       "               Underperformed (%)\n",
       "DP                        35.1124\n",
       "EP                        35.6742\n",
       "3-Factor                  31.4607\n",
       "oos_portfolio             31.6527"
      ]
     },
     "execution_count": 333,
     "metadata": {},
     "output_type": "execute_result"
    }
   ],
   "source": [
    "oos_rate = ((oos_port.dropna() < 0).sum() /\n",
    "            oos_port.shape[0]).to_frame(\"Underperformed (%)\") * 100\n",
    "underperform_rate.append(oos_rate)"
   ]
  },
  {
   "cell_type": "code",
   "execution_count": null,
   "metadata": {},
   "outputs": [],
   "source": []
  }
 ],
 "metadata": {
  "kernelspec": {
   "display_name": "Python 3.8.5 ('.venv': venv)",
   "language": "python",
   "name": "python3"
  },
  "language_info": {
   "codemirror_mode": {
    "name": "ipython",
    "version": 3
   },
   "file_extension": ".py",
   "mimetype": "text/x-python",
   "name": "python",
   "nbconvert_exporter": "python",
   "pygments_lexer": "ipython3",
   "version": "3.8.5"
  },
  "orig_nbformat": 4,
  "vscode": {
   "interpreter": {
    "hash": "6553dfd50d31686df0e364d38a7d281a21dd8241aae825f978e35a44bd16b092"
   }
  }
 },
 "nbformat": 4,
 "nbformat_minor": 2
}
