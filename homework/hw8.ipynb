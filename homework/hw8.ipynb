{
 "cells": [
  {
   "cell_type": "code",
   "execution_count": 1,
   "metadata": {},
   "outputs": [],
   "source": [
    "import pandas as pd\n",
    "import numpy as np\n",
    "import matplotlib.pyplot as plt\n",
    "import statsmodels.api as sm\n",
    "from arch import arch_model\n",
    "from arch.univariate import GARCH, EWMAVariance\n",
    "from sklearn import linear_model\n",
    "import scipy.stats as stats\n",
    "from statsmodels.regression.rolling import RollingOLS\n",
    "import seaborn as sns\n",
    "import warnings\n",
    "import ast\n",
    "warnings.filterwarnings(\"ignore\")\n",
    "pd.set_option(\"display.precision\", 4)"
   ]
  },
  {
   "cell_type": "markdown",
   "metadata": {},
   "source": [
    "# 1 Conceptual issues for LTCM\n",
    "## 1.1 Describe LTCM’s investment strategy with regard to the following aspects:\n",
    "\n",
    "- Securities traded: Fixed income and credit, and some equities, acoree global markets. \n",
    "\n",
    "- Trading frequency: Their strategies are designed to make money over long horizons -- six months to two years or more, however the trading frequency is related to specific trading strategies. Their largest bucket, the convergence trades, typically take weeks and months to converge. Overall, they are something of a medium-term frequency. Largely, they are not trying to arbitrage intraday movements, nor are they making long-term directional bets.\n",
    "\n",
    "- Skewness (Do they seek many small wins or a few big hits?): LTCM largely is trying to pick up small premia in the convergence trades, which limits the upside of any individual trade, and leaves it substantial downside, given all the leverage.\n",
    "\n",
    "- Forecasting (What is behind their selection of trades?):  Forecasting convergence.\n",
    "\n",
    "## 1.2 What are LTCM’s biggest advantages over its competitors?\n",
    "\n",
    "- Efficient financing. LTCM got very favorable terms on all financing—sometimes even zero haircut! Typically had small, if any, outlay.\n",
    "- Fund size. Have market power even in the large market of institutional wholesale.\n",
    "- Liquidity. LTCM has in place many mechanisms to ensure liquidity.\n",
    "- Long-term horizon. In financing and assessing trades, LTCM takes a relatively long-term view.\n",
    "- Hedged. LTCM avoids taking too much default risk or explicit directional bets.\n"
   ]
  },
  {
   "cell_type": "markdown",
   "metadata": {},
   "source": [
    "## 1.3 The case discusses four types of funding risk facing LTCM:\n",
    "\n",
    "- collateral haircuts: Collateral haircuts. For most trades, LTCM obtains 100% financing on a fully collateralized basis. They use value at risk measures and stress test for modelling potential profits and losses.\n",
    "\n",
    "- repo maturity: LTCM goes against the norm by entering into relatively long-maturity repo. While much of it is overnight, LTCM uses contracts that typically have maturity of 6-12 months. Furthermore, LTCM manages their aggregate repo maturity.\n",
    "\n",
    "- equity redemption: The firm is highly levered, so equity funding risk is especially important. LTCM restricts redemptions of equity year by year. The restriction is particularly strong in that unredeemed money is re-locked.\n",
    "\n",
    "- loan access"
   ]
  },
  {
   "cell_type": "markdown",
   "metadata": {},
   "source": [
    "## 1.4 LTCM is largely in the business of selling liquidity and volatility. Describe how LTCM accounts for liquidity risk in their quantitative measurements."
   ]
  },
  {
   "cell_type": "markdown",
   "metadata": {},
   "source": [
    "## 1.5 Is leverage risk currently a concern for LTCM?"
   ]
  },
  {
   "cell_type": "markdown",
   "metadata": {},
   "source": [
    "## 1.6 What is the risk in these convergence trades?"
   ]
  },
  {
   "cell_type": "markdown",
   "metadata": {},
   "source": [
    "# 2 LTCM Risk Decomposition"
   ]
  },
  {
   "cell_type": "markdown",
   "metadata": {},
   "source": [
    "## Data"
   ]
  },
  {
   "cell_type": "code",
   "execution_count": 2,
   "metadata": {},
   "outputs": [
    {
     "data": {
      "text/html": [
       "<div>\n",
       "<style scoped>\n",
       "    .dataframe tbody tr th:only-of-type {\n",
       "        vertical-align: middle;\n",
       "    }\n",
       "\n",
       "    .dataframe tbody tr th {\n",
       "        vertical-align: top;\n",
       "    }\n",
       "\n",
       "    .dataframe thead th {\n",
       "        text-align: right;\n",
       "    }\n",
       "</style>\n",
       "<table border=\"1\" class=\"dataframe\">\n",
       "  <thead>\n",
       "    <tr style=\"text-align: right;\">\n",
       "      <th></th>\n",
       "      <th>Fund Capital ($billions)</th>\n",
       "      <th>Gross Monthly Performancea</th>\n",
       "      <th>Net Monthly Performanceb</th>\n",
       "      <th>Index of Net Performance</th>\n",
       "    </tr>\n",
       "  </thead>\n",
       "  <tbody>\n",
       "    <tr>\n",
       "      <th>NaT</th>\n",
       "      <td>NaN</td>\n",
       "      <td>NaN</td>\n",
       "      <td>NaN</td>\n",
       "      <td>1.00</td>\n",
       "    </tr>\n",
       "    <tr>\n",
       "      <th>1994-03-01</th>\n",
       "      <td>1.1</td>\n",
       "      <td>-0.011</td>\n",
       "      <td>-0.013</td>\n",
       "      <td>0.99</td>\n",
       "    </tr>\n",
       "    <tr>\n",
       "      <th>1994-04-01</th>\n",
       "      <td>1.1</td>\n",
       "      <td>0.014</td>\n",
       "      <td>0.008</td>\n",
       "      <td>1.00</td>\n",
       "    </tr>\n",
       "    <tr>\n",
       "      <th>1994-05-01</th>\n",
       "      <td>1.2</td>\n",
       "      <td>0.068</td>\n",
       "      <td>0.053</td>\n",
       "      <td>1.05</td>\n",
       "    </tr>\n",
       "    <tr>\n",
       "      <th>1994-06-01</th>\n",
       "      <td>1.2</td>\n",
       "      <td>-0.039</td>\n",
       "      <td>-0.029</td>\n",
       "      <td>1.02</td>\n",
       "    </tr>\n",
       "  </tbody>\n",
       "</table>\n",
       "</div>"
      ],
      "text/plain": [
       "            Fund Capital ($billions)  Gross Monthly Performancea  \\\n",
       "NaT                              NaN                         NaN   \n",
       "1994-03-01                       1.1                      -0.011   \n",
       "1994-04-01                       1.1                       0.014   \n",
       "1994-05-01                       1.2                       0.068   \n",
       "1994-06-01                       1.2                      -0.039   \n",
       "\n",
       "            Net Monthly Performanceb  Index of Net Performance  \n",
       "NaT                              NaN                      1.00  \n",
       "1994-03-01                    -0.013                      0.99  \n",
       "1994-04-01                     0.008                      1.00  \n",
       "1994-05-01                     0.053                      1.05  \n",
       "1994-06-01                    -0.029                      1.02  "
      ]
     },
     "execution_count": 2,
     "metadata": {},
     "output_type": "execute_result"
    }
   ],
   "source": [
    "ret = pd.read_excel(\"../data/ltcm_exhibits_data.xlsx\", index_col=0, sheet_name=1)\n",
    "ret.head()"
   ]
  },
  {
   "cell_type": "code",
   "execution_count": 3,
   "metadata": {},
   "outputs": [
    {
     "data": {
      "text/html": [
       "<div>\n",
       "<style scoped>\n",
       "    .dataframe tbody tr th:only-of-type {\n",
       "        vertical-align: middle;\n",
       "    }\n",
       "\n",
       "    .dataframe tbody tr th {\n",
       "        vertical-align: top;\n",
       "    }\n",
       "\n",
       "    .dataframe thead th {\n",
       "        text-align: right;\n",
       "    }\n",
       "</style>\n",
       "<table border=\"1\" class=\"dataframe\">\n",
       "  <thead>\n",
       "    <tr style=\"text-align: right;\">\n",
       "      <th></th>\n",
       "      <th>SPY</th>\n",
       "    </tr>\n",
       "  </thead>\n",
       "  <tbody>\n",
       "    <tr>\n",
       "      <th>1993-02-28</th>\n",
       "      <td>0.0107</td>\n",
       "    </tr>\n",
       "    <tr>\n",
       "      <th>1993-03-31</th>\n",
       "      <td>0.0224</td>\n",
       "    </tr>\n",
       "    <tr>\n",
       "      <th>1993-04-30</th>\n",
       "      <td>-0.0256</td>\n",
       "    </tr>\n",
       "    <tr>\n",
       "      <th>1993-05-31</th>\n",
       "      <td>0.0270</td>\n",
       "    </tr>\n",
       "    <tr>\n",
       "      <th>1993-06-30</th>\n",
       "      <td>0.0037</td>\n",
       "    </tr>\n",
       "  </tbody>\n",
       "</table>\n",
       "</div>"
      ],
      "text/plain": [
       "               SPY\n",
       "1993-02-28  0.0107\n",
       "1993-03-31  0.0224\n",
       "1993-04-30 -0.0256\n",
       "1993-05-31  0.0270\n",
       "1993-06-30  0.0037"
      ]
     },
     "execution_count": 3,
     "metadata": {},
     "output_type": "execute_result"
    }
   ],
   "source": [
    "SPY = pd.read_excel(\"../data/gmo_analysis_data.xlsx\", sheet_name=2, index_col=0)\n",
    "rf = pd.read_excel(\"../data/gmo_analysis_data.xlsx\", sheet_name=3, index_col=0)\n",
    "SPY = SPY[[\"SPY\"]]\n",
    "SPY.head()"
   ]
  },
  {
   "cell_type": "code",
   "execution_count": 4,
   "metadata": {},
   "outputs": [
    {
     "data": {
      "text/html": [
       "<div>\n",
       "<style scoped>\n",
       "    .dataframe tbody tr th:only-of-type {\n",
       "        vertical-align: middle;\n",
       "    }\n",
       "\n",
       "    .dataframe tbody tr th {\n",
       "        vertical-align: top;\n",
       "    }\n",
       "\n",
       "    .dataframe thead th {\n",
       "        text-align: right;\n",
       "    }\n",
       "</style>\n",
       "<table border=\"1\" class=\"dataframe\">\n",
       "  <thead>\n",
       "    <tr style=\"text-align: right;\">\n",
       "      <th></th>\n",
       "      <th>US3M</th>\n",
       "    </tr>\n",
       "  </thead>\n",
       "  <tbody>\n",
       "    <tr>\n",
       "      <th>1993-02-28</th>\n",
       "      <td>0.0025</td>\n",
       "    </tr>\n",
       "    <tr>\n",
       "      <th>1993-03-31</th>\n",
       "      <td>0.0025</td>\n",
       "    </tr>\n",
       "    <tr>\n",
       "      <th>1993-04-30</th>\n",
       "      <td>0.0025</td>\n",
       "    </tr>\n",
       "    <tr>\n",
       "      <th>1993-05-31</th>\n",
       "      <td>0.0026</td>\n",
       "    </tr>\n",
       "    <tr>\n",
       "      <th>1993-06-30</th>\n",
       "      <td>0.0026</td>\n",
       "    </tr>\n",
       "  </tbody>\n",
       "</table>\n",
       "</div>"
      ],
      "text/plain": [
       "              US3M\n",
       "1993-02-28  0.0025\n",
       "1993-03-31  0.0025\n",
       "1993-04-30  0.0025\n",
       "1993-05-31  0.0026\n",
       "1993-06-30  0.0026"
      ]
     },
     "execution_count": 4,
     "metadata": {},
     "output_type": "execute_result"
    }
   ],
   "source": [
    "rf.head()"
   ]
  },
  {
   "cell_type": "markdown",
   "metadata": {},
   "source": [
    "## Functions"
   ]
  },
  {
   "cell_type": "code",
   "execution_count": 5,
   "metadata": {},
   "outputs": [],
   "source": [
    "def summary_stat(df, annual_factor, q=0.05):\n",
    "    '''summary assets' mean return, voaltility(stdev) and sharpe ratio'''\n",
    "    result = pd.DataFrame()\n",
    "    result[\"mean\"] = df.mean() * annual_factor\n",
    "    result[\"volatility\"] = df.std() * np.sqrt(annual_factor)\n",
    "    result[\"Sharpe Ratio\"] = result[\"mean\"]/result[\"volatility\"]\n",
    "\n",
    "    return result\n",
    "\n",
    "def cal_risk(df, quant=0.05, style=True):\n",
    "    result = pd.DataFrame()\n",
    "    # you don't neet to annualize higher moments\n",
    "    var_name = f'VaR ({quant})'\n",
    "    cvar_name = f'CVaR ({quant})'\n",
    "    result['skewness'] = df.skew()\n",
    "    result['kurtosis'] = df.kurtosis()\n",
    "    result[var_name] = df.quantile(quant)\n",
    "    result[cvar_name] = df[df < df.quantile(quant)].mean()\n",
    "    if style:\n",
    "        result = result.style.format(\n",
    "            {var_name: \"{:.2%}\", cvar_name: \"{:.2%}\"})\n",
    "    return result"
   ]
  },
  {
   "cell_type": "code",
   "execution_count": 6,
   "metadata": {},
   "outputs": [],
   "source": [
    "def get_capm_matrics(targets, regressors, add_constant=True, annualize_factor=12):\n",
    "\n",
    "    result = pd.DataFrame(index=targets.columns)\n",
    "\n",
    "    if add_constant:\n",
    "        X = sm.add_constant(regressors)\n",
    "    else:\n",
    "        X = regressors.copy()\n",
    "    for column in targets.columns:\n",
    "        y = targets[[column]]\n",
    "        model = sm.OLS(y, X, missing='drop').fit()\n",
    "        if add_constant:\n",
    "            result.loc[column, \"alpha\"] = model.params['const'] * \\\n",
    "                annualize_factor\n",
    "        result.loc[column, regressors.columns] = model.params[regressors.columns]\n",
    "\n",
    "        result.loc[column, \"R-squared\"] = model.rsquared\n",
    "\n",
    "    return result"
   ]
  },
  {
   "cell_type": "markdown",
   "metadata": {},
   "source": [
    "## 2.1 Summary stats.\n",
    "### (a) For both the gross and net series of LTCM excess returns, report the mean, volatility, and Sharpe ratios."
   ]
  },
  {
   "cell_type": "code",
   "execution_count": 7,
   "metadata": {},
   "outputs": [
    {
     "data": {
      "text/html": [
       "<div>\n",
       "<style scoped>\n",
       "    .dataframe tbody tr th:only-of-type {\n",
       "        vertical-align: middle;\n",
       "    }\n",
       "\n",
       "    .dataframe tbody tr th {\n",
       "        vertical-align: top;\n",
       "    }\n",
       "\n",
       "    .dataframe thead th {\n",
       "        text-align: right;\n",
       "    }\n",
       "</style>\n",
       "<table border=\"1\" class=\"dataframe\">\n",
       "  <thead>\n",
       "    <tr style=\"text-align: right;\">\n",
       "      <th></th>\n",
       "      <th>Gross Monthly Performancea</th>\n",
       "      <th>Net Monthly Performanceb</th>\n",
       "      <th>SPY</th>\n",
       "    </tr>\n",
       "  </thead>\n",
       "  <tbody>\n",
       "    <tr>\n",
       "      <th>1994-03-31</th>\n",
       "      <td>-0.0140</td>\n",
       "      <td>-0.0160</td>\n",
       "      <td>-0.0449</td>\n",
       "    </tr>\n",
       "    <tr>\n",
       "      <th>1994-04-30</th>\n",
       "      <td>0.0107</td>\n",
       "      <td>0.0047</td>\n",
       "      <td>0.0079</td>\n",
       "    </tr>\n",
       "    <tr>\n",
       "      <th>1994-05-31</th>\n",
       "      <td>0.0644</td>\n",
       "      <td>0.0494</td>\n",
       "      <td>0.0123</td>\n",
       "    </tr>\n",
       "    <tr>\n",
       "      <th>1994-06-30</th>\n",
       "      <td>-0.0425</td>\n",
       "      <td>-0.0326</td>\n",
       "      <td>-0.0264</td>\n",
       "    </tr>\n",
       "    <tr>\n",
       "      <th>1994-07-31</th>\n",
       "      <td>0.1123</td>\n",
       "      <td>0.0803</td>\n",
       "      <td>0.0287</td>\n",
       "    </tr>\n",
       "  </tbody>\n",
       "</table>\n",
       "</div>"
      ],
      "text/plain": [
       "            Gross Monthly Performancea  Net Monthly Performanceb     SPY\n",
       "1994-03-31                     -0.0140                   -0.0160 -0.0449\n",
       "1994-04-30                      0.0107                    0.0047  0.0079\n",
       "1994-05-31                      0.0644                    0.0494  0.0123\n",
       "1994-06-30                     -0.0425                   -0.0326 -0.0264\n",
       "1994-07-31                      0.1123                    0.0803  0.0287"
      ]
     },
     "execution_count": 7,
     "metadata": {},
     "output_type": "execute_result"
    }
   ],
   "source": [
    "ret = ret.resample('M').last()\n",
    "ret_all = ret[[\"Gross Monthly Performancea\",\n",
    "                    \"Net Monthly Performanceb\"]].merge(SPY, left_index=True, right_index=True)\n",
    "ret_excess = ret_all.subtract(rf['US3M'], axis=0).dropna()\n",
    "ret_excess.head()"
   ]
  },
  {
   "cell_type": "code",
   "execution_count": 8,
   "metadata": {},
   "outputs": [
    {
     "data": {
      "text/html": [
       "<div>\n",
       "<style scoped>\n",
       "    .dataframe tbody tr th:only-of-type {\n",
       "        vertical-align: middle;\n",
       "    }\n",
       "\n",
       "    .dataframe tbody tr th {\n",
       "        vertical-align: top;\n",
       "    }\n",
       "\n",
       "    .dataframe thead th {\n",
       "        text-align: right;\n",
       "    }\n",
       "</style>\n",
       "<table border=\"1\" class=\"dataframe\">\n",
       "  <thead>\n",
       "    <tr style=\"text-align: right;\">\n",
       "      <th></th>\n",
       "      <th>mean</th>\n",
       "      <th>volatility</th>\n",
       "      <th>Sharpe Ratio</th>\n",
       "    </tr>\n",
       "  </thead>\n",
       "  <tbody>\n",
       "    <tr>\n",
       "      <th>Gross Monthly Performancea</th>\n",
       "      <td>0.2421</td>\n",
       "      <td>0.1362</td>\n",
       "      <td>1.7769</td>\n",
       "    </tr>\n",
       "    <tr>\n",
       "      <th>Net Monthly Performanceb</th>\n",
       "      <td>0.1554</td>\n",
       "      <td>0.1118</td>\n",
       "      <td>1.3901</td>\n",
       "    </tr>\n",
       "    <tr>\n",
       "      <th>SPY</th>\n",
       "      <td>0.1738</td>\n",
       "      <td>0.1123</td>\n",
       "      <td>1.5479</td>\n",
       "    </tr>\n",
       "  </tbody>\n",
       "</table>\n",
       "</div>"
      ],
      "text/plain": [
       "                              mean  volatility  Sharpe Ratio\n",
       "Gross Monthly Performancea  0.2421      0.1362        1.7769\n",
       "Net Monthly Performanceb    0.1554      0.1118        1.3901\n",
       "SPY                         0.1738      0.1123        1.5479"
      ]
     },
     "execution_count": 8,
     "metadata": {},
     "output_type": "execute_result"
    }
   ],
   "source": [
    "summary_stat(ret_excess, 12)"
   ]
  },
  {
   "cell_type": "markdown",
   "metadata": {},
   "source": [
    "## (b) Report the skewness, kurtosis, and (historic) VaR(.05)."
   ]
  },
  {
   "cell_type": "code",
   "execution_count": 9,
   "metadata": {},
   "outputs": [
    {
     "data": {
      "text/html": [
       "<style type=\"text/css\">\n",
       "</style>\n",
       "<table id=\"T_6895d_\">\n",
       "  <thead>\n",
       "    <tr>\n",
       "      <th class=\"blank level0\" >&nbsp;</th>\n",
       "      <th class=\"col_heading level0 col0\" >skewness</th>\n",
       "      <th class=\"col_heading level0 col1\" >kurtosis</th>\n",
       "      <th class=\"col_heading level0 col2\" >VaR (0.05)</th>\n",
       "      <th class=\"col_heading level0 col3\" >CVaR (0.05)</th>\n",
       "    </tr>\n",
       "  </thead>\n",
       "  <tbody>\n",
       "    <tr>\n",
       "      <th id=\"T_6895d_level0_row0\" class=\"row_heading level0 row0\" >Gross Monthly Performancea</th>\n",
       "      <td id=\"T_6895d_row0_col0\" class=\"data row0 col0\" >-0.2877</td>\n",
       "      <td id=\"T_6895d_row0_col1\" class=\"data row0 col1\" >1.5866</td>\n",
       "      <td id=\"T_6895d_row0_col2\" class=\"data row0 col2\" >-3.04%</td>\n",
       "      <td id=\"T_6895d_row0_col3\" class=\"data row0 col3\" >-7.30%</td>\n",
       "    </tr>\n",
       "    <tr>\n",
       "      <th id=\"T_6895d_level0_row1\" class=\"row_heading level0 row1\" >Net Monthly Performanceb</th>\n",
       "      <td id=\"T_6895d_row1_col0\" class=\"data row1 col0\" >-0.8102</td>\n",
       "      <td id=\"T_6895d_row1_col1\" class=\"data row1 col1\" >2.9269</td>\n",
       "      <td id=\"T_6895d_row1_col2\" class=\"data row1 col2\" >-2.64%</td>\n",
       "      <td id=\"T_6895d_row1_col3\" class=\"data row1 col3\" >-6.87%</td>\n",
       "    </tr>\n",
       "    <tr>\n",
       "      <th id=\"T_6895d_level0_row2\" class=\"row_heading level0 row2\" >SPY</th>\n",
       "      <td id=\"T_6895d_row2_col0\" class=\"data row2 col0\" >-0.4335</td>\n",
       "      <td id=\"T_6895d_row2_col1\" class=\"data row2 col1\" >-0.3620</td>\n",
       "      <td id=\"T_6895d_row2_col2\" class=\"data row2 col2\" >-4.64%</td>\n",
       "      <td id=\"T_6895d_row2_col3\" class=\"data row2 col3\" >-5.14%</td>\n",
       "    </tr>\n",
       "  </tbody>\n",
       "</table>\n"
      ],
      "text/plain": [
       "<pandas.io.formats.style.Styler at 0x7ff89c97d310>"
      ]
     },
     "execution_count": 9,
     "metadata": {},
     "output_type": "execute_result"
    }
   ],
   "source": [
    "cal_risk(ret_excess, quant=0.05)"
   ]
  },
  {
   "cell_type": "markdown",
   "metadata": {},
   "source": [
    "## (c) Comment on how these stats compare to SPY and other assets we have seen. How much do they differ between gross and net?\n",
    "\n",
    "- Sharpe is very high relative to what we usually see.\n",
    "- Volatility is sized similarly to SPY, and minimum return is not too bad.\n",
    "- The difference between Gross and Net is not too large. Gross return has higher mean and higher volatility, and also has a higher Sharpe ratio. Which means that if you take more risk, you will have a higher risk compensation per unit. "
   ]
  },
  {
   "cell_type": "markdown",
   "metadata": {},
   "source": [
    "## 2.2 Using the series of net LTCM excess returns, estimate the regresssion. \n",
    "### (a) Report $\\alpha$ and $\\beta_m$. Report the $R^2$ stat."
   ]
  },
  {
   "cell_type": "code",
   "execution_count": 10,
   "metadata": {},
   "outputs": [
    {
     "name": "stdout",
     "output_type": "stream",
     "text": [
      "Annualized alpha: \n"
     ]
    },
    {
     "data": {
      "text/html": [
       "<div>\n",
       "<style scoped>\n",
       "    .dataframe tbody tr th:only-of-type {\n",
       "        vertical-align: middle;\n",
       "    }\n",
       "\n",
       "    .dataframe tbody tr th {\n",
       "        vertical-align: top;\n",
       "    }\n",
       "\n",
       "    .dataframe thead th {\n",
       "        text-align: right;\n",
       "    }\n",
       "</style>\n",
       "<table border=\"1\" class=\"dataframe\">\n",
       "  <thead>\n",
       "    <tr style=\"text-align: right;\">\n",
       "      <th></th>\n",
       "      <th>alpha</th>\n",
       "      <th>SPY</th>\n",
       "      <th>R-squared</th>\n",
       "    </tr>\n",
       "  </thead>\n",
       "  <tbody>\n",
       "    <tr>\n",
       "      <th>Net Monthly Performanceb</th>\n",
       "      <td>0.1315</td>\n",
       "      <td>0.1371</td>\n",
       "      <td>0.019</td>\n",
       "    </tr>\n",
       "  </tbody>\n",
       "</table>\n",
       "</div>"
      ],
      "text/plain": [
       "                           alpha     SPY  R-squared\n",
       "Net Monthly Performanceb  0.1315  0.1371      0.019"
      ]
     },
     "execution_count": 10,
     "metadata": {},
     "output_type": "execute_result"
    }
   ],
   "source": [
    "print(\"Annualized alpha: \")\n",
    "get_capm_matrics(ret_excess[[\"Net Monthly Performanceb\"]], ret_excess[[\"SPY\"]], add_constant=True, annualize_factor=12)"
   ]
  },
  {
   "cell_type": "markdown",
   "metadata": {},
   "source": [
    "### (b) From this regression, does LTCM appear to be a “closet indexer”?\n",
    "- Not at all. Though LTCM delivers similar returns with resspect to SPY, it has very low correlation to SPY, and most of it's returns comes from alpha. \n",
    "\n",
    "### (c) From the regression, does LTCM appear to deliver excess returns beyond the risk premium we expect from market exposure?\n",
    "- Yes. LTCM has a relatively low exposure to SPY and has an alpha which generating a massive information ratio. "
   ]
  },
  {
   "cell_type": "markdown",
   "metadata": {},
   "source": [
    "## 2.3 Let’s check for non-linear market exposure. Run the following regression on LTCM’s net excess returns\n",
    "### (a) Report $\\beta_1$, $\\beta_2$, and the $R^2$ stat"
   ]
  },
  {
   "cell_type": "code",
   "execution_count": 11,
   "metadata": {},
   "outputs": [],
   "source": [
    "ret_excess[\"rm^2\"] = np.square(ret_excess[\"SPY\"])"
   ]
  },
  {
   "cell_type": "code",
   "execution_count": 28,
   "metadata": {},
   "outputs": [
    {
     "name": "stdout",
     "output_type": "stream",
     "text": [
      "Annualized alpha: \n"
     ]
    },
    {
     "data": {
      "text/html": [
       "<div>\n",
       "<style scoped>\n",
       "    .dataframe tbody tr th:only-of-type {\n",
       "        vertical-align: middle;\n",
       "    }\n",
       "\n",
       "    .dataframe tbody tr th {\n",
       "        vertical-align: top;\n",
       "    }\n",
       "\n",
       "    .dataframe thead th {\n",
       "        text-align: right;\n",
       "    }\n",
       "</style>\n",
       "<table border=\"1\" class=\"dataframe\">\n",
       "  <thead>\n",
       "    <tr style=\"text-align: right;\">\n",
       "      <th></th>\n",
       "      <th>alpha</th>\n",
       "      <th>SPY</th>\n",
       "      <th>rm^2</th>\n",
       "      <th>R-squared</th>\n",
       "    </tr>\n",
       "  </thead>\n",
       "  <tbody>\n",
       "    <tr>\n",
       "      <th>Net Monthly Performanceb</th>\n",
       "      <td>0.155</td>\n",
       "      <td>0.1669</td>\n",
       "      <td>-1.9267</td>\n",
       "      <td>0.0243</td>\n",
       "    </tr>\n",
       "  </tbody>\n",
       "</table>\n",
       "</div>"
      ],
      "text/plain": [
       "                          alpha     SPY    rm^2  R-squared\n",
       "Net Monthly Performanceb  0.155  0.1669 -1.9267     0.0243"
      ]
     },
     "execution_count": 28,
     "metadata": {},
     "output_type": "execute_result"
    }
   ],
   "source": [
    "print(\"Annualized alpha: \")\n",
    "get_capm_matrics(ret_excess[[\"Net Monthly Performanceb\"]], ret_excess[[\n",
    "                 \"SPY\", \"rm^2\"]], add_constant=True, annualize_factor=12)"
   ]
  },
  {
   "cell_type": "markdown",
   "metadata": {},
   "source": [
    "### (b) Does the quadratic market factor do much to increase the overall LTCM variation explained by the market?\n",
    "\n",
    "- It increases $R^2$ from 1.9% to 2.43%, but does not add to the $R^2$ to a significant degree. \n",
    "\n",
    "### (c) From the regression evidence, does LTCM’s market exposure behave as if it is long market options or short market options?\n",
    "\n",
    "- $\\beta_2$ equal to -1.93 which shows that LTCM short market options since the option price is convex to the market underlying asset. \n",
    "\n",
    "### (d) Should we describe LTCM as being positively or negatively exposed to market volatility?\n",
    "\n",
    "- Negative. This indicates LTCM underperforms particularly large SPY movements (whether on the upside or downside)."
   ]
  },
  {
   "cell_type": "markdown",
   "metadata": {},
   "source": [
    "## 2.4 Let’s try to pinpoint the nature of LTCM’s nonlinear exposure. Does it come more from exposure to up-markets or down-markets? Run the following regression on LTCM’s net excess returns:\n",
    "### (a) Report β1, β2, and the R2 stat."
   ]
  },
  {
   "cell_type": "code",
   "execution_count": 13,
   "metadata": {},
   "outputs": [
    {
     "data": {
      "text/html": [
       "<div>\n",
       "<style scoped>\n",
       "    .dataframe tbody tr th:only-of-type {\n",
       "        vertical-align: middle;\n",
       "    }\n",
       "\n",
       "    .dataframe tbody tr th {\n",
       "        vertical-align: top;\n",
       "    }\n",
       "\n",
       "    .dataframe thead th {\n",
       "        text-align: right;\n",
       "    }\n",
       "</style>\n",
       "<table border=\"1\" class=\"dataframe\">\n",
       "  <thead>\n",
       "    <tr style=\"text-align: right;\">\n",
       "      <th></th>\n",
       "      <th>Gross Monthly Performancea</th>\n",
       "      <th>Net Monthly Performanceb</th>\n",
       "      <th>SPY</th>\n",
       "      <th>rm^2</th>\n",
       "      <th>up</th>\n",
       "      <th>down</th>\n",
       "    </tr>\n",
       "  </thead>\n",
       "  <tbody>\n",
       "    <tr>\n",
       "      <th>1994-03-31</th>\n",
       "      <td>-0.0140</td>\n",
       "      <td>-0.0160</td>\n",
       "      <td>-0.0449</td>\n",
       "      <td>2.0131e-03</td>\n",
       "      <td>0.0</td>\n",
       "      <td>0.0149</td>\n",
       "    </tr>\n",
       "    <tr>\n",
       "      <th>1994-04-30</th>\n",
       "      <td>0.0107</td>\n",
       "      <td>0.0047</td>\n",
       "      <td>0.0079</td>\n",
       "      <td>6.2473e-05</td>\n",
       "      <td>0.0</td>\n",
       "      <td>0.0000</td>\n",
       "    </tr>\n",
       "    <tr>\n",
       "      <th>1994-05-31</th>\n",
       "      <td>0.0644</td>\n",
       "      <td>0.0494</td>\n",
       "      <td>0.0123</td>\n",
       "      <td>1.5248e-04</td>\n",
       "      <td>0.0</td>\n",
       "      <td>0.0000</td>\n",
       "    </tr>\n",
       "    <tr>\n",
       "      <th>1994-06-30</th>\n",
       "      <td>-0.0425</td>\n",
       "      <td>-0.0326</td>\n",
       "      <td>-0.0264</td>\n",
       "      <td>6.9850e-04</td>\n",
       "      <td>0.0</td>\n",
       "      <td>0.0000</td>\n",
       "    </tr>\n",
       "    <tr>\n",
       "      <th>1994-07-31</th>\n",
       "      <td>0.1123</td>\n",
       "      <td>0.0803</td>\n",
       "      <td>0.0287</td>\n",
       "      <td>8.2184e-04</td>\n",
       "      <td>0.0</td>\n",
       "      <td>0.0000</td>\n",
       "    </tr>\n",
       "  </tbody>\n",
       "</table>\n",
       "</div>"
      ],
      "text/plain": [
       "            Gross Monthly Performancea  Net Monthly Performanceb     SPY  \\\n",
       "1994-03-31                     -0.0140                   -0.0160 -0.0449   \n",
       "1994-04-30                      0.0107                    0.0047  0.0079   \n",
       "1994-05-31                      0.0644                    0.0494  0.0123   \n",
       "1994-06-30                     -0.0425                   -0.0326 -0.0264   \n",
       "1994-07-31                      0.1123                    0.0803  0.0287   \n",
       "\n",
       "                  rm^2   up    down  \n",
       "1994-03-31  2.0131e-03  0.0  0.0149  \n",
       "1994-04-30  6.2473e-05  0.0  0.0000  \n",
       "1994-05-31  1.5248e-04  0.0  0.0000  \n",
       "1994-06-30  6.9850e-04  0.0  0.0000  \n",
       "1994-07-31  8.2184e-04  0.0  0.0000  "
      ]
     },
     "execution_count": 13,
     "metadata": {},
     "output_type": "execute_result"
    }
   ],
   "source": [
    "ret_excess[\"up\"] = [max(rm - 0.03, 0) for rm in ret_excess[\"SPY\"]]\n",
    "ret_excess[\"down\"] = [max(-0.03 - rm, 0) for rm in ret_excess[\"SPY\"]]\n",
    "ret_excess.head()"
   ]
  },
  {
   "cell_type": "code",
   "execution_count": 14,
   "metadata": {},
   "outputs": [
    {
     "name": "stdout",
     "output_type": "stream",
     "text": [
      "Annualized alpha: \n"
     ]
    },
    {
     "data": {
      "text/html": [
       "<div>\n",
       "<style scoped>\n",
       "    .dataframe tbody tr th:only-of-type {\n",
       "        vertical-align: middle;\n",
       "    }\n",
       "\n",
       "    .dataframe tbody tr th {\n",
       "        vertical-align: top;\n",
       "    }\n",
       "\n",
       "    .dataframe thead th {\n",
       "        text-align: right;\n",
       "    }\n",
       "</style>\n",
       "<table border=\"1\" class=\"dataframe\">\n",
       "  <thead>\n",
       "    <tr style=\"text-align: right;\">\n",
       "      <th></th>\n",
       "      <th>alpha</th>\n",
       "      <th>SPY</th>\n",
       "      <th>up</th>\n",
       "      <th>down</th>\n",
       "      <th>R-squared</th>\n",
       "    </tr>\n",
       "  </thead>\n",
       "  <tbody>\n",
       "    <tr>\n",
       "      <th>Net Monthly Performanceb</th>\n",
       "      <td>0.1012</td>\n",
       "      <td>0.4666</td>\n",
       "      <td>-0.7821</td>\n",
       "      <td>1.2896</td>\n",
       "      <td>0.0555</td>\n",
       "    </tr>\n",
       "  </tbody>\n",
       "</table>\n",
       "</div>"
      ],
      "text/plain": [
       "                           alpha     SPY      up    down  R-squared\n",
       "Net Monthly Performanceb  0.1012  0.4666 -0.7821  1.2896     0.0555"
      ]
     },
     "execution_count": 14,
     "metadata": {},
     "output_type": "execute_result"
    }
   ],
   "source": [
    "print(\"Annualized alpha: \")\n",
    "get_capm_matrics(ret_excess[[\"Net Monthly Performanceb\"]], ret_excess[[\n",
    "                 \"SPY\", \"up\", \"down\"]], add_constant=True, annualize_factor=12)"
   ]
  },
  {
   "cell_type": "markdown",
   "metadata": {},
   "source": [
    "### (b) Is LTCM long or short the call-like factor? And the put-like factor?\n",
    "- $\\beta^{Up}$ is negative so LTCM appears short the call-like factor.\n",
    "- $\\beta^{Down}$ is positive so LTCM appears long the put-like factor."
   ]
  },
  {
   "cell_type": "markdown",
   "metadata": {},
   "source": [
    "### (c) Which factor moves LTCM more, the call-like factor, or the put-like factor?\n",
    "- The absolute value of $\\beta^{Down}$ is larger, so the call-like factor moves LTCM more. "
   ]
  },
  {
   "cell_type": "markdown",
   "metadata": {},
   "source": [
    "### (d) In the previous problem, you commented on whether LTCM is positively or negatively exposed to market volatility. Using this current regression, does this volatility exposure come more from being long the market’s upside? Short the market’s downside? Something else?\n",
    "- LTCM short the call-like factor and long the put-like factor, and it has a negative exposure to marker volatility at all. So it must short the upside more than long the downside. "
   ]
  },
  {
   "cell_type": "markdown",
   "metadata": {},
   "source": [
    "# 3 The FX Carry Trade\n",
    "## Data"
   ]
  },
  {
   "cell_type": "code",
   "execution_count": 15,
   "metadata": {},
   "outputs": [
    {
     "data": {
      "text/html": [
       "<div>\n",
       "<style scoped>\n",
       "    .dataframe tbody tr th:only-of-type {\n",
       "        vertical-align: middle;\n",
       "    }\n",
       "\n",
       "    .dataframe tbody tr th {\n",
       "        vertical-align: top;\n",
       "    }\n",
       "\n",
       "    .dataframe thead th {\n",
       "        text-align: right;\n",
       "    }\n",
       "</style>\n",
       "<table border=\"1\" class=\"dataframe\">\n",
       "  <thead>\n",
       "    <tr style=\"text-align: right;\">\n",
       "      <th></th>\n",
       "      <th>USD1M</th>\n",
       "      <th>GBP1M</th>\n",
       "      <th>EUR1M</th>\n",
       "      <th>CHF1M</th>\n",
       "      <th>JPY1M</th>\n",
       "    </tr>\n",
       "    <tr>\n",
       "      <th>DATE</th>\n",
       "      <th></th>\n",
       "      <th></th>\n",
       "      <th></th>\n",
       "      <th></th>\n",
       "      <th></th>\n",
       "    </tr>\n",
       "  </thead>\n",
       "  <tbody>\n",
       "    <tr>\n",
       "      <th>1999-01-31</th>\n",
       "      <td>0.0041</td>\n",
       "      <td>0.0049</td>\n",
       "      <td>0.0026</td>\n",
       "      <td>0.0010</td>\n",
       "      <td>3.3463e-04</td>\n",
       "    </tr>\n",
       "    <tr>\n",
       "      <th>1999-02-28</th>\n",
       "      <td>0.0041</td>\n",
       "      <td>0.0046</td>\n",
       "      <td>0.0026</td>\n",
       "      <td>0.0010</td>\n",
       "      <td>2.3229e-04</td>\n",
       "    </tr>\n",
       "    <tr>\n",
       "      <th>1999-03-31</th>\n",
       "      <td>0.0041</td>\n",
       "      <td>0.0044</td>\n",
       "      <td>0.0025</td>\n",
       "      <td>0.0010</td>\n",
       "      <td>1.4271e-04</td>\n",
       "    </tr>\n",
       "    <tr>\n",
       "      <th>1999-04-30</th>\n",
       "      <td>0.0041</td>\n",
       "      <td>0.0044</td>\n",
       "      <td>0.0021</td>\n",
       "      <td>0.0008</td>\n",
       "      <td>9.8958e-05</td>\n",
       "    </tr>\n",
       "    <tr>\n",
       "      <th>1999-05-31</th>\n",
       "      <td>0.0041</td>\n",
       "      <td>0.0044</td>\n",
       "      <td>0.0021</td>\n",
       "      <td>0.0008</td>\n",
       "      <td>7.5000e-05</td>\n",
       "    </tr>\n",
       "  </tbody>\n",
       "</table>\n",
       "</div>"
      ],
      "text/plain": [
       "             USD1M   GBP1M   EUR1M   CHF1M       JPY1M\n",
       "DATE                                                  \n",
       "1999-01-31  0.0041  0.0049  0.0026  0.0010  3.3463e-04\n",
       "1999-02-28  0.0041  0.0046  0.0026  0.0010  2.3229e-04\n",
       "1999-03-31  0.0041  0.0044  0.0025  0.0010  1.4271e-04\n",
       "1999-04-30  0.0041  0.0044  0.0021  0.0008  9.8958e-05\n",
       "1999-05-31  0.0041  0.0044  0.0021  0.0008  7.5000e-05"
      ]
     },
     "execution_count": 15,
     "metadata": {},
     "output_type": "execute_result"
    }
   ],
   "source": [
    "rf_currency = pd.read_excel(\"../data/fx_carry_data.xlsx\", index_col=0, sheet_name=1)\n",
    "fx_rate = pd.read_excel(\"../data/fx_carry_data.xlsx\",\n",
    "                        index_col=0, sheet_name=2)\n",
    "rf_currency.head()"
   ]
  },
  {
   "cell_type": "code",
   "execution_count": 16,
   "metadata": {},
   "outputs": [
    {
     "data": {
      "text/html": [
       "<div>\n",
       "<style scoped>\n",
       "    .dataframe tbody tr th:only-of-type {\n",
       "        vertical-align: middle;\n",
       "    }\n",
       "\n",
       "    .dataframe tbody tr th {\n",
       "        vertical-align: top;\n",
       "    }\n",
       "\n",
       "    .dataframe thead th {\n",
       "        text-align: right;\n",
       "    }\n",
       "</style>\n",
       "<table border=\"1\" class=\"dataframe\">\n",
       "  <thead>\n",
       "    <tr style=\"text-align: right;\">\n",
       "      <th></th>\n",
       "      <th>USUK</th>\n",
       "      <th>USEU</th>\n",
       "      <th>USSZ</th>\n",
       "      <th>USJP</th>\n",
       "    </tr>\n",
       "    <tr>\n",
       "      <th>DATE</th>\n",
       "      <th></th>\n",
       "      <th></th>\n",
       "      <th></th>\n",
       "      <th></th>\n",
       "    </tr>\n",
       "  </thead>\n",
       "  <tbody>\n",
       "    <tr>\n",
       "      <th>1999-01-31</th>\n",
       "      <td>1.6457</td>\n",
       "      <td>1.1371</td>\n",
       "      <td>0.7058</td>\n",
       "      <td>0.0086</td>\n",
       "    </tr>\n",
       "    <tr>\n",
       "      <th>1999-02-28</th>\n",
       "      <td>1.6027</td>\n",
       "      <td>1.0995</td>\n",
       "      <td>0.6899</td>\n",
       "      <td>0.0084</td>\n",
       "    </tr>\n",
       "    <tr>\n",
       "      <th>1999-03-31</th>\n",
       "      <td>1.6140</td>\n",
       "      <td>1.0808</td>\n",
       "      <td>0.6768</td>\n",
       "      <td>0.0084</td>\n",
       "    </tr>\n",
       "    <tr>\n",
       "      <th>1999-04-30</th>\n",
       "      <td>1.6085</td>\n",
       "      <td>1.0564</td>\n",
       "      <td>0.6554</td>\n",
       "      <td>0.0084</td>\n",
       "    </tr>\n",
       "    <tr>\n",
       "      <th>1999-05-31</th>\n",
       "      <td>1.6020</td>\n",
       "      <td>1.0422</td>\n",
       "      <td>0.6545</td>\n",
       "      <td>0.0083</td>\n",
       "    </tr>\n",
       "  </tbody>\n",
       "</table>\n",
       "</div>"
      ],
      "text/plain": [
       "              USUK    USEU    USSZ    USJP\n",
       "DATE                                      \n",
       "1999-01-31  1.6457  1.1371  0.7058  0.0086\n",
       "1999-02-28  1.6027  1.0995  0.6899  0.0084\n",
       "1999-03-31  1.6140  1.0808  0.6768  0.0084\n",
       "1999-04-30  1.6085  1.0564  0.6554  0.0084\n",
       "1999-05-31  1.6020  1.0422  0.6545  0.0083"
      ]
     },
     "execution_count": 16,
     "metadata": {},
     "output_type": "execute_result"
    }
   ],
   "source": [
    "fx_rate.head()"
   ]
  },
  {
   "cell_type": "code",
   "execution_count": 17,
   "metadata": {},
   "outputs": [],
   "source": [
    "log_rf = np.log(1 + rf_currency)\n",
    "log_fx = np.log(fx_rate)"
   ]
  },
  {
   "cell_type": "markdown",
   "metadata": {},
   "source": [
    "## Functions"
   ]
  },
  {
   "cell_type": "code",
   "execution_count": 18,
   "metadata": {},
   "outputs": [],
   "source": [
    "def get_each_reg(targets, regressors, annualize_factor=12):\n",
    "\n",
    "    result = pd.DataFrame(index=targets.columns)\n",
    "\n",
    "    for i in range(targets.shape[1]):\n",
    "        X = regressors.iloc[:, i]\n",
    "        X = sm.add_constant(X)\n",
    "        y = targets.iloc[:, i]\n",
    "        column = targets.columns[i]\n",
    "        model = sm.OLS(y, X, missing='drop').fit()\n",
    "        result.loc[column, \"alpha\"] = model.params['const'] * annualize_factor\n",
    "        result.loc[column, \"beta\"] = model.params[1]\n",
    "        result.loc[column, \"R-squared\"] = model.rsquared\n",
    "\n",
    "    return result.T"
   ]
  },
  {
   "cell_type": "markdown",
   "metadata": {},
   "source": [
    "## 1 The Static Carry Trade"
   ]
  },
  {
   "cell_type": "code",
   "execution_count": 19,
   "metadata": {},
   "outputs": [
    {
     "data": {
      "text/html": [
       "<div>\n",
       "<style scoped>\n",
       "    .dataframe tbody tr th:only-of-type {\n",
       "        vertical-align: middle;\n",
       "    }\n",
       "\n",
       "    .dataframe tbody tr th {\n",
       "        vertical-align: top;\n",
       "    }\n",
       "\n",
       "    .dataframe thead th {\n",
       "        text-align: right;\n",
       "    }\n",
       "</style>\n",
       "<table border=\"1\" class=\"dataframe\">\n",
       "  <thead>\n",
       "    <tr style=\"text-align: right;\">\n",
       "      <th></th>\n",
       "      <th>USUK</th>\n",
       "      <th>USEU</th>\n",
       "      <th>USSZ</th>\n",
       "      <th>USJP</th>\n",
       "    </tr>\n",
       "    <tr>\n",
       "      <th>DATE</th>\n",
       "      <th></th>\n",
       "      <th></th>\n",
       "      <th></th>\n",
       "      <th></th>\n",
       "    </tr>\n",
       "  </thead>\n",
       "  <tbody>\n",
       "    <tr>\n",
       "      <th>1999-01-31</th>\n",
       "      <td>NaN</td>\n",
       "      <td>NaN</td>\n",
       "      <td>NaN</td>\n",
       "      <td>NaN</td>\n",
       "    </tr>\n",
       "    <tr>\n",
       "      <th>1999-02-28</th>\n",
       "      <td>-0.0216</td>\n",
       "      <td>-0.0310</td>\n",
       "      <td>-0.0218</td>\n",
       "      <td>-0.0227</td>\n",
       "    </tr>\n",
       "    <tr>\n",
       "      <th>1999-03-31</th>\n",
       "      <td>0.0116</td>\n",
       "      <td>-0.0146</td>\n",
       "      <td>-0.0181</td>\n",
       "      <td>0.0025</td>\n",
       "    </tr>\n",
       "    <tr>\n",
       "      <th>1999-04-30</th>\n",
       "      <td>0.0010</td>\n",
       "      <td>-0.0203</td>\n",
       "      <td>-0.0311</td>\n",
       "      <td>-0.0083</td>\n",
       "    </tr>\n",
       "    <tr>\n",
       "      <th>1999-05-31</th>\n",
       "      <td>0.0003</td>\n",
       "      <td>-0.0114</td>\n",
       "      <td>-0.0007</td>\n",
       "      <td>-0.0120</td>\n",
       "    </tr>\n",
       "  </tbody>\n",
       "</table>\n",
       "</div>"
      ],
      "text/plain": [
       "              USUK    USEU    USSZ    USJP\n",
       "DATE                                      \n",
       "1999-01-31     NaN     NaN     NaN     NaN\n",
       "1999-02-28 -0.0216 -0.0310 -0.0218 -0.0227\n",
       "1999-03-31  0.0116 -0.0146 -0.0181  0.0025\n",
       "1999-04-30  0.0010 -0.0203 -0.0311 -0.0083\n",
       "1999-05-31  0.0003 -0.0114 -0.0007 -0.0120"
      ]
     },
     "execution_count": 19,
     "metadata": {},
     "output_type": "execute_result"
    }
   ],
   "source": [
    "real_rf = log_fx.diff().values + log_rf.shift().values[:, 1:]\n",
    "real_rf = pd.DataFrame(real_rf, index=log_fx.index, columns=log_fx.columns)\n",
    "real_rf.head()"
   ]
  },
  {
   "cell_type": "code",
   "execution_count": 20,
   "metadata": {},
   "outputs": [],
   "source": [
    "excess_ret = log_fx.diff().values + log_rf.shift().values[:, 1:] - \\\n",
    "    np.repeat(log_rf[[\"USD1M\"]].shift().values, 4, axis=1)"
   ]
  },
  {
   "cell_type": "code",
   "execution_count": 21,
   "metadata": {},
   "outputs": [
    {
     "data": {
      "text/html": [
       "<div>\n",
       "<style scoped>\n",
       "    .dataframe tbody tr th:only-of-type {\n",
       "        vertical-align: middle;\n",
       "    }\n",
       "\n",
       "    .dataframe tbody tr th {\n",
       "        vertical-align: top;\n",
       "    }\n",
       "\n",
       "    .dataframe thead th {\n",
       "        text-align: right;\n",
       "    }\n",
       "</style>\n",
       "<table border=\"1\" class=\"dataframe\">\n",
       "  <thead>\n",
       "    <tr style=\"text-align: right;\">\n",
       "      <th></th>\n",
       "      <th>USUK</th>\n",
       "      <th>USEU</th>\n",
       "      <th>USSZ</th>\n",
       "      <th>USJP</th>\n",
       "    </tr>\n",
       "    <tr>\n",
       "      <th>DATE</th>\n",
       "      <th></th>\n",
       "      <th></th>\n",
       "      <th></th>\n",
       "      <th></th>\n",
       "    </tr>\n",
       "  </thead>\n",
       "  <tbody>\n",
       "    <tr>\n",
       "      <th>1999-01-31</th>\n",
       "      <td>NaN</td>\n",
       "      <td>NaN</td>\n",
       "      <td>NaN</td>\n",
       "      <td>NaN</td>\n",
       "    </tr>\n",
       "    <tr>\n",
       "      <th>1999-02-28</th>\n",
       "      <td>-0.0257</td>\n",
       "      <td>-0.0351</td>\n",
       "      <td>-0.0259</td>\n",
       "      <td>-0.0268</td>\n",
       "    </tr>\n",
       "    <tr>\n",
       "      <th>1999-03-31</th>\n",
       "      <td>0.0075</td>\n",
       "      <td>-0.0187</td>\n",
       "      <td>-0.0222</td>\n",
       "      <td>-0.0016</td>\n",
       "    </tr>\n",
       "    <tr>\n",
       "      <th>1999-04-30</th>\n",
       "      <td>-0.0031</td>\n",
       "      <td>-0.0245</td>\n",
       "      <td>-0.0352</td>\n",
       "      <td>-0.0124</td>\n",
       "    </tr>\n",
       "    <tr>\n",
       "      <th>1999-05-31</th>\n",
       "      <td>-0.0037</td>\n",
       "      <td>-0.0155</td>\n",
       "      <td>-0.0048</td>\n",
       "      <td>-0.0160</td>\n",
       "    </tr>\n",
       "  </tbody>\n",
       "</table>\n",
       "</div>"
      ],
      "text/plain": [
       "              USUK    USEU    USSZ    USJP\n",
       "DATE                                      \n",
       "1999-01-31     NaN     NaN     NaN     NaN\n",
       "1999-02-28 -0.0257 -0.0351 -0.0259 -0.0268\n",
       "1999-03-31  0.0075 -0.0187 -0.0222 -0.0016\n",
       "1999-04-30 -0.0031 -0.0245 -0.0352 -0.0124\n",
       "1999-05-31 -0.0037 -0.0155 -0.0048 -0.0160"
      ]
     },
     "execution_count": 21,
     "metadata": {},
     "output_type": "execute_result"
    }
   ],
   "source": [
    "excess_ret = pd.DataFrame(\n",
    "    excess_ret, index=log_fx.index, columns=log_fx.columns)\n",
    "excess_ret.head()"
   ]
  },
  {
   "cell_type": "code",
   "execution_count": 22,
   "metadata": {},
   "outputs": [
    {
     "data": {
      "text/html": [
       "<div>\n",
       "<style scoped>\n",
       "    .dataframe tbody tr th:only-of-type {\n",
       "        vertical-align: middle;\n",
       "    }\n",
       "\n",
       "    .dataframe tbody tr th {\n",
       "        vertical-align: top;\n",
       "    }\n",
       "\n",
       "    .dataframe thead th {\n",
       "        text-align: right;\n",
       "    }\n",
       "</style>\n",
       "<table border=\"1\" class=\"dataframe\">\n",
       "  <thead>\n",
       "    <tr style=\"text-align: right;\">\n",
       "      <th></th>\n",
       "      <th>mean</th>\n",
       "      <th>volatility</th>\n",
       "      <th>Sharpe Ratio</th>\n",
       "    </tr>\n",
       "  </thead>\n",
       "  <tbody>\n",
       "    <tr>\n",
       "      <th>USUK</th>\n",
       "      <td>-0.0035</td>\n",
       "      <td>0.0863</td>\n",
       "      <td>-0.0406</td>\n",
       "    </tr>\n",
       "    <tr>\n",
       "      <th>USEU</th>\n",
       "      <td>-0.0044</td>\n",
       "      <td>0.0947</td>\n",
       "      <td>-0.0459</td>\n",
       "    </tr>\n",
       "    <tr>\n",
       "      <th>USSZ</th>\n",
       "      <td>0.0043</td>\n",
       "      <td>0.0988</td>\n",
       "      <td>0.0437</td>\n",
       "    </tr>\n",
       "    <tr>\n",
       "      <th>USJP</th>\n",
       "      <td>-0.0174</td>\n",
       "      <td>0.0915</td>\n",
       "      <td>-0.1903</td>\n",
       "    </tr>\n",
       "  </tbody>\n",
       "</table>\n",
       "</div>"
      ],
      "text/plain": [
       "        mean  volatility  Sharpe Ratio\n",
       "USUK -0.0035      0.0863       -0.0406\n",
       "USEU -0.0044      0.0947       -0.0459\n",
       "USSZ  0.0043      0.0988        0.0437\n",
       "USJP -0.0174      0.0915       -0.1903"
      ]
     },
     "execution_count": 22,
     "metadata": {},
     "output_type": "execute_result"
    }
   ],
   "source": [
    "summary_stat(excess_ret, 12)"
   ]
  },
  {
   "cell_type": "markdown",
   "metadata": {},
   "source": [
    "- Mean returns are tiny and tend to be negative for currency pairs apart from the US dollar and the Swiss franc. The only returns of notable magnitude stem from the USD and JPY trade."
   ]
  },
  {
   "cell_type": "markdown",
   "metadata": {},
   "source": [
    "## 3.2 Implications for UIP:\n",
    "### (a) Do any of these stats contradict the (log version) of Uncovered Interest Parity (UIP)?\n",
    "\n",
    "- UIP implies that the mean excess return of each currency relative to USD should be zero. However, the USD and JPY trade seems to have a mean excess return significantly different from zero. \n",
    "- The evidence from other currencies is not significent. Even the rate is near zero, we do not know wheather it is statistically significant."
   ]
  },
  {
   "cell_type": "markdown",
   "metadata": {},
   "source": [
    "### (b) A long position in which foreign currency offered the best Sharpe ratio over the sample?\n",
    "- Being long CHF would have delivered the best Sharpe ratio over the sample."
   ]
  },
  {
   "cell_type": "markdown",
   "metadata": {},
   "source": [
    "### (c) Are there any foreign currencies for which a long position earned a negative excess return (in USD) over the sample?\n",
    "\n",
    "- A long position in three of **GBP, EUR, JPY** currencies had negative mean excess (log) returns."
   ]
  },
  {
   "cell_type": "markdown",
   "metadata": {},
   "source": [
    "## 3.3 Predicting FX\n",
    "### (a) Make a table with columns corresponding to a different currency regression. Report the regression estimates αi and βi in the first two rows. Report the R2 stat in the third row."
   ]
  },
  {
   "cell_type": "code",
   "execution_count": 23,
   "metadata": {},
   "outputs": [],
   "source": [
    "log_fx_diff = log_fx.diff().dropna()\n",
    "rf_excess = np.repeat(log_rf[[\"USD1M\"]].shift().values, 4, axis=1) - \\\n",
    "    log_rf.shift().values[:, 1:]\n",
    "rf_excess = pd.DataFrame(\n",
    "    rf_excess, index=log_fx.index, columns=log_fx.columns)\n",
    "rf_excess = rf_excess.dropna()"
   ]
  },
  {
   "cell_type": "code",
   "execution_count": 24,
   "metadata": {},
   "outputs": [
    {
     "data": {
      "text/html": [
       "<div>\n",
       "<style scoped>\n",
       "    .dataframe tbody tr th:only-of-type {\n",
       "        vertical-align: middle;\n",
       "    }\n",
       "\n",
       "    .dataframe tbody tr th {\n",
       "        vertical-align: top;\n",
       "    }\n",
       "\n",
       "    .dataframe thead th {\n",
       "        text-align: right;\n",
       "    }\n",
       "</style>\n",
       "<table border=\"1\" class=\"dataframe\">\n",
       "  <thead>\n",
       "    <tr style=\"text-align: right;\">\n",
       "      <th></th>\n",
       "      <th>USUK</th>\n",
       "      <th>USEU</th>\n",
       "      <th>USSZ</th>\n",
       "      <th>USJP</th>\n",
       "    </tr>\n",
       "  </thead>\n",
       "  <tbody>\n",
       "    <tr>\n",
       "      <th>alpha</th>\n",
       "      <td>-0.0059</td>\n",
       "      <td>0.0070</td>\n",
       "      <td>0.0436</td>\n",
       "      <td>-0.0060</td>\n",
       "    </tr>\n",
       "    <tr>\n",
       "      <th>beta</th>\n",
       "      <td>0.4858</td>\n",
       "      <td>-1.2564</td>\n",
       "      <td>-1.6466</td>\n",
       "      <td>0.3715</td>\n",
       "    </tr>\n",
       "    <tr>\n",
       "      <th>R-squared</th>\n",
       "      <td>0.0004</td>\n",
       "      <td>0.0026</td>\n",
       "      <td>0.0039</td>\n",
       "      <td>0.0005</td>\n",
       "    </tr>\n",
       "  </tbody>\n",
       "</table>\n",
       "</div>"
      ],
      "text/plain": [
       "             USUK    USEU    USSZ    USJP\n",
       "alpha     -0.0059  0.0070  0.0436 -0.0060\n",
       "beta       0.4858 -1.2564 -1.6466  0.3715\n",
       "R-squared  0.0004  0.0026  0.0039  0.0005"
      ]
     },
     "execution_count": 24,
     "metadata": {},
     "output_type": "execute_result"
    }
   ],
   "source": [
    "reg_result = get_each_reg(log_fx_diff, rf_excess, annualize_factor=12)\n",
    "reg_result"
   ]
  },
  {
   "cell_type": "markdown",
   "metadata": {},
   "source": [
    "### (b) Suppose the foreign risk-free rate increases relative to the US rate.\n",
    "For which foreign currencies would we predict a relative strengthening of the USD in the following period?\n",
    "\n",
    "- **Answers:** GBP and JPY. They have beta bigger than 0. \n",
    "\n",
    "For which currencies would we predict relative weakening of the USD in the following period?\n",
    "\n",
    "- **Answers:** EUR and CHF. They have beta smaller than 0. \n",
    "\n",
    "This FX predictability is strongest in the case of which foreign currency?\n",
    "\n",
    "- **Answers:** CHF. It has the highest r-squared. "
   ]
  },
  {
   "cell_type": "markdown",
   "metadata": {},
   "source": [
    "## 3.4 The Dynamic Carry Trade\n",
    "### (a) Calculate the fraction of months for which the estimated FX risk premium positive."
   ]
  },
  {
   "cell_type": "code",
   "execution_count": 25,
   "metadata": {},
   "outputs": [
    {
     "data": {
      "text/html": [
       "<div>\n",
       "<style scoped>\n",
       "    .dataframe tbody tr th:only-of-type {\n",
       "        vertical-align: middle;\n",
       "    }\n",
       "\n",
       "    .dataframe tbody tr th {\n",
       "        vertical-align: top;\n",
       "    }\n",
       "\n",
       "    .dataframe thead th {\n",
       "        text-align: right;\n",
       "    }\n",
       "</style>\n",
       "<table border=\"1\" class=\"dataframe\">\n",
       "  <thead>\n",
       "    <tr style=\"text-align: right;\">\n",
       "      <th></th>\n",
       "      <th>USUK</th>\n",
       "      <th>USEU</th>\n",
       "      <th>USSZ</th>\n",
       "      <th>USJP</th>\n",
       "    </tr>\n",
       "    <tr>\n",
       "      <th>DATE</th>\n",
       "      <th></th>\n",
       "      <th></th>\n",
       "      <th></th>\n",
       "      <th></th>\n",
       "    </tr>\n",
       "  </thead>\n",
       "  <tbody>\n",
       "    <tr>\n",
       "      <th>1999-02-28</th>\n",
       "      <td>-6.8394e-05</td>\n",
       "      <td>-0.0028</td>\n",
       "      <td>-0.0046</td>\n",
       "      <td>-0.0029</td>\n",
       "    </tr>\n",
       "    <tr>\n",
       "      <th>1999-03-31</th>\n",
       "      <td>-2.3875e-04</td>\n",
       "      <td>-0.0029</td>\n",
       "      <td>-0.0046</td>\n",
       "      <td>-0.0029</td>\n",
       "    </tr>\n",
       "    <tr>\n",
       "      <th>1999-04-30</th>\n",
       "      <td>-3.2543e-04</td>\n",
       "      <td>-0.0031</td>\n",
       "      <td>-0.0046</td>\n",
       "      <td>-0.0030</td>\n",
       "    </tr>\n",
       "    <tr>\n",
       "      <th>1999-05-31</th>\n",
       "      <td>-3.2588e-04</td>\n",
       "      <td>-0.0038</td>\n",
       "      <td>-0.0050</td>\n",
       "      <td>-0.0030</td>\n",
       "    </tr>\n",
       "    <tr>\n",
       "      <th>1999-06-30</th>\n",
       "      <td>-3.3511e-04</td>\n",
       "      <td>-0.0039</td>\n",
       "      <td>-0.0050</td>\n",
       "      <td>-0.0030</td>\n",
       "    </tr>\n",
       "    <tr>\n",
       "      <th>...</th>\n",
       "      <td>...</td>\n",
       "      <td>...</td>\n",
       "      <td>...</td>\n",
       "      <td>...</td>\n",
       "    </tr>\n",
       "    <tr>\n",
       "      <th>2021-06-30</th>\n",
       "      <td>-5.0427e-04</td>\n",
       "      <td>-0.0007</td>\n",
       "      <td>0.0017</td>\n",
       "      <td>-0.0006</td>\n",
       "    </tr>\n",
       "    <tr>\n",
       "      <th>2021-07-31</th>\n",
       "      <td>-5.0863e-04</td>\n",
       "      <td>-0.0007</td>\n",
       "      <td>0.0016</td>\n",
       "      <td>-0.0006</td>\n",
       "    </tr>\n",
       "    <tr>\n",
       "      <th>2021-08-31</th>\n",
       "      <td>-5.0551e-04</td>\n",
       "      <td>-0.0007</td>\n",
       "      <td>0.0017</td>\n",
       "      <td>-0.0006</td>\n",
       "    </tr>\n",
       "    <tr>\n",
       "      <th>2021-09-30</th>\n",
       "      <td>-5.0271e-04</td>\n",
       "      <td>-0.0007</td>\n",
       "      <td>0.0017</td>\n",
       "      <td>-0.0006</td>\n",
       "    </tr>\n",
       "    <tr>\n",
       "      <th>2021-10-31</th>\n",
       "      <td>-5.0333e-04</td>\n",
       "      <td>-0.0006</td>\n",
       "      <td>0.0017</td>\n",
       "      <td>-0.0006</td>\n",
       "    </tr>\n",
       "  </tbody>\n",
       "</table>\n",
       "<p>273 rows × 4 columns</p>\n",
       "</div>"
      ],
      "text/plain": [
       "                  USUK    USEU    USSZ    USJP\n",
       "DATE                                          \n",
       "1999-02-28 -6.8394e-05 -0.0028 -0.0046 -0.0029\n",
       "1999-03-31 -2.3875e-04 -0.0029 -0.0046 -0.0029\n",
       "1999-04-30 -3.2543e-04 -0.0031 -0.0046 -0.0030\n",
       "1999-05-31 -3.2588e-04 -0.0038 -0.0050 -0.0030\n",
       "1999-06-30 -3.3511e-04 -0.0039 -0.0050 -0.0030\n",
       "...                ...     ...     ...     ...\n",
       "2021-06-30 -5.0427e-04 -0.0007  0.0017 -0.0006\n",
       "2021-07-31 -5.0863e-04 -0.0007  0.0016 -0.0006\n",
       "2021-08-31 -5.0551e-04 -0.0007  0.0017 -0.0006\n",
       "2021-09-30 -5.0271e-04 -0.0007  0.0017 -0.0006\n",
       "2021-10-31 -5.0333e-04 -0.0006  0.0017 -0.0006\n",
       "\n",
       "[273 rows x 4 columns]"
      ]
     },
     "execution_count": 25,
     "metadata": {},
     "output_type": "execute_result"
    }
   ],
   "source": [
    "betas = reg_result.iloc[1, :]\n",
    "excess_ret_expectation = reg_result.iloc[0, :]/12 + (betas - 1) * rf_excess\n",
    "excess_ret_expectation"
   ]
  },
  {
   "cell_type": "code",
   "execution_count": 26,
   "metadata": {},
   "outputs": [
    {
     "data": {
      "text/html": [
       "<div>\n",
       "<style scoped>\n",
       "    .dataframe tbody tr th:only-of-type {\n",
       "        vertical-align: middle;\n",
       "    }\n",
       "\n",
       "    .dataframe tbody tr th {\n",
       "        vertical-align: top;\n",
       "    }\n",
       "\n",
       "    .dataframe thead th {\n",
       "        text-align: right;\n",
       "    }\n",
       "</style>\n",
       "<table border=\"1\" class=\"dataframe\">\n",
       "  <thead>\n",
       "    <tr style=\"text-align: right;\">\n",
       "      <th></th>\n",
       "      <th>USUK</th>\n",
       "      <th>USEU</th>\n",
       "      <th>USSZ</th>\n",
       "      <th>USJP</th>\n",
       "    </tr>\n",
       "  </thead>\n",
       "  <tbody>\n",
       "    <tr>\n",
       "      <th>% of Months</th>\n",
       "      <td>23.8095</td>\n",
       "      <td>50.1832</td>\n",
       "      <td>63.0037</td>\n",
       "      <td>0.0</td>\n",
       "    </tr>\n",
       "  </tbody>\n",
       "</table>\n",
       "</div>"
      ],
      "text/plain": [
       "                USUK     USEU     USSZ  USJP\n",
       "% of Months  23.8095  50.1832  63.0037   0.0"
      ]
     },
     "execution_count": 26,
     "metadata": {},
     "output_type": "execute_result"
    }
   ],
   "source": [
    "month_frac = pd.DataFrame(\n",
    "    data=None, columns=excess_ret_expectation.columns, index=['% of Months'])\n",
    "\n",
    "for col in excess_ret_expectation.columns:\n",
    "    month_frac[col] = (\n",
    "        len(excess_ret_expectation[excess_ret_expectation[col] > 0])/len(excess_ret_expectation)) * 100\n",
    "\n",
    "month_frac"
   ]
  },
  {
   "cell_type": "markdown",
   "metadata": {},
   "source": [
    "### (b) Which currencies most consistently have a positive FX risk premium? And for which currencies does the FX risk premium most often go negative?\n",
    "\n",
    "- **CHF** most consistantly has a positive FX risk premium. \n",
    "- **JPY** most often go negative."
   ]
  },
  {
   "cell_type": "markdown",
   "metadata": {},
   "source": [
    "### (c) Explain how we could use these conditional risk premia to improve the static carry trade returns calculated in Problem 1.\n",
    "We can use forecasts of excess returns to construct trading positions, (weights,) which vary with the forecasts. The resulting trading strategy should be better than the static carry trade.\n",
    "\n",
    "That is, we could time the magnitude and direction of the currency trades instead of being passively 100\\% invested in a currency according to the evidence in 3.3.\n"
   ]
  }
 ],
 "metadata": {
  "kernelspec": {
   "display_name": "Python 3.7.4 ('base')",
   "language": "python",
   "name": "python3"
  },
  "language_info": {
   "codemirror_mode": {
    "name": "ipython",
    "version": 3
   },
   "file_extension": ".py",
   "mimetype": "text/x-python",
   "name": "python",
   "nbconvert_exporter": "python",
   "pygments_lexer": "ipython3",
   "version": "3.7.4"
  },
  "orig_nbformat": 4,
  "vscode": {
   "interpreter": {
    "hash": "8aba7c7331238ad8bef3d07aa03cf759b24ea56e2341769d4c660500293a6aca"
   }
  }
 },
 "nbformat": 4,
 "nbformat_minor": 2
}
