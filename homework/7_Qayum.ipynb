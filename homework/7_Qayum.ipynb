{
 "cells": [
  {
   "cell_type": "markdown",
   "metadata": {},
   "source": [
    "<h1>Qayum Khan @ FINM36700 UChicago, Autumn 2022<br>\n",
    "Homework 7 : Estimating the Equity Risk Premium</h1>"
   ]
  },
  {
   "cell_type": "code",
   "execution_count": 1,
   "metadata": {},
   "outputs": [],
   "source": [
    "import pandas as pd\n",
    "pd.set_option(\"display.precision\", 4)\n",
    "import warnings\n",
    "warnings.simplefilter(action='ignore', category=FutureWarning)\n",
    "\n",
    "from math import sqrt\n",
    "import numpy as np\n",
    "import seaborn as sbn\n",
    "\n",
    "import scipy.stats as stats\n",
    "import statsmodels.api as sm\n",
    "from statsmodels.regression.rolling import RollingOLS"
   ]
  },
  {
   "cell_type": "code",
   "execution_count": 2,
   "metadata": {},
   "outputs": [],
   "source": [
    "# SOURCE : class GitHub cmds folder\n",
    "def performance_summary(facurn_data):\n",
    "    \"\"\" \n",
    "        facurns the Performance Stats for given set of facurns\n",
    "        Inputs: \n",
    "            facurn_data - DataFrame with Date index and Monthly facurns for different assets/strategies.\n",
    "        Output:\n",
    "            summary_stats - DataFrame with annualized mean facurn, vol, sharpe ratio. Skewness, Excess Kurtosis, Var (0.5) and\n",
    "                            CVaR (0.5) and drawdown based on monthly facurns. \n",
    "    \"\"\"\n",
    "    summary_stats = facurn_data.mean().to_frame('Annualized Return').apply(lambda x: x*12)\n",
    "    summary_stats['Annualized Volatility'] = facurn_data.std().apply(lambda x: x*np.sqrt(12))\n",
    "    summary_stats['Annualized Sharpe Ratio'] = summary_stats['Annualized Return']/summary_stats['Annualized Volatility']\n",
    "    \n",
    "    summary_stats['Skewness'] = facurn_data.skew()\n",
    "    summary_stats['Excess Kurtosis'] = facurn_data.kurtosis()\n",
    "    summary_stats['VaR (0.05)'] = facurn_data.quantile(.05, axis = 0)\n",
    "    summary_stats['CVaR (0.05)'] = facurn_data[facurn_data <= facurn_data.quantile(.05, axis = 0)].mean()\n",
    "    summary_stats['Min'] = facurn_data.min()\n",
    "    summary_stats['Max'] = facurn_data.max()\n",
    "    \n",
    "    wealth_index = 1000*(1+facurn_data).cumprod()\n",
    "    previous_peaks = wealth_index.cummax()\n",
    "    drawdowns = (wealth_index - previous_peaks)/previous_peaks\n",
    "\n",
    "    summary_stats['Max Drawdown'] = drawdowns.min()\n",
    "    summary_stats['Peak'] = [previous_peaks[col][:drawdowns[col].idxmin()].idxmax() for col in previous_peaks.columns]\n",
    "    summary_stats['Bottom'] = drawdowns.idxmin()\n",
    "    \n",
    "    recovery_date = []\n",
    "    for col in wealth_index.columns:\n",
    "        prev_max = previous_peaks[col][:drawdowns[col].idxmin()].max()\n",
    "        recovery_wealth = pd.DataFrame([wealth_index[col][drawdowns[col].idxmin():]]).T\n",
    "        recovery_date.append(recovery_wealth[recovery_wealth[col] >= prev_max].index.min())\n",
    "    summary_stats['Recovery'] = recovery_date\n",
    "    \n",
    "    return summary_stats"
   ]
  },
  {
   "cell_type": "code",
   "execution_count": 3,
   "metadata": {},
   "outputs": [],
   "source": [
    "ret_sig = pd.read_excel( 'gmo_analysis_data.xlsx', 1, index_col=0 ).dropna()\n",
    "ret_tot = pd.read_excel( 'gmo_analysis_data.xlsx', 2, index_col=0 ).dropna()\n",
    "ret_RF = pd.read_excel( 'gmo_analysis_data.xlsx', 3, index_col=0 ).dropna()"
   ]
  },
  {
   "cell_type": "markdown",
   "metadata": {},
   "source": [
    "<h1>SECTION 1 (optional): GMO &mdash; Grantham, Mayo & Van Otterloo</h1>"
   ]
  },
  {
   "cell_type": "markdown",
   "metadata": {},
   "source": [
    "<h2>QUESTION 1 : GMO's Approach</h2>"
   ]
  },
  {
   "cell_type": "markdown",
   "metadata": {},
   "source": [
    "(a)  GMO believes that they can more easily predict long-run than short-run asset-class performance, because the market in the long-run is like a <i>weighing machine</i> (convergence toward <b>fundamental value</b> for value-driven investors), whereas the market in the short-run is like a <i>voting machine</i> (noisy)."
   ]
  },
  {
   "cell_type": "markdown",
   "metadata": {},
   "source": [
    "(b)  GMO's full model uses the following predicting variables : <b>D/P ratio</b> (\"dividend yield\"), <b>P/E growth</b>, <b>E/S growth</b> (\"profit margins\"), and <b>sales growth</b> (per share).  Yes, this fits with the goal of long-run forecasts, since it is consisent with the Gordon growth model."
   ]
  },
  {
   "cell_type": "markdown",
   "metadata": {},
   "source": [
    "(c) This is a \"Zen\" approach (towards a steady state) against ephemeral overreaction, which ends up being contrary to human-sentiment decision-making."
   ]
  },
  {
   "cell_type": "markdown",
   "metadata": {},
   "source": [
    "(d)  This approach raises business risk and managerial-career risk, because investors and managers may tend to overreact so sell their shares of GMWAX if contrary to perceived personal gain."
   ]
  },
  {
   "cell_type": "markdown",
   "metadata": {},
   "source": [
    "<h2>QUESTION 2 : The Market Environment</h2>"
   ]
  },
  {
   "cell_type": "markdown",
   "metadata": {},
   "source": [
    "(a) The so-called <b>Lost Decade (2000&ndash;2011)</b> where stocks underperformed riskfree bonds is a reason to be skeptical that the market risk premium will be as high as the past 50 years."
   ]
  },
  {
   "cell_type": "markdown",
   "metadata": {},
   "source": [
    "(b)  The biggest drivers of GMO's 2007 forecast of real excess equity returns being negative are that the signals of the <b>P/E & E/S ratios</b> were negative for the next 7 years, whereas for the steady state they are taken as zero."
   ]
  },
  {
   "cell_type": "markdown",
   "metadata": {},
   "source": [
    "(c)  In GMO's 2011 forecast, the signal that GMO has most revised relative to 2007 is the <b>P/E ratio</b> for the next 7 years.  Now, the equity premium is forecast to be <b>positive on both</b> time horizons (0 < 7-year @ 1.6% < steady-state @ 4.2%)."
   ]
  },
  {
   "cell_type": "markdown",
   "metadata": {},
   "source": [
    "<h2>QUESTION 3 : Exhibit 1 (2002&ndash;2011)</h2>"
   ]
  },
  {
   "cell_type": "markdown",
   "metadata": {},
   "source": [
    "(a)  <b>US equities</b> were estimated to have a negative 10-yr return. "
   ]
  },
  {
   "cell_type": "markdown",
   "metadata": {},
   "source": [
    "(b) <b>Foreign govt bonds</b> substantially outperformed GMO's estimate."
   ]
  },
  {
   "cell_type": "markdown",
   "metadata": {},
   "source": [
    "(c) <b>US Treasury bills</b> substantially underperformed GMO's estimate."
   ]
  },
  {
   "cell_type": "markdown",
   "metadata": {},
   "source": [
    "<h2>QUESTION 4 : Fund Performance (1997&ndash;2011)</h2>"
   ]
  },
  {
   "cell_type": "markdown",
   "metadata": {},
   "source": [
    "(a)  <b>US fixed income</b> is the asset class GMWAX was most heavily allocated, per Exhibit 3."
   ]
  },
  {
   "cell_type": "markdown",
   "metadata": {},
   "source": [
    "(b)  GMWAX performed <b>comparably</b> to its benchmark except roughly before & after the Tech Bubble, namely 1998 and 2000&ndash;2002, per Exhibit 2."
   ]
  },
  {
   "cell_type": "markdown",
   "metadata": {},
   "source": [
    "<h1>SECTION 2 : Analyzing GMO</h1>"
   ]
  },
  {
   "cell_type": "markdown",
   "metadata": {},
   "source": [
    "<h2>QUESTION 1 : Performance</h2>"
   ]
  },
  {
   "cell_type": "code",
   "execution_count": 4,
   "metadata": {},
   "outputs": [],
   "source": [
    "perfA_exc = performance_summary( pd.DataFrame( ret_tot.loc[:'2011','GMWAX']-ret_RF.loc[:'2011','US3M'] ) )\n",
    "perfB_exc = performance_summary( pd.DataFrame( ret_tot.loc['2012':,'GMWAX']-ret_RF.loc['2012':,'US3M'] ) )\n",
    "perfC_exc = performance_summary( pd.DataFrame( ret_tot.loc[:,'GMWAX']-ret_RF.loc[:,'US3M'] ) )\n",
    "\n",
    "perfA_tot = performance_summary( pd.DataFrame( ret_tot.loc[:'2011','GMWAX'] ) )\n",
    "perfB_tot = performance_summary( pd.DataFrame( ret_tot.loc['2012':,'GMWAX'] ) )\n",
    "perfC_tot = performance_summary( pd.DataFrame( ret_tot.loc[:,'GMWAX'] ) )\n"
   ]
  },
  {
   "cell_type": "code",
   "execution_count": 5,
   "metadata": {},
   "outputs": [
    {
     "data": {
      "text/html": [
       "<div>\n",
       "<style scoped>\n",
       "    .dataframe tbody tr th:only-of-type {\n",
       "        vertical-align: middle;\n",
       "    }\n",
       "\n",
       "    .dataframe tbody tr th {\n",
       "        vertical-align: top;\n",
       "    }\n",
       "\n",
       "    .dataframe thead th {\n",
       "        text-align: right;\n",
       "    }\n",
       "</style>\n",
       "<table border=\"1\" class=\"dataframe\">\n",
       "  <thead>\n",
       "    <tr style=\"text-align: right;\">\n",
       "      <th></th>\n",
       "      <th>Annualized Return</th>\n",
       "      <th>Annualized Volatility</th>\n",
       "      <th>Annualized Sharpe Ratio</th>\n",
       "    </tr>\n",
       "    <tr>\n",
       "      <th>GMWAX excess returns</th>\n",
       "      <th></th>\n",
       "      <th></th>\n",
       "      <th></th>\n",
       "    </tr>\n",
       "  </thead>\n",
       "  <tbody>\n",
       "    <tr>\n",
       "      <th>1996--2011</th>\n",
       "      <td>0.0158</td>\n",
       "      <td>0.1250</td>\n",
       "      <td>0.1266</td>\n",
       "    </tr>\n",
       "    <tr>\n",
       "      <th>2012--2022</th>\n",
       "      <td>0.0366</td>\n",
       "      <td>0.0920</td>\n",
       "      <td>0.3982</td>\n",
       "    </tr>\n",
       "    <tr>\n",
       "      <th>1996--2022</th>\n",
       "      <td>0.0245</td>\n",
       "      <td>0.1123</td>\n",
       "      <td>0.2181</td>\n",
       "    </tr>\n",
       "  </tbody>\n",
       "</table>\n",
       "</div>"
      ],
      "text/plain": [
       "                      Annualized Return  Annualized Volatility  \\\n",
       "GMWAX excess returns                                             \n",
       "1996--2011                       0.0158                 0.1250   \n",
       "2012--2022                       0.0366                 0.0920   \n",
       "1996--2022                       0.0245                 0.1123   \n",
       "\n",
       "                      Annualized Sharpe Ratio  \n",
       "GMWAX excess returns                           \n",
       "1996--2011                             0.1266  \n",
       "2012--2022                             0.3982  \n",
       "1996--2022                             0.2181  "
      ]
     },
     "execution_count": 5,
     "metadata": {},
     "output_type": "execute_result"
    }
   ],
   "source": [
    "result = pd.concat( [perfA_exc, perfB_exc, perfC_exc] ).iloc[:,0:3]\n",
    "result.index = ['1996--2011', '2012--2022', '1996--2022']\n",
    "result.index.name = 'GMWAX excess returns'\n",
    "result"
   ]
  },
  {
   "cell_type": "markdown",
   "metadata": {},
   "source": [
    "YES, since inception, the risk premium has increased significantly after 2011 as well as the volatility decreasing, so the Sharpe ratio has more than tripled."
   ]
  },
  {
   "cell_type": "markdown",
   "metadata": {},
   "source": [
    "<h2>QUESTION 2 : Tail Risk</h2>"
   ]
  },
  {
   "cell_type": "code",
   "execution_count": 6,
   "metadata": {},
   "outputs": [
    {
     "data": {
      "text/html": [
       "<div>\n",
       "<style scoped>\n",
       "    .dataframe tbody tr th:only-of-type {\n",
       "        vertical-align: middle;\n",
       "    }\n",
       "\n",
       "    .dataframe tbody tr th {\n",
       "        vertical-align: top;\n",
       "    }\n",
       "\n",
       "    .dataframe thead th {\n",
       "        text-align: right;\n",
       "    }\n",
       "</style>\n",
       "<table border=\"1\" class=\"dataframe\">\n",
       "  <thead>\n",
       "    <tr style=\"text-align: right;\">\n",
       "      <th></th>\n",
       "      <th>Min</th>\n",
       "      <th>VaR (0.05)</th>\n",
       "      <th>Max Drawdown</th>\n",
       "    </tr>\n",
       "    <tr>\n",
       "      <th>GMWAX excess returns</th>\n",
       "      <th></th>\n",
       "      <th></th>\n",
       "      <th></th>\n",
       "    </tr>\n",
       "  </thead>\n",
       "  <tbody>\n",
       "    <tr>\n",
       "      <th>1996--2011</th>\n",
       "      <td>-0.1492</td>\n",
       "      <td>-0.0598</td>\n",
       "      <td>-0.3552</td>\n",
       "    </tr>\n",
       "    <tr>\n",
       "      <th>2012--2022</th>\n",
       "      <td>-0.1187</td>\n",
       "      <td>-0.0397</td>\n",
       "      <td>-0.2168</td>\n",
       "    </tr>\n",
       "    <tr>\n",
       "      <th>1996--2022</th>\n",
       "      <td>-0.1492</td>\n",
       "      <td>-0.0483</td>\n",
       "      <td>-0.3552</td>\n",
       "    </tr>\n",
       "  </tbody>\n",
       "</table>\n",
       "</div>"
      ],
      "text/plain": [
       "                         Min  VaR (0.05)  Max Drawdown\n",
       "GMWAX excess returns                                  \n",
       "1996--2011           -0.1492     -0.0598       -0.3552\n",
       "2012--2022           -0.1187     -0.0397       -0.2168\n",
       "1996--2022           -0.1492     -0.0483       -0.3552"
      ]
     },
     "execution_count": 6,
     "metadata": {},
     "output_type": "execute_result"
    }
   ],
   "source": [
    "result1 = pd.concat( [perfA_exc, perfB_exc, perfC_exc] ).iloc[:,[7,5]]\n",
    "result1.index = result.index\n",
    "result2 = pd.concat( [perfA_tot, perfB_tot, perfC_tot] ).iloc[:,[9]]\n",
    "result2.index = result.index\n",
    "pd.concat( [result1, result2], axis=1 )"
   ]
  },
  {
   "cell_type": "markdown",
   "metadata": {},
   "source": [
    "(a) GMWAX has relatively <b>low tail risk</b> with MDD > -1% though -VaR > risk premia above."
   ]
  },
  {
   "cell_type": "markdown",
   "metadata": {},
   "source": [
    "(b)  <b>YES</b>, the tail risk is noticeably reduced across all three metrics after 2011."
   ]
  },
  {
   "cell_type": "markdown",
   "metadata": {},
   "source": [
    "<h2>QUESTION 3 : CAPM Regression</h2>"
   ]
  },
  {
   "cell_type": "code",
   "execution_count": 7,
   "metadata": {},
   "outputs": [],
   "source": [
    "def CAPM_stats( ret_exc, mkt_exc ) :\n",
    "    model = sm.OLS( ret_exc, sm.add_constant( mkt_exc ), missing='drop' ).fit()\n",
    "    return pd.DataFrame( index=ret_exc.columns, columns=[r'$\\alpha_\\mathrm{MKT}$', r'$\\beta_\\mathrm{MKT}$', r'$R^2$', 'Annualized Info Ratio'], \\\n",
    "        data=np.array([ *model.params, model.rsquared, model.params[0]/model.resid.std() * sqrt(12) ]).reshape(1,4) )"
   ]
  },
  {
   "cell_type": "code",
   "execution_count": 8,
   "metadata": {},
   "outputs": [
    {
     "data": {
      "text/html": [
       "<div>\n",
       "<style scoped>\n",
       "    .dataframe tbody tr th:only-of-type {\n",
       "        vertical-align: middle;\n",
       "    }\n",
       "\n",
       "    .dataframe tbody tr th {\n",
       "        vertical-align: top;\n",
       "    }\n",
       "\n",
       "    .dataframe thead th {\n",
       "        text-align: right;\n",
       "    }\n",
       "</style>\n",
       "<table border=\"1\" class=\"dataframe\">\n",
       "  <thead>\n",
       "    <tr style=\"text-align: right;\">\n",
       "      <th>GMWAX excess returns</th>\n",
       "      <th>$\\alpha_\\mathrm{MKT}$</th>\n",
       "      <th>$\\beta_\\mathrm{MKT}$</th>\n",
       "      <th>$R^2$</th>\n",
       "    </tr>\n",
       "  </thead>\n",
       "  <tbody>\n",
       "    <tr>\n",
       "      <th>1996--2011</th>\n",
       "      <td>-0.0005</td>\n",
       "      <td>0.5396</td>\n",
       "      <td>0.5071</td>\n",
       "    </tr>\n",
       "    <tr>\n",
       "      <th>2012--2022</th>\n",
       "      <td>-0.0029</td>\n",
       "      <td>0.5622</td>\n",
       "      <td>0.7645</td>\n",
       "    </tr>\n",
       "    <tr>\n",
       "      <th>1996--2022</th>\n",
       "      <td>-0.0014</td>\n",
       "      <td>0.5456</td>\n",
       "      <td>0.5777</td>\n",
       "    </tr>\n",
       "  </tbody>\n",
       "</table>\n",
       "</div>"
      ],
      "text/plain": [
       "GMWAX excess returns  $\\alpha_\\mathrm{MKT}$  $\\beta_\\mathrm{MKT}$   $R^2$\n",
       "1996--2011                          -0.0005                0.5396  0.5071\n",
       "2012--2022                          -0.0029                0.5622  0.7645\n",
       "1996--2022                          -0.0014                0.5456  0.5777"
      ]
     },
     "execution_count": 8,
     "metadata": {},
     "output_type": "execute_result"
    }
   ],
   "source": [
    "result_CAPM = [None] * 3\n",
    "result_CAPM[0] = CAPM_stats( (ret_tot.loc[:'2011','GMWAX']-ret_RF.loc[:'2011','US3M']).to_frame('1996--2011'), ret_tot.loc[:'2011','SPY']-ret_RF.loc[:'2011','US3M'] )\n",
    "result_CAPM[1] = CAPM_stats( (ret_tot.loc['2012':,'GMWAX']-ret_RF.loc['2012':,'US3M']).to_frame('2012--2022'), ret_tot.loc['2012':,'SPY']-ret_RF.loc['2012':,'US3M'] )\n",
    "result_CAPM[2] = CAPM_stats( (ret_tot.loc[:,'GMWAX']-ret_RF.loc[:,'US3M']).to_frame('1996--2022'), ret_tot.loc[:,'SPY']-ret_RF.loc[:,'US3M'] )\n",
    "\n",
    "result_CAPM = pd.concat( result_CAPM ).iloc[:,:3]\n",
    "result_CAPM.columns.name = 'GMWAX excess returns'\n",
    "result_CAPM"
   ]
  },
  {
   "cell_type": "markdown",
   "metadata": {},
   "source": [
    "(b) <b>YES</b>, GMWAX is a low-$\\beta$ strategy since its value is less than one for the market (SPY).  Since the 2011 case, it has only slightly increased."
   ]
  },
  {
   "cell_type": "markdown",
   "metadata": {},
   "source": [
    "(c) <b>NO</b>, GMWAX doesn't provide any positive $\\alpha$ in the above monthly regression, so it's harder to justify management fees.  Since the 2011 case, it has gotten a bit worse though still hovering below zero, though the $R^2$ has significantly increased to the CAPM model."
   ]
  },
  {
   "cell_type": "markdown",
   "metadata": {},
   "source": [
    "<h1>SECTION 3 : Forecast Regressions</h1>"
   ]
  },
  {
   "cell_type": "markdown",
   "metadata": {},
   "source": [
    "<h2>QUESTION 1 : Forecasting of SPY</h2>"
   ]
  },
  {
   "cell_type": "code",
   "execution_count": 9,
   "metadata": {},
   "outputs": [
    {
     "data": {
      "text/html": [
       "<div>\n",
       "<style scoped>\n",
       "    .dataframe tbody tr th:only-of-type {\n",
       "        vertical-align: middle;\n",
       "    }\n",
       "\n",
       "    .dataframe tbody tr th {\n",
       "        vertical-align: top;\n",
       "    }\n",
       "\n",
       "    .dataframe thead th {\n",
       "        text-align: right;\n",
       "    }\n",
       "</style>\n",
       "<table border=\"1\" class=\"dataframe\">\n",
       "  <thead>\n",
       "    <tr style=\"text-align: right;\">\n",
       "      <th></th>\n",
       "      <th>$\\alpha^\\mathrm{SPY}$</th>\n",
       "      <th>$\\beta^\\mathrm{SPY}_\\mathrm{DP}$</th>\n",
       "      <th>$R^2$</th>\n",
       "    </tr>\n",
       "  </thead>\n",
       "  <tbody>\n",
       "    <tr>\n",
       "      <th>SPY total returns</th>\n",
       "      <td>-0.0142</td>\n",
       "      <td>0.0122</td>\n",
       "      <td>0.0104</td>\n",
       "    </tr>\n",
       "  </tbody>\n",
       "</table>\n",
       "</div>"
      ],
      "text/plain": [
       "                   $\\alpha^\\mathrm{SPY}$  $\\beta^\\mathrm{SPY}_\\mathrm{DP}$  \\\n",
       "SPY total returns                -0.0142                            0.0122   \n",
       "\n",
       "                    $R^2$  \n",
       "SPY total returns  0.0104  "
      ]
     },
     "execution_count": 9,
     "metadata": {},
     "output_type": "execute_result"
    }
   ],
   "source": [
    "model_fcA = sm.OLS( ret_tot['SPY'], sm.add_constant( ret_sig['DP'].shift(1)[ret_tot['SPY'].index[0]:] ), missing='drop' ).fit()\n",
    "pd.DataFrame( index=['SPY total returns'], columns=[r'$\\alpha^\\mathrm{SPY}$', r'$\\beta^\\mathrm{SPY}_\\mathrm{DP}$', r'$R^2$'], \\\n",
    "    data=np.array([*model_fcA.params, model_fcA.rsquared]).reshape(1,3) )"
   ]
  },
  {
   "cell_type": "code",
   "execution_count": 10,
   "metadata": {},
   "outputs": [
    {
     "data": {
      "text/html": [
       "<div>\n",
       "<style scoped>\n",
       "    .dataframe tbody tr th:only-of-type {\n",
       "        vertical-align: middle;\n",
       "    }\n",
       "\n",
       "    .dataframe tbody tr th {\n",
       "        vertical-align: top;\n",
       "    }\n",
       "\n",
       "    .dataframe thead th {\n",
       "        text-align: right;\n",
       "    }\n",
       "</style>\n",
       "<table border=\"1\" class=\"dataframe\">\n",
       "  <thead>\n",
       "    <tr style=\"text-align: right;\">\n",
       "      <th></th>\n",
       "      <th>$\\alpha^\\mathrm{SPY}$</th>\n",
       "      <th>$\\beta^\\mathrm{SPY}_\\mathrm{EP}$</th>\n",
       "      <th>$R^2$</th>\n",
       "    </tr>\n",
       "  </thead>\n",
       "  <tbody>\n",
       "    <tr>\n",
       "      <th>SPY total returns</th>\n",
       "      <td>-0.0039</td>\n",
       "      <td>0.0027</td>\n",
       "      <td>0.0056</td>\n",
       "    </tr>\n",
       "  </tbody>\n",
       "</table>\n",
       "</div>"
      ],
      "text/plain": [
       "                   $\\alpha^\\mathrm{SPY}$  $\\beta^\\mathrm{SPY}_\\mathrm{EP}$  \\\n",
       "SPY total returns                -0.0039                            0.0027   \n",
       "\n",
       "                    $R^2$  \n",
       "SPY total returns  0.0056  "
      ]
     },
     "execution_count": 10,
     "metadata": {},
     "output_type": "execute_result"
    }
   ],
   "source": [
    "model_fcB = sm.OLS( ret_tot['SPY'], sm.add_constant( ret_sig['EP'].shift(1)[ret_tot['SPY'].index[0]:] ), missing='drop' ).fit()\n",
    "pd.DataFrame( index=['SPY total returns'], columns=[r'$\\alpha^\\mathrm{SPY}$', r'$\\beta^\\mathrm{SPY}_\\mathrm{EP}$', r'$R^2$'], \\\n",
    "    data=np.array([*model_fcB.params, model_fcB.rsquared]).reshape(1,3) )"
   ]
  },
  {
   "cell_type": "code",
   "execution_count": 11,
   "metadata": {},
   "outputs": [
    {
     "data": {
      "text/html": [
       "<div>\n",
       "<style scoped>\n",
       "    .dataframe tbody tr th:only-of-type {\n",
       "        vertical-align: middle;\n",
       "    }\n",
       "\n",
       "    .dataframe tbody tr th {\n",
       "        vertical-align: top;\n",
       "    }\n",
       "\n",
       "    .dataframe thead th {\n",
       "        text-align: right;\n",
       "    }\n",
       "</style>\n",
       "<table border=\"1\" class=\"dataframe\">\n",
       "  <thead>\n",
       "    <tr style=\"text-align: right;\">\n",
       "      <th></th>\n",
       "      <th>$\\alpha^\\mathrm{SPY}$</th>\n",
       "      <th>$\\beta^\\mathrm{SPY}_\\mathrm{DP}$</th>\n",
       "      <th>$\\beta^\\mathrm{SPY}_\\mathrm{EP}$</th>\n",
       "      <th>$\\beta^\\mathrm{SPY}_\\mathrm{US10Y}$</th>\n",
       "      <th>$R^2$</th>\n",
       "    </tr>\n",
       "  </thead>\n",
       "  <tbody>\n",
       "    <tr>\n",
       "      <th>SPY total returns</th>\n",
       "      <td>-0.0183</td>\n",
       "      <td>0.0103</td>\n",
       "      <td>0.0023</td>\n",
       "      <td>-0.0007</td>\n",
       "      <td>0.0152</td>\n",
       "    </tr>\n",
       "  </tbody>\n",
       "</table>\n",
       "</div>"
      ],
      "text/plain": [
       "                   $\\alpha^\\mathrm{SPY}$  $\\beta^\\mathrm{SPY}_\\mathrm{DP}$  \\\n",
       "SPY total returns                -0.0183                            0.0103   \n",
       "\n",
       "                   $\\beta^\\mathrm{SPY}_\\mathrm{EP}$  \\\n",
       "SPY total returns                            0.0023   \n",
       "\n",
       "                   $\\beta^\\mathrm{SPY}_\\mathrm{US10Y}$   $R^2$  \n",
       "SPY total returns                              -0.0007  0.0152  "
      ]
     },
     "execution_count": 11,
     "metadata": {},
     "output_type": "execute_result"
    }
   ],
   "source": [
    "model_fcC = sm.OLS( ret_tot['SPY'], sm.add_constant( ret_sig.shift(1)[ret_tot['SPY'].index[0]:] ), missing='drop' ).fit()\n",
    "pd.DataFrame( index=['SPY total returns'], columns=[r'$\\alpha^\\mathrm{SPY}$', r'$\\beta^\\mathrm{SPY}_\\mathrm{DP}$', r'$\\beta^\\mathrm{SPY}_\\mathrm{EP}$', r'$\\beta^\\mathrm{SPY}_\\mathrm{US10Y}$', r'$R^2$'], \\\n",
    "    data=np.array([*model_fcC.params, model_fcC.rsquared]).reshape(1,5) )"
   ]
  },
  {
   "cell_type": "markdown",
   "metadata": {},
   "source": [
    "<h2>QUESTION 2 : Testing a Trading Strategy</h2>"
   ]
  },
  {
   "cell_type": "code",
   "execution_count": 12,
   "metadata": {},
   "outputs": [],
   "source": [
    "ret_SPY_exc = (ret_tot['SPY']-ret_RF['US3M']).dropna()\n",
    "\n",
    "ret_xA_exc = ( (100 * model_fcA.fittedvalues) * ret_SPY_exc ).to_frame( 'DP' ).dropna()\n",
    "ret_xA_tot = ( (100 * model_fcA.fittedvalues) * ret_tot['SPY'] ).to_frame( 'DP' )\n",
    "\n",
    "ret_xB_exc = ( (100 * model_fcB.fittedvalues) * ret_SPY_exc ).to_frame( 'EP' ).dropna()\n",
    "ret_xB_tot = ( (100 * model_fcB.fittedvalues) * ret_tot['SPY'] ).to_frame( 'EP' )\n",
    "\n",
    "ret_xC_exc = ( (100 * model_fcC.fittedvalues) * ret_SPY_exc ).to_frame( 'DP+EP+US10Y' ).dropna()\n",
    "ret_xC_tot = ( (100 * model_fcC.fittedvalues) * ret_tot['SPY'] ).to_frame( 'DP+EP+US10Y' )\n",
    "\n",
    "ret_x_exc = pd.concat( [ ret_xA_exc, ret_xB_exc, ret_xC_exc ], axis=1 )\n"
   ]
  },
  {
   "cell_type": "code",
   "execution_count": 13,
   "metadata": {},
   "outputs": [
    {
     "data": {
      "text/html": [
       "<div>\n",
       "<style scoped>\n",
       "    .dataframe tbody tr th:only-of-type {\n",
       "        vertical-align: middle;\n",
       "    }\n",
       "\n",
       "    .dataframe tbody tr th {\n",
       "        vertical-align: top;\n",
       "    }\n",
       "\n",
       "    .dataframe thead th {\n",
       "        text-align: right;\n",
       "    }\n",
       "</style>\n",
       "<table border=\"1\" class=\"dataframe\">\n",
       "  <thead>\n",
       "    <tr style=\"text-align: right;\">\n",
       "      <th>SPY strategy's excess returns</th>\n",
       "      <th>Annualized Return</th>\n",
       "      <th>Annualized Volatility</th>\n",
       "      <th>Annualized Sharpe Ratio</th>\n",
       "      <th>Max Drawdown</th>\n",
       "      <th>$\\alpha_\\mathrm{MKT}$</th>\n",
       "      <th>$\\beta_\\mathrm{MKT}$</th>\n",
       "      <th>$R^2$</th>\n",
       "      <th>Annualized Info Ratio</th>\n",
       "    </tr>\n",
       "    <tr>\n",
       "      <th>forecast's signals</th>\n",
       "      <th></th>\n",
       "      <th></th>\n",
       "      <th></th>\n",
       "      <th></th>\n",
       "      <th></th>\n",
       "      <th></th>\n",
       "      <th></th>\n",
       "      <th></th>\n",
       "    </tr>\n",
       "  </thead>\n",
       "  <tbody>\n",
       "    <tr>\n",
       "      <th>DP</th>\n",
       "      <td>0.0906</td>\n",
       "      <td>0.1690</td>\n",
       "      <td>0.5361</td>\n",
       "      <td>-0.7128</td>\n",
       "      <td>0.0020</td>\n",
       "      <td>0.8756</td>\n",
       "      <td>0.6571</td>\n",
       "      <td>106.1628</td>\n",
       "    </tr>\n",
       "    <tr>\n",
       "      <th>EP</th>\n",
       "      <td>0.0747</td>\n",
       "      <td>0.1248</td>\n",
       "      <td>0.5981</td>\n",
       "      <td>-0.3540</td>\n",
       "      <td>0.0018</td>\n",
       "      <td>0.7052</td>\n",
       "      <td>0.7811</td>\n",
       "      <td>144.8862</td>\n",
       "    </tr>\n",
       "    <tr>\n",
       "      <th>DP+EP+US10Y</th>\n",
       "      <td>0.1037</td>\n",
       "      <td>0.1567</td>\n",
       "      <td>0.6616</td>\n",
       "      <td>-0.5978</td>\n",
       "      <td>0.0037</td>\n",
       "      <td>0.7845</td>\n",
       "      <td>0.6138</td>\n",
       "      <td>96.6784</td>\n",
       "    </tr>\n",
       "  </tbody>\n",
       "</table>\n",
       "</div>"
      ],
      "text/plain": [
       "SPY strategy's excess returns  Annualized Return  Annualized Volatility  \\\n",
       "forecast's signals                                                        \n",
       "DP                                        0.0906                 0.1690   \n",
       "EP                                        0.0747                 0.1248   \n",
       "DP+EP+US10Y                               0.1037                 0.1567   \n",
       "\n",
       "SPY strategy's excess returns  Annualized Sharpe Ratio  Max Drawdown  \\\n",
       "forecast's signals                                                     \n",
       "DP                                              0.5361       -0.7128   \n",
       "EP                                              0.5981       -0.3540   \n",
       "DP+EP+US10Y                                     0.6616       -0.5978   \n",
       "\n",
       "SPY strategy's excess returns  $\\alpha_\\mathrm{MKT}$  $\\beta_\\mathrm{MKT}$  \\\n",
       "forecast's signals                                                           \n",
       "DP                                            0.0020                0.8756   \n",
       "EP                                            0.0018                0.7052   \n",
       "DP+EP+US10Y                                   0.0037                0.7845   \n",
       "\n",
       "SPY strategy's excess returns   $R^2$  Annualized Info Ratio  \n",
       "forecast's signals                                            \n",
       "DP                             0.6571               106.1628  \n",
       "EP                             0.7811               144.8862  \n",
       "DP+EP+US10Y                    0.6138                96.6784  "
      ]
     },
     "execution_count": 13,
     "metadata": {},
     "output_type": "execute_result"
    }
   ],
   "source": [
    "perf_xA = pd.concat( [ performance_summary( ret_xA_exc ).iloc[:,0:3], performance_summary( ret_xA_tot ).iloc[:,[9]], CAPM_stats( ret_xA_exc,  ret_SPY_exc ) ], axis=1 )\n",
    "perf_xB = pd.concat( [ performance_summary( ret_xB_exc ).iloc[:,0:3], performance_summary( ret_xB_tot ).iloc[:,[9]], CAPM_stats( ret_xB_exc,  ret_SPY_exc ) ], axis=1 )\n",
    "perf_xC = pd.concat( [ performance_summary( ret_xC_exc ).iloc[:,0:3], performance_summary( ret_xC_tot ).iloc[:,[9]], CAPM_stats( ret_xC_exc,  ret_SPY_exc ) ], axis=1 )\n",
    "\n",
    "perf_x = pd.concat( [perf_xA, perf_xB, perf_xC] )\n",
    "perf_x.columns.name = \"SPY strategy's excess returns\"\n",
    "perf_x.index.name = \"forecast's signals\"\n",
    "perf_x"
   ]
  },
  {
   "cell_type": "markdown",
   "metadata": {},
   "source": [
    "<h2>QUESTION 3 : GMO's Perception of Risk Premium</h2>"
   ]
  },
  {
   "cell_type": "code",
   "execution_count": 14,
   "metadata": {},
   "outputs": [
    {
     "data": {
      "text/html": [
       "<div>\n",
       "<style scoped>\n",
       "    .dataframe tbody tr th:only-of-type {\n",
       "        vertical-align: middle;\n",
       "    }\n",
       "\n",
       "    .dataframe tbody tr th {\n",
       "        vertical-align: top;\n",
       "    }\n",
       "\n",
       "    .dataframe thead th {\n",
       "        text-align: right;\n",
       "    }\n",
       "</style>\n",
       "<table border=\"1\" class=\"dataframe\">\n",
       "  <thead>\n",
       "    <tr style=\"text-align: right;\">\n",
       "      <th></th>\n",
       "      <th>VaR (0.05)</th>\n",
       "    </tr>\n",
       "  </thead>\n",
       "  <tbody>\n",
       "    <tr>\n",
       "      <th>SPY</th>\n",
       "      <td>-0.0790</td>\n",
       "    </tr>\n",
       "    <tr>\n",
       "      <th>GMWAX</th>\n",
       "      <td>-0.0473</td>\n",
       "    </tr>\n",
       "  </tbody>\n",
       "</table>\n",
       "</div>"
      ],
      "text/plain": [
       "       VaR (0.05)\n",
       "SPY       -0.0790\n",
       "GMWAX     -0.0473"
      ]
     },
     "execution_count": 14,
     "metadata": {},
     "output_type": "execute_result"
    }
   ],
   "source": [
    "ret_tot.quantile(0.05, axis=0).to_frame('VaR (0.05)')"
   ]
  },
  {
   "cell_type": "code",
   "execution_count": 15,
   "metadata": {},
   "outputs": [
    {
     "data": {
      "text/html": [
       "<div>\n",
       "<style scoped>\n",
       "    .dataframe tbody tr th:only-of-type {\n",
       "        vertical-align: middle;\n",
       "    }\n",
       "\n",
       "    .dataframe tbody tr th {\n",
       "        vertical-align: top;\n",
       "    }\n",
       "\n",
       "    .dataframe thead th {\n",
       "        text-align: right;\n",
       "    }\n",
       "</style>\n",
       "<table border=\"1\" class=\"dataframe\">\n",
       "  <thead>\n",
       "    <tr style=\"text-align: right;\">\n",
       "      <th></th>\n",
       "      <th>Annualized Return</th>\n",
       "      <th>Annualized Volatility</th>\n",
       "      <th>Annualized Sharpe Ratio</th>\n",
       "    </tr>\n",
       "  </thead>\n",
       "  <tbody>\n",
       "    <tr>\n",
       "      <th>DP</th>\n",
       "      <td>0.0354</td>\n",
       "      <td>0.2118</td>\n",
       "      <td>0.1669</td>\n",
       "    </tr>\n",
       "    <tr>\n",
       "      <th>EP</th>\n",
       "      <td>0.0145</td>\n",
       "      <td>0.1261</td>\n",
       "      <td>0.1147</td>\n",
       "    </tr>\n",
       "    <tr>\n",
       "      <th>DP+EP+US10Y</th>\n",
       "      <td>0.0516</td>\n",
       "      <td>0.1756</td>\n",
       "      <td>0.2937</td>\n",
       "    </tr>\n",
       "  </tbody>\n",
       "</table>\n",
       "</div>"
      ],
      "text/plain": [
       "             Annualized Return  Annualized Volatility  Annualized Sharpe Ratio\n",
       "DP                      0.0354                 0.2118                   0.1669\n",
       "EP                      0.0145                 0.1261                   0.1147\n",
       "DP+EP+US10Y             0.0516                 0.1756                   0.2937"
      ]
     },
     "execution_count": 15,
     "metadata": {},
     "output_type": "execute_result"
    }
   ],
   "source": [
    "performance_summary( ret_x_exc['2000':'2011'] ).iloc[:,0:3]"
   ]
  },
  {
   "cell_type": "markdown",
   "metadata": {},
   "source": [
    "(b) <b>YES</b>, the three dynamic portfolios from Question 2 above in Section 3 outperform the riskfree rate during the Lost Decade."
   ]
  },
  {
   "cell_type": "markdown",
   "metadata": {},
   "source": [
    "<h1>SECTION 4 : Out-of-Sample Forecasting</h1>"
   ]
  },
  {
   "cell_type": "code",
   "execution_count": 16,
   "metadata": {},
   "outputs": [],
   "source": [
    "model_fcA_OOS60 = RollingOLS( ret_tot['SPY'], sm.add_constant( ret_sig['DP'].shift(1)[ret_tot['SPY'].index[0]:] ), missing='drop', expanding=True, min_nobs=60 ).fit()\n",
    "model_fcB_OOS60 = RollingOLS( ret_tot['SPY'], sm.add_constant( ret_sig['EP'].shift(1)[ret_tot['SPY'].index[0]:] ), missing='drop', expanding=True, min_nobs=60 ).fit()"
   ]
  },
  {
   "cell_type": "markdown",
   "metadata": {},
   "source": [
    "<h2>QUESTION 1 : Coefficient of Determination</h2>"
   ]
  },
  {
   "cell_type": "code",
   "execution_count": 17,
   "metadata": {},
   "outputs": [
    {
     "name": "stdout",
     "output_type": "stream",
     "text": [
      "The DP signal's OOS R^2 until time T=now is 0.0104.  YES, this forecasting strategy produced a positive OOS R^2.\n",
      "The EP signal's OOS R^2 until time T=now is 0.0056.  YES, this forecasting strategy produced a positive OOS R^2.\n"
     ]
    }
   ],
   "source": [
    "print( f\"The DP signal's OOS R^2 until time T=now is {model_fcA_OOS60.rsquared[-1]:.4f}.  YES, this forecasting strategy produced a positive OOS R^2.\" )\n",
    "print( f\"The EP signal's OOS R^2 until time T=now is {model_fcB_OOS60.rsquared[-1]:.4f}.  YES, this forecasting strategy produced a positive OOS R^2.\" )"
   ]
  },
  {
   "cell_type": "markdown",
   "metadata": {},
   "source": [
    "<h2>QUESTION 2 : Testing a Trading Strategy</h2>"
   ]
  },
  {
   "cell_type": "code",
   "execution_count": 18,
   "metadata": {},
   "outputs": [],
   "source": [
    "# Sadly, unlike sm.OLS's results, the results of RollingOLS don't have a \"fittedvalues\" property.  So must do it manually.\n",
    "\n",
    "paramsA_OOS60 = model_fcA_OOS60.params.dropna()\n",
    "signal_DP = sm.add_constant( ret_sig['DP'] ).loc[paramsA_OOS60.index[0]:]\n",
    "model_fcA_OOS60_fittedvalues = pd.Series( index=paramsA_OOS60.index, data=[ paramsA_OOS60.loc[t,] @ signal_DP.loc[t,] for t in paramsA_OOS60.index ] )\n",
    "\n",
    "paramsB_OOS60 = model_fcB_OOS60.params.dropna()\n",
    "signal_EP = sm.add_constant( ret_sig['EP'] ).loc[paramsB_OOS60.index[0]:]\n",
    "model_fcB_OOS60_fittedvalues = pd.Series( index=paramsB_OOS60.index, data=[ paramsB_OOS60.loc[t,] @ signal_EP.loc[t,] for t in paramsB_OOS60.index ] )\n"
   ]
  },
  {
   "cell_type": "code",
   "execution_count": 19,
   "metadata": {},
   "outputs": [],
   "source": [
    "ret_xA_OOS60_exc = ( (100 * model_fcA_OOS60_fittedvalues) * ret_SPY_exc ).to_frame( 'DP OOS60' ).dropna()\n",
    "ret_xA_OOS60_tot = ( (100 * model_fcA_OOS60_fittedvalues) * ret_tot['SPY'] ).to_frame( 'DP OOS60' )\n",
    "\n",
    "ret_xB_OOS60_exc = ( (100 * model_fcB_OOS60_fittedvalues) * ret_SPY_exc ).to_frame( 'EP OOS60' ).dropna()\n",
    "ret_xB_OOS60_tot = ( (100 * model_fcB_OOS60_fittedvalues) * ret_tot['SPY'] ).to_frame( 'EP OOS60' )\n",
    "\n",
    "ret_x_OOS60_exc = pd.concat( [ ret_xA_OOS60_exc, ret_xB_OOS60_exc ], axis=1 )"
   ]
  },
  {
   "cell_type": "code",
   "execution_count": 20,
   "metadata": {},
   "outputs": [
    {
     "data": {
      "text/html": [
       "<div>\n",
       "<style scoped>\n",
       "    .dataframe tbody tr th:only-of-type {\n",
       "        vertical-align: middle;\n",
       "    }\n",
       "\n",
       "    .dataframe tbody tr th {\n",
       "        vertical-align: top;\n",
       "    }\n",
       "\n",
       "    .dataframe thead th {\n",
       "        text-align: right;\n",
       "    }\n",
       "</style>\n",
       "<table border=\"1\" class=\"dataframe\">\n",
       "  <thead>\n",
       "    <tr style=\"text-align: right;\">\n",
       "      <th>SPY strategy's excess returns</th>\n",
       "      <th>Annualized Return</th>\n",
       "      <th>Annualized Volatility</th>\n",
       "      <th>Annualized Sharpe Ratio</th>\n",
       "      <th>Max Drawdown</th>\n",
       "      <th>$\\alpha_\\mathrm{MKT}$</th>\n",
       "      <th>$\\beta_\\mathrm{MKT}$</th>\n",
       "      <th>$R^2$</th>\n",
       "      <th>Annualized Info Ratio</th>\n",
       "    </tr>\n",
       "    <tr>\n",
       "      <th>forecast's signals</th>\n",
       "      <th></th>\n",
       "      <th></th>\n",
       "      <th></th>\n",
       "      <th></th>\n",
       "      <th></th>\n",
       "      <th></th>\n",
       "      <th></th>\n",
       "      <th></th>\n",
       "    </tr>\n",
       "  </thead>\n",
       "  <tbody>\n",
       "    <tr>\n",
       "      <th>DP OOS60</th>\n",
       "      <td>0.0739</td>\n",
       "      <td>0.1950</td>\n",
       "      <td>0.3793</td>\n",
       "      <td>-0.5651</td>\n",
       "      <td>-3.3924e-05</td>\n",
       "      <td>0.9267</td>\n",
       "      <td>0.515</td>\n",
       "      <td>81.9045</td>\n",
       "    </tr>\n",
       "    <tr>\n",
       "      <th>EP OOS60</th>\n",
       "      <td>0.1028</td>\n",
       "      <td>0.1726</td>\n",
       "      <td>0.5955</td>\n",
       "      <td>-0.4374</td>\n",
       "      <td>5.5186e-03</td>\n",
       "      <td>0.4558</td>\n",
       "      <td>0.159</td>\n",
       "      <td>34.5520</td>\n",
       "    </tr>\n",
       "  </tbody>\n",
       "</table>\n",
       "</div>"
      ],
      "text/plain": [
       "SPY strategy's excess returns  Annualized Return  Annualized Volatility  \\\n",
       "forecast's signals                                                        \n",
       "DP OOS60                                  0.0739                 0.1950   \n",
       "EP OOS60                                  0.1028                 0.1726   \n",
       "\n",
       "SPY strategy's excess returns  Annualized Sharpe Ratio  Max Drawdown  \\\n",
       "forecast's signals                                                     \n",
       "DP OOS60                                        0.3793       -0.5651   \n",
       "EP OOS60                                        0.5955       -0.4374   \n",
       "\n",
       "SPY strategy's excess returns  $\\alpha_\\mathrm{MKT}$  $\\beta_\\mathrm{MKT}$  \\\n",
       "forecast's signals                                                           \n",
       "DP OOS60                                 -3.3924e-05                0.9267   \n",
       "EP OOS60                                  5.5186e-03                0.4558   \n",
       "\n",
       "SPY strategy's excess returns  $R^2$  Annualized Info Ratio  \n",
       "forecast's signals                                           \n",
       "DP OOS60                       0.515                81.9045  \n",
       "EP OOS60                       0.159                34.5520  "
      ]
     },
     "execution_count": 20,
     "metadata": {},
     "output_type": "execute_result"
    }
   ],
   "source": [
    "perf_xA_OOS60 = pd.concat( [ performance_summary( ret_xA_OOS60_exc ).iloc[:,0:3], performance_summary( ret_xA_OOS60_tot ).iloc[:,[9]], \\\n",
    "    CAPM_stats( ret_xA_OOS60_exc,  ret_SPY_exc.loc[paramsA_OOS60.index[0]:] ) ], axis=1 )\n",
    "perf_xB_OOS60 = pd.concat( [ performance_summary( ret_xB_OOS60_exc ).iloc[:,0:3], performance_summary( ret_xB_OOS60_tot ).iloc[:,[9]], \\\n",
    "    CAPM_stats( ret_xB_OOS60_exc,  ret_SPY_exc.loc[paramsB_OOS60.index[0]:] ) ], axis=1 )\n",
    "\n",
    "perf_x_OOS60 = pd.concat( [perf_xA_OOS60, perf_xB_OOS60] )\n",
    "perf_x_OOS60.columns.name = \"SPY strategy's excess returns\"\n",
    "perf_x_OOS60.index.name = \"forecast's signals\"\n",
    "perf_x_OOS60"
   ]
  },
  {
   "cell_type": "markdown",
   "metadata": {},
   "source": [
    "The OOS (out-of-sample) strategy is performing <b>-1.67% (DP) | +2.81% (EP) differently on annualized returns</b> compared to the IS (in-sample) versions."
   ]
  },
  {
   "cell_type": "markdown",
   "metadata": {},
   "source": [
    "<h2>QUESTION 3 : GMO's Perception of Risk Premium</h2>"
   ]
  },
  {
   "cell_type": "code",
   "execution_count": 21,
   "metadata": {},
   "outputs": [
    {
     "data": {
      "text/html": [
       "<div>\n",
       "<style scoped>\n",
       "    .dataframe tbody tr th:only-of-type {\n",
       "        vertical-align: middle;\n",
       "    }\n",
       "\n",
       "    .dataframe tbody tr th {\n",
       "        vertical-align: top;\n",
       "    }\n",
       "\n",
       "    .dataframe thead th {\n",
       "        text-align: right;\n",
       "    }\n",
       "</style>\n",
       "<table border=\"1\" class=\"dataframe\">\n",
       "  <thead>\n",
       "    <tr style=\"text-align: right;\">\n",
       "      <th></th>\n",
       "      <th>Annualized Return</th>\n",
       "      <th>Annualized Volatility</th>\n",
       "      <th>Annualized Sharpe Ratio</th>\n",
       "    </tr>\n",
       "  </thead>\n",
       "  <tbody>\n",
       "    <tr>\n",
       "      <th>DP OOS60</th>\n",
       "      <td>0.0413</td>\n",
       "      <td>0.2518</td>\n",
       "      <td>0.1641</td>\n",
       "    </tr>\n",
       "    <tr>\n",
       "      <th>EP OOS60</th>\n",
       "      <td>0.1162</td>\n",
       "      <td>0.2152</td>\n",
       "      <td>0.5400</td>\n",
       "    </tr>\n",
       "  </tbody>\n",
       "</table>\n",
       "</div>"
      ],
      "text/plain": [
       "          Annualized Return  Annualized Volatility  Annualized Sharpe Ratio\n",
       "DP OOS60             0.0413                 0.2518                   0.1641\n",
       "EP OOS60             0.1162                 0.2152                   0.5400"
      ]
     },
     "execution_count": 21,
     "metadata": {},
     "output_type": "execute_result"
    }
   ],
   "source": [
    "performance_summary( ret_x_OOS60_exc['2000':'2011'] ).iloc[:,0:3]"
   ]
  },
  {
   "cell_type": "markdown",
   "metadata": {},
   "source": [
    "(b) <b>YES</b>, the these two dynamic portfolios from Question 2 above in Section 4 outperform (DS : 0.59%, ES : +10.17%) the riskfree rate during the Lost Decade."
   ]
  }
 ],
 "metadata": {
  "kernelspec": {
   "display_name": "Python 3.9.12 ('base')",
   "language": "python",
   "name": "python3"
  },
  "language_info": {
   "codemirror_mode": {
    "name": "ipython",
    "version": 3
   },
   "file_extension": ".py",
   "mimetype": "text/x-python",
   "name": "python",
   "nbconvert_exporter": "python",
   "pygments_lexer": "ipython3",
   "version": "3.9.13"
  },
  "orig_nbformat": 4,
  "vscode": {
   "interpreter": {
    "hash": "086b952251382b2521f216b87a2099c4b5f50399dc251524e8aaf1ee223e4bbd"
   }
  }
 },
 "nbformat": 4,
 "nbformat_minor": 2
}
