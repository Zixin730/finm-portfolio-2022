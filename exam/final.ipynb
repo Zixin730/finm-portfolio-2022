{
 "cells": [
  {
   "cell_type": "code",
   "execution_count": 1,
   "metadata": {},
   "outputs": [],
   "source": [
    "import pandas as pd\n",
    "import numpy as np\n",
    "import matplotlib.pyplot as plt\n",
    "import statsmodels.api as sm\n",
    "from arch import arch_model\n",
    "from arch.univariate import GARCH, EWMAVariance\n",
    "from sklearn import linear_model\n",
    "import scipy.stats as stats\n",
    "from statsmodels.regression.rolling import RollingOLS\n",
    "import seaborn as sns\n",
    "import warnings\n",
    "import ast\n",
    "warnings.filterwarnings(\"ignore\")\n",
    "pd.set_option(\"display.precision\", 4)"
   ]
  },
  {
   "cell_type": "markdown",
   "metadata": {},
   "source": [
    "# 1\n",
    "\n",
    "\n",
    "## 1.1\n",
    "\n",
    "-\tIt is shown that when we trade extreme winners and losers, we will get significant excess returns. \n",
    "-\tAlso, if we trade more broadly deciles, it would have a large transaction fee. \n",
    "Yes. Empirical data shows that we can get higher returns when we trade a single decile top and bottom than 3 deciles. \n",
    "\n",
    "## 1.2\n",
    "\n",
    "- It has negative exposure to market volatility.\n",
    "- $\\beta^{Up}$ is negative as 0 .78 so LTCM appears short the call-like factor.\n",
    "- $\\beta^{Down}$ is positive as 1.29 so LTCM appears long the put-like factor.\n",
    "- So it must long the downside more than short the upside more than. \n",
    "\n",
    "## 1.3\n",
    "\n",
    "-\tThe mean-variance solution when we have a full covariance matrix is very sensitive to means and covariances. If two securities are quite correlated, the MV solution will take a long position in the security with the higher mean, and a short position in the security with the lower mean. This can result in much more variation in the magnitude of portfolio weights.\n",
    "-\tWe can add some explicit constraints, also we can use LASSO and Ridge regression to make the covariance matrix more diagonal-like, in order to solve the problem when we invert it. \n",
    "\n",
    "## 1.4\n",
    "\n",
    "-\tTS regression: 264 * (factor number+1) (if add constant). Run 40 TS regressions. \n",
    "-\t40*(factor number +1) (if add constant). Run 1 CS regression.\n",
    "\n",
    "\n",
    "## 1.5\n",
    "\n",
    "-\tGMO is, in a macro sense, a value investor. They invest in asset classes with low prices per cash flow. This means that they are buying into depressed assets and missing out on assets with large run-ups in price. The case mentions that as GMO missed the bull market of the late 1990s, they experienced large withdrawals before ultimately being proven right in the crash of 2000-2001.\n",
    "-\tGMO’s contrarian positions put it in some funding risk. If they deviate too much from other funds during strong performance, clients may want to withdraw money. (Of course, if GMO can survive, they can show strong performance when other funds are not doing well.) This is exactly what happened in the late 1990’s. This same effect impacts managers, who may be rated as missing strong run-ups even if their contrarian strategy will pay off in the long run.\n",
    "\n",
    "## 1.6\n",
    "- 1. They use classified 11 assets group instead of directly investing in 400 assets. \n",
    "- 2. They add constraints to their portfolios to avoid extreme positions. \n",
    "- Yes. It is much easier to implement from a numerical view. It is easier to calculate the covariance matrix, however, the constraint may add some difficulties when solving the optimization.\n",
    "\n",
    "\n",
    "## 1.7 \n",
    "- If stocks have log iid returns with normal distribution, there long term Sharpe ratio would be multiplied by $\\sqrt T$ compared to short term(t=1) Sharpe ratio due to the mean return is scale by $T$ while vol is only scaled by $\\sqrt T$. \n",
    "\n",
    "## 1.8\n",
    "\n",
    "- If we hold the assumption that the forward FX rate is the best guess for the future spot rate, then CIP implys UIP. \n",
    "- However, UIP says nothing about CIP. CIP is always true due to the Law of One Price, however UIP is only a theory, and in practise it is not always the case. \n",
    "\n",
    "## 1.9\n",
    "- The historical returns do not show the population mean return. \n",
    "- Due to survivor bias and backfill bias and incubator bias, we cannot extimate the population mean with certainty. \n",
    "\n",
    "## 1.10\n",
    "\n",
    "- By regressing the returns on SPY returns, with a constant, report the expanding $\\beta_t$ as the optimal hedging ratio. \n",
    "- Short $\\beta_t$ units of SPY. Rebalance your position dynamically. "
   ]
  },
  {
   "cell_type": "markdown",
   "metadata": {},
   "source": [
    "# Functions"
   ]
  },
  {
   "cell_type": "code",
   "execution_count": 5,
   "metadata": {},
   "outputs": [],
   "source": [
    "def cal_risk(df, quant=0.05):\n",
    "    result = pd.DataFrame()\n",
    "    # you don't neet to annualize higher moments\n",
    "    var_name = f'VaR ({quant})'\n",
    "    cvar_name = f'CVaR ({quant})'\n",
    "    # result['skewness'] = df.skew()\n",
    "    # result['kurtosis'] = df.kurtosis()\n",
    "    result[var_name] = df.quantile(quant)\n",
    "    result[cvar_name] = df[df < df.quantile(quant)].mean()\n",
    "    return result"
   ]
  },
  {
   "cell_type": "code",
   "execution_count": 23,
   "metadata": {},
   "outputs": [],
   "source": [
    "def get_capm_matrics(targets, regressors, add_constant=True, annualize_factor=12):\n",
    "\n",
    "    result = pd.DataFrame(index=targets.columns)\n",
    "    resid_matrix = pd.DataFrame(columns=targets.columns)\n",
    "    t_p_value = pd.DataFrame(index=targets.columns)\n",
    "\n",
    "    if add_constant:\n",
    "        X = sm.add_constant(regressors)\n",
    "    else:\n",
    "        X = regressors.copy()\n",
    "    for column in targets.columns:\n",
    "        y = targets[[column]]\n",
    "        model = sm.OLS(y, X, missing='drop').fit()\n",
    "        if add_constant:\n",
    "            result.loc[column, \"alpha\"] = model.params['const'] * \\\n",
    "                annualize_factor\n",
    "        result.loc[column, regressors.columns] = model.params[regressors.columns]\n",
    "\n",
    "        result.loc[column, \"R-squared\"] = model.rsquared\n",
    "\n",
    "        resid_matrix[column] = model.resid\n",
    "        if add_constant:\n",
    "            t_p_value.loc[column, \"t-value\"] = model.tvalues['const']\n",
    "            t_p_value.loc[column, \"p-value\"] = model.pvalues['const']\n",
    "\n",
    "    return result, resid_matrix, t_p_value\n",
    "\n"
   ]
  },
  {
   "cell_type": "code",
   "execution_count": 57,
   "metadata": {},
   "outputs": [],
   "source": [
    "def summary_stat(df, annual_factor):\n",
    "    '''summary assets' mean return, voaltility(stdev) and sharpe ratio'''\n",
    "    result = pd.DataFrame()\n",
    "    result[\"mean\"] = df.mean() * annual_factor\n",
    "    result[\"volatility\"] = df.std() * np.sqrt(annual_factor)\n",
    "    result[\"Sharpe Ratio\"] = result[\"mean\"]/result[\"volatility\"]\n",
    "\n",
    "    cum_ret = (1 + df).cumprod()\n",
    "    rolling_max = cum_ret.cummax()\n",
    "    drawdown = (cum_ret - rolling_max) / rolling_max\n",
    "    result['Max Drawdown'] = drawdown.min()\n",
    "\n",
    "    return result"
   ]
  },
  {
   "cell_type": "code",
   "execution_count": 72,
   "metadata": {},
   "outputs": [],
   "source": [
    "def get_ols_metrics(regressors, targets, annualization=1, ignorenan=True):\n",
    "    # ensure regressors and targets are pandas dataframes, as expected\n",
    "    if not isinstance(regressors, pd.DataFrame):\n",
    "        regressors = regressors.to_frame()\n",
    "    if not isinstance(targets, pd.DataFrame):\n",
    "        targets = targets.to_frame()\n",
    "\n",
    "    # align the targets and regressors on the same dates\n",
    "    df_aligned = targets.join(regressors, how='inner', lsuffix='y ')\n",
    "    Y = df_aligned[targets.columns]\n",
    "    Xset = df_aligned[regressors.columns]\n",
    "\n",
    "    reg = pd.DataFrame(index=targets.columns)\n",
    "    for col in Y.columns:\n",
    "        y = Y[col]\n",
    "\n",
    "        if ignorenan:\n",
    "            # ensure we use only non-NaN dates\n",
    "            alldata = Xset.join(y, lsuffix='X')\n",
    "            mask = alldata.notnull().all(axis=1)\n",
    "            y = y[mask]\n",
    "            X = Xset[mask]\n",
    "        else:\n",
    "            X = Xset\n",
    "\n",
    "        model = linear_model.LinearRegression().fit(X, y)\n",
    "        reg.loc[col, 'alpha'] = model.intercept_ * annualization\n",
    "        reg.loc[col, regressors.columns] = model.coef_\n",
    "        reg.loc[col, 'r-squared'] = model.score(X, y)\n",
    "\n",
    "        # sklearn does not return the residuals, so we need to build them\n",
    "        yfit = model.predict(X)\n",
    "        residuals = y - yfit\n",
    "\n",
    "        # Treynor Ratio is only defined for univariate regression\n",
    "        if Xset.shape[1] == 1:\n",
    "            reg.loc[col, 'Treynor Ratio'] = (\n",
    "                y.mean() / model.coef_) * annualization\n",
    "\n",
    "        # if intercept =0, numerical roundoff will nonetheless show nonzero Info Ratio\n",
    "        num_roundoff = 1e-12\n",
    "        if np.abs(model.intercept_) < num_roundoff:\n",
    "            reg.loc[col, 'Info Ratio'] = None\n",
    "        else:\n",
    "            reg.loc[col, 'Info Ratio'] = (\n",
    "                model.intercept_ / residuals.std()) * np.sqrt(annualization)\n",
    "\n",
    "    return reg\n"
   ]
  },
  {
   "cell_type": "code",
   "execution_count": 79,
   "metadata": {},
   "outputs": [],
   "source": [
    "def get_each_reg(targets, regressors, annualize_factor=12):\n",
    "\n",
    "    result = pd.DataFrame(index=targets.columns)\n",
    "\n",
    "    for i in range(targets.shape[1]):\n",
    "        X = regressors.iloc[:, i]\n",
    "        X = sm.add_constant(X)\n",
    "        y = targets.iloc[:, i]\n",
    "        column = targets.columns[i]\n",
    "        model = sm.OLS(y, X, missing='drop').fit()\n",
    "        result.loc[column, \"alpha\"] = model.params['const'] * annualize_factor\n",
    "        result.loc[column, \"beta\"] = model.params[1]\n",
    "        result.loc[column, \"R-squared\"] = model.rsquared\n",
    "\n",
    "    return result.T"
   ]
  },
  {
   "cell_type": "code",
   "execution_count": 91,
   "metadata": {},
   "outputs": [],
   "source": [
    "def oos_reg(y, X, start, add_constant=True):\n",
    "    # need to use python 3.8\n",
    "    if add_constant:\n",
    "        X = sm.add_constant(X)\n",
    "    model = RollingOLS(\n",
    "        y, X, window=X.shape[0], min_nobs=start-1, expanding=True).fit()\n",
    "    params = model.params.shift().iloc[start:]\n",
    "\n",
    "    rolling_pre = (model.params.shift() * X).sum(axis=1)\n",
    "    zero_pre = y.expanding(start).mean().shift()\n",
    "\n",
    "    predict_all = pd.concat([y, rolling_pre, zero_pre], axis=1).iloc[start:]\n",
    "    predict_all.columns = [\"Real\", \"Forecast\", \"Zero predict\"]\n",
    "    predict_err = np.square(\n",
    "        predict_all[\"Real\"] - predict_all[\"Forecast\"]).sum()\n",
    "    zero_pre_err = np.square(\n",
    "        predict_all[\"Real\"] - predict_all[\"Zero predict\"]).sum()\n",
    "    # print(predict_err, zero_pre_err)\n",
    "    r_squared = 1 - predict_err/zero_pre_err\n",
    "    return params, predict_all, r_squared"
   ]
  },
  {
   "cell_type": "markdown",
   "metadata": {},
   "source": [
    "# 2 Value at Risk\n",
    "## 2.1 Calculate the 5th percentile VaR and CVaR for GLD as of the end of the sample using the empirical CDF approach over the full sample of data."
   ]
  },
  {
   "cell_type": "code",
   "execution_count": 2,
   "metadata": {},
   "outputs": [
    {
     "data": {
      "text/html": [
       "<div>\n",
       "<style scoped>\n",
       "    .dataframe tbody tr th:only-of-type {\n",
       "        vertical-align: middle;\n",
       "    }\n",
       "\n",
       "    .dataframe tbody tr th {\n",
       "        vertical-align: top;\n",
       "    }\n",
       "\n",
       "    .dataframe thead th {\n",
       "        text-align: right;\n",
       "    }\n",
       "</style>\n",
       "<table border=\"1\" class=\"dataframe\">\n",
       "  <thead>\n",
       "    <tr style=\"text-align: right;\">\n",
       "      <th></th>\n",
       "      <th>GLD</th>\n",
       "      <th>Tbill rate</th>\n",
       "      <th>Tbill change</th>\n",
       "    </tr>\n",
       "    <tr>\n",
       "      <th>Date</th>\n",
       "      <th></th>\n",
       "      <th></th>\n",
       "      <th></th>\n",
       "    </tr>\n",
       "  </thead>\n",
       "  <tbody>\n",
       "    <tr>\n",
       "      <th>2009-04-19</th>\n",
       "      <td>-0.0126</td>\n",
       "      <td>0.130</td>\n",
       "      <td>-0.045</td>\n",
       "    </tr>\n",
       "    <tr>\n",
       "      <th>2009-04-26</th>\n",
       "      <td>0.0528</td>\n",
       "      <td>0.095</td>\n",
       "      <td>-0.035</td>\n",
       "    </tr>\n",
       "    <tr>\n",
       "      <th>2009-05-03</th>\n",
       "      <td>-0.0309</td>\n",
       "      <td>0.145</td>\n",
       "      <td>0.050</td>\n",
       "    </tr>\n",
       "    <tr>\n",
       "      <th>2009-05-10</th>\n",
       "      <td>0.0348</td>\n",
       "      <td>0.165</td>\n",
       "      <td>0.020</td>\n",
       "    </tr>\n",
       "    <tr>\n",
       "      <th>2009-05-17</th>\n",
       "      <td>0.0174</td>\n",
       "      <td>0.155</td>\n",
       "      <td>-0.010</td>\n",
       "    </tr>\n",
       "  </tbody>\n",
       "</table>\n",
       "</div>"
      ],
      "text/plain": [
       "               GLD  Tbill rate  Tbill change\n",
       "Date                                        \n",
       "2009-04-19 -0.0126       0.130        -0.045\n",
       "2009-04-26  0.0528       0.095        -0.035\n",
       "2009-05-03 -0.0309       0.145         0.050\n",
       "2009-05-10  0.0348       0.165         0.020\n",
       "2009-05-17  0.0174       0.155        -0.010"
      ]
     },
     "execution_count": 2,
     "metadata": {},
     "output_type": "execute_result"
    }
   ],
   "source": [
    "ret = pd.read_excel(\"../data/final_exam_data.xlsx\", sheet_name=2, index_col=0)\n",
    "ret.head()"
   ]
  },
  {
   "cell_type": "code",
   "execution_count": 4,
   "metadata": {},
   "outputs": [
    {
     "data": {
      "text/html": [
       "<div>\n",
       "<style scoped>\n",
       "    .dataframe tbody tr th:only-of-type {\n",
       "        vertical-align: middle;\n",
       "    }\n",
       "\n",
       "    .dataframe tbody tr th {\n",
       "        vertical-align: top;\n",
       "    }\n",
       "\n",
       "    .dataframe thead th {\n",
       "        text-align: right;\n",
       "    }\n",
       "</style>\n",
       "<table border=\"1\" class=\"dataframe\">\n",
       "  <thead>\n",
       "    <tr style=\"text-align: right;\">\n",
       "      <th></th>\n",
       "      <th>VaR (0.05)</th>\n",
       "      <th>CVaR (0.05)</th>\n",
       "    </tr>\n",
       "  </thead>\n",
       "  <tbody>\n",
       "    <tr>\n",
       "      <th>GLD</th>\n",
       "      <td>-0.0333</td>\n",
       "      <td>-0.0471</td>\n",
       "    </tr>\n",
       "  </tbody>\n",
       "</table>\n",
       "</div>"
      ],
      "text/plain": [
       "     VaR (0.05)  CVaR (0.05)\n",
       "GLD     -0.0333      -0.0471"
      ]
     },
     "execution_count": 4,
     "metadata": {},
     "output_type": "execute_result"
    }
   ],
   "source": [
    "cal_risk(ret[[\"GLD\"]])"
   ]
  },
  {
   "cell_type": "markdown",
   "metadata": {},
   "source": [
    "## 2.2 Calculate the 5th percentile VAR for GLD as of the end of the sample using the normal approximation, (assuming mean is zero as usual.) "
   ]
  },
  {
   "cell_type": "code",
   "execution_count": 147,
   "metadata": {},
   "outputs": [
    {
     "name": "stdout",
     "output_type": "stream",
     "text": [
      "Full-sample volatility: -0.03476093655812897\n"
     ]
    }
   ],
   "source": [
    "z_phi = stats.norm.ppf(0.05)\n",
    "gold_ret = ret[[\"GLD\"]]\n",
    "vol = np.sqrt((gold_ret**2).mean())\n",
    "VaR = z_phi * vol\n",
    "print(\"Full-sample volatility: \" + str(VaR[0]))"
   ]
  },
  {
   "cell_type": "code",
   "execution_count": 149,
   "metadata": {},
   "outputs": [
    {
     "data": {
      "text/html": [
       "<div>\n",
       "<style scoped>\n",
       "    .dataframe tbody tr th:only-of-type {\n",
       "        vertical-align: middle;\n",
       "    }\n",
       "\n",
       "    .dataframe tbody tr th {\n",
       "        vertical-align: top;\n",
       "    }\n",
       "\n",
       "    .dataframe thead th {\n",
       "        text-align: right;\n",
       "    }\n",
       "</style>\n",
       "<table border=\"1\" class=\"dataframe\">\n",
       "  <thead>\n",
       "    <tr style=\"text-align: right;\">\n",
       "      <th></th>\n",
       "      <th>historical var</th>\n",
       "    </tr>\n",
       "    <tr>\n",
       "      <th>Date</th>\n",
       "      <th></th>\n",
       "    </tr>\n",
       "  </thead>\n",
       "  <tbody>\n",
       "    <tr>\n",
       "      <th>2012-03-04</th>\n",
       "      <td>-0.0399</td>\n",
       "    </tr>\n",
       "    <tr>\n",
       "      <th>2012-03-11</th>\n",
       "      <td>-0.0401</td>\n",
       "    </tr>\n",
       "    <tr>\n",
       "      <th>2012-03-18</th>\n",
       "      <td>-0.0395</td>\n",
       "    </tr>\n",
       "    <tr>\n",
       "      <th>2012-03-25</th>\n",
       "      <td>-0.0395</td>\n",
       "    </tr>\n",
       "    <tr>\n",
       "      <th>2012-04-01</th>\n",
       "      <td>-0.0392</td>\n",
       "    </tr>\n",
       "    <tr>\n",
       "      <th>...</th>\n",
       "      <td>...</td>\n",
       "    </tr>\n",
       "    <tr>\n",
       "      <th>2022-11-06</th>\n",
       "      <td>-0.0374</td>\n",
       "    </tr>\n",
       "    <tr>\n",
       "      <th>2022-11-13</th>\n",
       "      <td>-0.0375</td>\n",
       "    </tr>\n",
       "    <tr>\n",
       "      <th>2022-11-20</th>\n",
       "      <td>-0.0380</td>\n",
       "    </tr>\n",
       "    <tr>\n",
       "      <th>2022-11-27</th>\n",
       "      <td>-0.0379</td>\n",
       "    </tr>\n",
       "    <tr>\n",
       "      <th>2022-12-04</th>\n",
       "      <td>-0.0379</td>\n",
       "    </tr>\n",
       "  </tbody>\n",
       "</table>\n",
       "<p>562 rows × 1 columns</p>\n",
       "</div>"
      ],
      "text/plain": [
       "            historical var\n",
       "Date                      \n",
       "2012-03-04         -0.0399\n",
       "2012-03-11         -0.0401\n",
       "2012-03-18         -0.0395\n",
       "2012-03-25         -0.0395\n",
       "2012-04-01         -0.0392\n",
       "...                    ...\n",
       "2022-11-06         -0.0374\n",
       "2022-11-13         -0.0375\n",
       "2022-11-20         -0.0380\n",
       "2022-11-27         -0.0379\n",
       "2022-12-04         -0.0379\n",
       "\n",
       "[562 rows x 1 columns]"
      ]
     },
     "execution_count": 149,
     "metadata": {},
     "output_type": "execute_result"
    }
   ],
   "source": [
    "gold_ret = ret[[\"GLD\"]]\n",
    "rolling_vol = np.sqrt((gold_ret**2).shift(1).rolling(window=150).mean())\n",
    "historical_var = rolling_vol.dropna() * z_phi\n",
    "historical_var.columns = [\"historical var\"]\n",
    "historical_var"
   ]
  },
  {
   "cell_type": "code",
   "execution_count": 150,
   "metadata": {},
   "outputs": [
    {
     "data": {
      "image/png": "[encoded data removed]",
      "text/plain": [
       "<Figure size 640x480 with 1 Axes>"
      ]
     },
     "metadata": {},
     "output_type": "display_data"
    }
   ],
   "source": [
    "historical_var.plot()\n",
    "\n",
    "plt.title('VaR')\n",
    "plt.ylabel('VaR')\n",
    "plt.xlabel('Date')\n",
    "plt.show()"
   ]
  },
  {
   "cell_type": "markdown",
   "metadata": {},
   "source": [
    "## 2.3 In our analysis in the course, which of the methods above did we find did best?\n",
    "\n",
    "- The normal approximation one is better. Becuase this method's hit rate of the VaR is closer to the precentile rate. "
   ]
  },
  {
   "cell_type": "markdown",
   "metadata": {},
   "source": [
    "# 3 Pricing Model (25 pts)\n",
    "## 3.1 (10pts) Estimate the time-series test of the pricing model."
   ]
  },
  {
   "cell_type": "code",
   "execution_count": 19,
   "metadata": {},
   "outputs": [
    {
     "data": {
      "text/html": [
       "<div>\n",
       "<style scoped>\n",
       "    .dataframe tbody tr th:only-of-type {\n",
       "        vertical-align: middle;\n",
       "    }\n",
       "\n",
       "    .dataframe tbody tr th {\n",
       "        vertical-align: top;\n",
       "    }\n",
       "\n",
       "    .dataframe thead th {\n",
       "        text-align: right;\n",
       "    }\n",
       "</style>\n",
       "<table border=\"1\" class=\"dataframe\">\n",
       "  <thead>\n",
       "    <tr style=\"text-align: right;\">\n",
       "      <th></th>\n",
       "      <th>MKT</th>\n",
       "      <th>UMD</th>\n",
       "    </tr>\n",
       "    <tr>\n",
       "      <th>Date</th>\n",
       "      <th></th>\n",
       "      <th></th>\n",
       "    </tr>\n",
       "  </thead>\n",
       "  <tbody>\n",
       "    <tr>\n",
       "      <th>2000-01-31</th>\n",
       "      <td>-0.0474</td>\n",
       "      <td>0.0192</td>\n",
       "    </tr>\n",
       "    <tr>\n",
       "      <th>2000-02-29</th>\n",
       "      <td>0.0245</td>\n",
       "      <td>0.1820</td>\n",
       "    </tr>\n",
       "    <tr>\n",
       "      <th>2000-03-31</th>\n",
       "      <td>0.0520</td>\n",
       "      <td>-0.0683</td>\n",
       "    </tr>\n",
       "    <tr>\n",
       "      <th>2000-04-30</th>\n",
       "      <td>-0.0640</td>\n",
       "      <td>-0.0839</td>\n",
       "    </tr>\n",
       "    <tr>\n",
       "      <th>2000-05-31</th>\n",
       "      <td>-0.0442</td>\n",
       "      <td>-0.0898</td>\n",
       "    </tr>\n",
       "  </tbody>\n",
       "</table>\n",
       "</div>"
      ],
      "text/plain": [
       "               MKT     UMD\n",
       "Date                      \n",
       "2000-01-31 -0.0474  0.0192\n",
       "2000-02-29  0.0245  0.1820\n",
       "2000-03-31  0.0520 -0.0683\n",
       "2000-04-30 -0.0640 -0.0839\n",
       "2000-05-31 -0.0442 -0.0898"
      ]
     },
     "execution_count": 19,
     "metadata": {},
     "output_type": "execute_result"
    }
   ],
   "source": [
    "future_ret = pd.read_excel(\"../data/final_exam_data.xlsx\", sheet_name=1, index_col=0)\n",
    "factors = pd.read_excel(\n",
    "    \"../data/final_exam_data.xlsx\", sheet_name=0, index_col=0)\n",
    "factors.head()"
   ]
  },
  {
   "cell_type": "code",
   "execution_count": 24,
   "metadata": {},
   "outputs": [
    {
     "data": {
      "text/html": [
       "<div>\n",
       "<style scoped>\n",
       "    .dataframe tbody tr th:only-of-type {\n",
       "        vertical-align: middle;\n",
       "    }\n",
       "\n",
       "    .dataframe tbody tr th {\n",
       "        vertical-align: top;\n",
       "    }\n",
       "\n",
       "    .dataframe thead th {\n",
       "        text-align: right;\n",
       "    }\n",
       "</style>\n",
       "<table border=\"1\" class=\"dataframe\">\n",
       "  <thead>\n",
       "    <tr style=\"text-align: right;\">\n",
       "      <th></th>\n",
       "      <th>alpha</th>\n",
       "      <th>MKT</th>\n",
       "      <th>UMD</th>\n",
       "      <th>R-squared</th>\n",
       "    </tr>\n",
       "  </thead>\n",
       "  <tbody>\n",
       "    <tr>\n",
       "      <th>NG1</th>\n",
       "      <td>0.1120</td>\n",
       "      <td>0.3541</td>\n",
       "      <td>0.3812</td>\n",
       "      <td>0.0173</td>\n",
       "    </tr>\n",
       "    <tr>\n",
       "      <th>KC1</th>\n",
       "      <td>0.0232</td>\n",
       "      <td>0.3151</td>\n",
       "      <td>-0.0275</td>\n",
       "      <td>0.0259</td>\n",
       "    </tr>\n",
       "    <tr>\n",
       "      <th>CC1</th>\n",
       "      <td>0.0708</td>\n",
       "      <td>0.2073</td>\n",
       "      <td>-0.0358</td>\n",
       "      <td>0.0120</td>\n",
       "    </tr>\n",
       "    <tr>\n",
       "      <th>LB1</th>\n",
       "      <td>0.0645</td>\n",
       "      <td>0.9421</td>\n",
       "      <td>-0.0048</td>\n",
       "      <td>0.1368</td>\n",
       "    </tr>\n",
       "    <tr>\n",
       "      <th>CT1</th>\n",
       "      <td>0.0249</td>\n",
       "      <td>0.5042</td>\n",
       "      <td>-0.1786</td>\n",
       "      <td>0.0990</td>\n",
       "    </tr>\n",
       "    <tr>\n",
       "      <th>SB1</th>\n",
       "      <td>0.0931</td>\n",
       "      <td>0.0580</td>\n",
       "      <td>-0.3192</td>\n",
       "      <td>0.0327</td>\n",
       "    </tr>\n",
       "    <tr>\n",
       "      <th>LC1</th>\n",
       "      <td>0.0154</td>\n",
       "      <td>0.1831</td>\n",
       "      <td>0.0661</td>\n",
       "      <td>0.0200</td>\n",
       "    </tr>\n",
       "    <tr>\n",
       "      <th>W1</th>\n",
       "      <td>0.0545</td>\n",
       "      <td>0.2989</td>\n",
       "      <td>0.0224</td>\n",
       "      <td>0.0213</td>\n",
       "    </tr>\n",
       "    <tr>\n",
       "      <th>S1</th>\n",
       "      <td>0.0425</td>\n",
       "      <td>0.3995</td>\n",
       "      <td>0.0273</td>\n",
       "      <td>0.0529</td>\n",
       "    </tr>\n",
       "    <tr>\n",
       "      <th>C1</th>\n",
       "      <td>0.0609</td>\n",
       "      <td>0.3404</td>\n",
       "      <td>0.0620</td>\n",
       "      <td>0.0282</td>\n",
       "    </tr>\n",
       "    <tr>\n",
       "      <th>GC1</th>\n",
       "      <td>0.0705</td>\n",
       "      <td>0.1316</td>\n",
       "      <td>0.1487</td>\n",
       "      <td>0.0274</td>\n",
       "    </tr>\n",
       "    <tr>\n",
       "      <th>SI1</th>\n",
       "      <td>0.0655</td>\n",
       "      <td>0.5118</td>\n",
       "      <td>0.1444</td>\n",
       "      <td>0.0584</td>\n",
       "    </tr>\n",
       "    <tr>\n",
       "      <th>HG1</th>\n",
       "      <td>0.0478</td>\n",
       "      <td>0.6906</td>\n",
       "      <td>-0.1388</td>\n",
       "      <td>0.2147</td>\n",
       "    </tr>\n",
       "    <tr>\n",
       "      <th>PA1</th>\n",
       "      <td>0.0792</td>\n",
       "      <td>0.6645</td>\n",
       "      <td>0.1733</td>\n",
       "      <td>0.0756</td>\n",
       "    </tr>\n",
       "  </tbody>\n",
       "</table>\n",
       "</div>"
      ],
      "text/plain": [
       "      alpha     MKT     UMD  R-squared\n",
       "NG1  0.1120  0.3541  0.3812     0.0173\n",
       "KC1  0.0232  0.3151 -0.0275     0.0259\n",
       "CC1  0.0708  0.2073 -0.0358     0.0120\n",
       "LB1  0.0645  0.9421 -0.0048     0.1368\n",
       "CT1  0.0249  0.5042 -0.1786     0.0990\n",
       "SB1  0.0931  0.0580 -0.3192     0.0327\n",
       "LC1  0.0154  0.1831  0.0661     0.0200\n",
       "W1   0.0545  0.2989  0.0224     0.0213\n",
       "S1   0.0425  0.3995  0.0273     0.0529\n",
       "C1   0.0609  0.3404  0.0620     0.0282\n",
       "GC1  0.0705  0.1316  0.1487     0.0274\n",
       "SI1  0.0655  0.5118  0.1444     0.0584\n",
       "HG1  0.0478  0.6906 -0.1388     0.2147\n",
       "PA1  0.0792  0.6645  0.1733     0.0756"
      ]
     },
     "execution_count": 24,
     "metadata": {},
     "output_type": "execute_result"
    }
   ],
   "source": [
    "result, resid_matrix, t_p_value = get_capm_matrics(\n",
    "    future_ret, factors, add_constant=True, annualize_factor=12)\n",
    "result"
   ]
  },
  {
   "cell_type": "code",
   "execution_count": 27,
   "metadata": {},
   "outputs": [
    {
     "name": "stdout",
     "output_type": "stream",
     "text": [
      "MAE: 0.05891893228048153\n"
     ]
    }
   ],
   "source": [
    "print(\"MAE: \" + str(np.abs(result[\"alpha\"]).mean()))"
   ]
  },
  {
   "cell_type": "code",
   "execution_count": 26,
   "metadata": {},
   "outputs": [
    {
     "name": "stdout",
     "output_type": "stream",
     "text": [
      "mean of r-squared:0.05874717942946507\n"
     ]
    }
   ],
   "source": [
    "print(\"mean of r-squared:\" + str(result[\"R-squared\"].mean()))"
   ]
  },
  {
   "cell_type": "markdown",
   "metadata": {},
   "source": [
    "### 3.1(b) If the pricing model worked perfectly, what would these statistics be?\n",
    "\n",
    "- Alpha should be zero.(small)\n",
    "- MAE should be zero. \n",
    "- Time-series test says nothing about r-squared"
   ]
  },
  {
   "cell_type": "markdown",
   "metadata": {},
   "source": [
    "## 3.2 2. (10pts) Estimate the cross-sectional test of the pricing model. Include an intercept in the cross- sectional regression."
   ]
  },
  {
   "cell_type": "code",
   "execution_count": 39,
   "metadata": {},
   "outputs": [],
   "source": [
    "y = future_ret.mean(axis=0).to_frame(\"mean return\")"
   ]
  },
  {
   "cell_type": "code",
   "execution_count": 31,
   "metadata": {},
   "outputs": [
    {
     "data": {
      "text/html": [
       "<div>\n",
       "<style scoped>\n",
       "    .dataframe tbody tr th:only-of-type {\n",
       "        vertical-align: middle;\n",
       "    }\n",
       "\n",
       "    .dataframe tbody tr th {\n",
       "        vertical-align: top;\n",
       "    }\n",
       "\n",
       "    .dataframe thead th {\n",
       "        text-align: right;\n",
       "    }\n",
       "</style>\n",
       "<table border=\"1\" class=\"dataframe\">\n",
       "  <thead>\n",
       "    <tr style=\"text-align: right;\">\n",
       "      <th></th>\n",
       "      <th>alpha</th>\n",
       "      <th>MKT</th>\n",
       "      <th>UMD</th>\n",
       "      <th>R-squared</th>\n",
       "    </tr>\n",
       "  </thead>\n",
       "  <tbody>\n",
       "    <tr>\n",
       "      <th>mean return</th>\n",
       "      <td>0.0611</td>\n",
       "      <td>0.0052</td>\n",
       "      <td>0.0061</td>\n",
       "      <td>0.3914</td>\n",
       "    </tr>\n",
       "  </tbody>\n",
       "</table>\n",
       "</div>"
      ],
      "text/plain": [
       "              alpha     MKT     UMD  R-squared\n",
       "mean return  0.0611  0.0052  0.0061     0.3914"
      ]
     },
     "execution_count": 31,
     "metadata": {},
     "output_type": "execute_result"
    }
   ],
   "source": [
    "cs_result, cs_resid_matrix, t_p_value = get_capm_matrics(\n",
    "    y, result[[\"MKT\", \"UMD\"]], add_constant=True, annualize_factor=12)\n",
    "cs_result"
   ]
  },
  {
   "cell_type": "code",
   "execution_count": 38,
   "metadata": {},
   "outputs": [
    {
     "name": "stdout",
     "output_type": "stream",
     "text": [
      "Annnualized mean-absolute error:0.018001671556518994\n"
     ]
    }
   ],
   "source": [
    "print(\"Annnualized mean-absolute error:\" + str(np.abs(cs_resid_matrix).mean()[0] * 12))"
   ]
  },
  {
   "cell_type": "markdown",
   "metadata": {},
   "source": [
    "### 3.2(b) If the pricing model worked perfectly, what would these statistics be?\n",
    "- Alpha should be zero. \n",
    "- mean-absolute error should be zero.\n",
    "- R-squared should be 1. "
   ]
  },
  {
   "cell_type": "markdown",
   "metadata": {},
   "source": [
    "## 3.3 (5pts) Compare the factor premia across the cross-sectional and time-series estimations.\n",
    "- MKT ts premia > cs premia(very close)\n",
    "- UMD ts premia < cs premia"
   ]
  },
  {
   "cell_type": "code",
   "execution_count": 45,
   "metadata": {},
   "outputs": [
    {
     "data": {
      "text/html": [
       "<div>\n",
       "<style scoped>\n",
       "    .dataframe tbody tr th:only-of-type {\n",
       "        vertical-align: middle;\n",
       "    }\n",
       "\n",
       "    .dataframe tbody tr th {\n",
       "        vertical-align: top;\n",
       "    }\n",
       "\n",
       "    .dataframe thead th {\n",
       "        text-align: right;\n",
       "    }\n",
       "</style>\n",
       "<table border=\"1\" class=\"dataframe\">\n",
       "  <thead>\n",
       "    <tr style=\"text-align: right;\">\n",
       "      <th></th>\n",
       "      <th>ts premia</th>\n",
       "      <th>cs premia</th>\n",
       "    </tr>\n",
       "  </thead>\n",
       "  <tbody>\n",
       "    <tr>\n",
       "      <th>MKT</th>\n",
       "      <td>0.0059</td>\n",
       "      <td>0.0052</td>\n",
       "    </tr>\n",
       "    <tr>\n",
       "      <th>UMD</th>\n",
       "      <td>0.0015</td>\n",
       "      <td>0.0061</td>\n",
       "    </tr>\n",
       "  </tbody>\n",
       "</table>\n",
       "</div>"
      ],
      "text/plain": [
       "     ts premia  cs premia\n",
       "MKT     0.0059     0.0052\n",
       "UMD     0.0015     0.0061"
      ]
     },
     "execution_count": 45,
     "metadata": {},
     "output_type": "execute_result"
    }
   ],
   "source": [
    "res = factors.mean().to_frame(\"ts premia\")\n",
    "res[\"cs premia\"] = cs_result.values.T[1:3,]\n",
    "res"
   ]
  },
  {
   "cell_type": "markdown",
   "metadata": {},
   "source": [
    "# 4 Forecasting (50pts)\n",
    "## 4.1"
   ]
  },
  {
   "cell_type": "code",
   "execution_count": 154,
   "metadata": {},
   "outputs": [
    {
     "data": {
      "text/html": [
       "<div>\n",
       "<style scoped>\n",
       "    .dataframe tbody tr th:only-of-type {\n",
       "        vertical-align: middle;\n",
       "    }\n",
       "\n",
       "    .dataframe tbody tr th {\n",
       "        vertical-align: top;\n",
       "    }\n",
       "\n",
       "    .dataframe thead th {\n",
       "        text-align: right;\n",
       "    }\n",
       "</style>\n",
       "<table border=\"1\" class=\"dataframe\">\n",
       "  <thead>\n",
       "    <tr style=\"text-align: right;\">\n",
       "      <th></th>\n",
       "      <th>GLD</th>\n",
       "      <th>Tbill rate</th>\n",
       "      <th>Tbill change</th>\n",
       "    </tr>\n",
       "    <tr>\n",
       "      <th>Date</th>\n",
       "      <th></th>\n",
       "      <th></th>\n",
       "      <th></th>\n",
       "    </tr>\n",
       "  </thead>\n",
       "  <tbody>\n",
       "    <tr>\n",
       "      <th>2009-04-19</th>\n",
       "      <td>-0.0126</td>\n",
       "      <td>0.130</td>\n",
       "      <td>-0.045</td>\n",
       "    </tr>\n",
       "    <tr>\n",
       "      <th>2009-04-26</th>\n",
       "      <td>0.0528</td>\n",
       "      <td>0.095</td>\n",
       "      <td>-0.035</td>\n",
       "    </tr>\n",
       "    <tr>\n",
       "      <th>2009-05-03</th>\n",
       "      <td>-0.0309</td>\n",
       "      <td>0.145</td>\n",
       "      <td>0.050</td>\n",
       "    </tr>\n",
       "    <tr>\n",
       "      <th>2009-05-10</th>\n",
       "      <td>0.0348</td>\n",
       "      <td>0.165</td>\n",
       "      <td>0.020</td>\n",
       "    </tr>\n",
       "    <tr>\n",
       "      <th>2009-05-17</th>\n",
       "      <td>0.0174</td>\n",
       "      <td>0.155</td>\n",
       "      <td>-0.010</td>\n",
       "    </tr>\n",
       "    <tr>\n",
       "      <th>...</th>\n",
       "      <td>...</td>\n",
       "      <td>...</td>\n",
       "      <td>...</td>\n",
       "    </tr>\n",
       "    <tr>\n",
       "      <th>2022-11-06</th>\n",
       "      <td>0.0216</td>\n",
       "      <td>4.013</td>\n",
       "      <td>0.043</td>\n",
       "    </tr>\n",
       "    <tr>\n",
       "      <th>2022-11-13</th>\n",
       "      <td>0.0517</td>\n",
       "      <td>4.063</td>\n",
       "      <td>0.050</td>\n",
       "    </tr>\n",
       "    <tr>\n",
       "      <th>2022-11-20</th>\n",
       "      <td>-0.0108</td>\n",
       "      <td>4.135</td>\n",
       "      <td>0.072</td>\n",
       "    </tr>\n",
       "    <tr>\n",
       "      <th>2022-11-27</th>\n",
       "      <td>0.0026</td>\n",
       "      <td>4.175</td>\n",
       "      <td>0.040</td>\n",
       "    </tr>\n",
       "    <tr>\n",
       "      <th>2022-12-04</th>\n",
       "      <td>-0.0030</td>\n",
       "      <td>4.253</td>\n",
       "      <td>0.078</td>\n",
       "    </tr>\n",
       "  </tbody>\n",
       "</table>\n",
       "<p>712 rows × 3 columns</p>\n",
       "</div>"
      ],
      "text/plain": [
       "               GLD  Tbill rate  Tbill change\n",
       "Date                                        \n",
       "2009-04-19 -0.0126       0.130        -0.045\n",
       "2009-04-26  0.0528       0.095        -0.035\n",
       "2009-05-03 -0.0309       0.145         0.050\n",
       "2009-05-10  0.0348       0.165         0.020\n",
       "2009-05-17  0.0174       0.155        -0.010\n",
       "...            ...         ...           ...\n",
       "2022-11-06  0.0216       4.013         0.043\n",
       "2022-11-13  0.0517       4.063         0.050\n",
       "2022-11-20 -0.0108       4.135         0.072\n",
       "2022-11-27  0.0026       4.175         0.040\n",
       "2022-12-04 -0.0030       4.253         0.078\n",
       "\n",
       "[712 rows x 3 columns]"
      ]
     },
     "execution_count": 154,
     "metadata": {},
     "output_type": "execute_result"
    }
   ],
   "source": [
    "ret = pd.read_excel(\"../data/final_exam_data.xlsx\", sheet_name=2, index_col=0)\n",
    "ret"
   ]
  },
  {
   "cell_type": "code",
   "execution_count": 155,
   "metadata": {},
   "outputs": [
    {
     "name": "stdout",
     "output_type": "stream",
     "text": [
      "No need to annualize these stats.\n"
     ]
    },
    {
     "data": {
      "text/html": [
       "<div>\n",
       "<style scoped>\n",
       "    .dataframe tbody tr th:only-of-type {\n",
       "        vertical-align: middle;\n",
       "    }\n",
       "\n",
       "    .dataframe tbody tr th {\n",
       "        vertical-align: top;\n",
       "    }\n",
       "\n",
       "    .dataframe thead th {\n",
       "        text-align: right;\n",
       "    }\n",
       "</style>\n",
       "<table border=\"1\" class=\"dataframe\">\n",
       "  <thead>\n",
       "    <tr style=\"text-align: right;\">\n",
       "      <th></th>\n",
       "      <th>GLD</th>\n",
       "    </tr>\n",
       "  </thead>\n",
       "  <tbody>\n",
       "    <tr>\n",
       "      <th>const</th>\n",
       "      <td>0.0010</td>\n",
       "    </tr>\n",
       "    <tr>\n",
       "      <th>Tbill rate</th>\n",
       "      <td>0.0003</td>\n",
       "    </tr>\n",
       "    <tr>\n",
       "      <th>Tbill change</th>\n",
       "      <td>0.0005</td>\n",
       "    </tr>\n",
       "  </tbody>\n",
       "</table>\n",
       "</div>"
      ],
      "text/plain": [
       "                 GLD\n",
       "const         0.0010\n",
       "Tbill rate    0.0003\n",
       "Tbill change  0.0005"
      ]
     },
     "execution_count": 155,
     "metadata": {},
     "output_type": "execute_result"
    }
   ],
   "source": [
    "X = ret[[\"Tbill rate\", \"Tbill change\"]].shift()\n",
    "X = sm.add_constant(X)\n",
    "y = ret[[\"GLD\"]]\n",
    "\n",
    "static_model = sm.OLS(y, X, missing='drop').fit()\n",
    "print(\"No need to annualize these stats.\")\n",
    "static_model.params.to_frame(\"GLD\")"
   ]
  },
  {
   "cell_type": "code",
   "execution_count": 156,
   "metadata": {},
   "outputs": [
    {
     "name": "stdout",
     "output_type": "stream",
     "text": [
      "r-squared:0.00010651991509946779\n"
     ]
    }
   ],
   "source": [
    "print(\"r-squared:\" + str(static_model.rsquared))"
   ]
  },
  {
   "cell_type": "markdown",
   "metadata": {},
   "source": [
    "## 4.2"
   ]
  },
  {
   "cell_type": "code",
   "execution_count": 157,
   "metadata": {},
   "outputs": [
    {
     "data": {
      "text/html": [
       "<div>\n",
       "<style scoped>\n",
       "    .dataframe tbody tr th:only-of-type {\n",
       "        vertical-align: middle;\n",
       "    }\n",
       "\n",
       "    .dataframe tbody tr th {\n",
       "        vertical-align: top;\n",
       "    }\n",
       "\n",
       "    .dataframe thead th {\n",
       "        text-align: right;\n",
       "    }\n",
       "</style>\n",
       "<table border=\"1\" class=\"dataframe\">\n",
       "  <thead>\n",
       "    <tr style=\"text-align: right;\">\n",
       "      <th></th>\n",
       "      <th>portfolio ret</th>\n",
       "    </tr>\n",
       "    <tr>\n",
       "      <th>Date</th>\n",
       "      <th></th>\n",
       "    </tr>\n",
       "  </thead>\n",
       "  <tbody>\n",
       "    <tr>\n",
       "      <th>2022-11-06</th>\n",
       "      <td>0.0078</td>\n",
       "    </tr>\n",
       "    <tr>\n",
       "      <th>2022-11-13</th>\n",
       "      <td>0.0187</td>\n",
       "    </tr>\n",
       "    <tr>\n",
       "      <th>2022-11-20</th>\n",
       "      <td>-0.0039</td>\n",
       "    </tr>\n",
       "    <tr>\n",
       "      <th>2022-11-27</th>\n",
       "      <td>0.0010</td>\n",
       "    </tr>\n",
       "    <tr>\n",
       "      <th>2022-12-04</th>\n",
       "      <td>-0.0011</td>\n",
       "    </tr>\n",
       "  </tbody>\n",
       "</table>\n",
       "</div>"
      ],
      "text/plain": [
       "            portfolio ret\n",
       "Date                     \n",
       "2022-11-06         0.0078\n",
       "2022-11-13         0.0187\n",
       "2022-11-20        -0.0039\n",
       "2022-11-27         0.0010\n",
       "2022-12-04        -0.0011"
      ]
     },
     "execution_count": 157,
     "metadata": {},
     "output_type": "execute_result"
    }
   ],
   "source": [
    "predict = static_model.predict(X)\n",
    "weight = (predict*80 + 0.2).to_frame('GLD')\n",
    "portfolio_ret = weight * y\n",
    "portfolio_ret.columns = [\"portfolio ret\"]\n",
    "portfolio_ret.tail()"
   ]
  },
  {
   "cell_type": "markdown",
   "metadata": {},
   "source": [
    "## 4.3 (3pts) For both rx and rGLD, report the following univariate stats (annualized)."
   ]
  },
  {
   "cell_type": "code",
   "execution_count": 158,
   "metadata": {},
   "outputs": [
    {
     "data": {
      "text/html": [
       "<div>\n",
       "<style scoped>\n",
       "    .dataframe tbody tr th:only-of-type {\n",
       "        vertical-align: middle;\n",
       "    }\n",
       "\n",
       "    .dataframe tbody tr th {\n",
       "        vertical-align: top;\n",
       "    }\n",
       "\n",
       "    .dataframe thead th {\n",
       "        text-align: right;\n",
       "    }\n",
       "</style>\n",
       "<table border=\"1\" class=\"dataframe\">\n",
       "  <thead>\n",
       "    <tr style=\"text-align: right;\">\n",
       "      <th></th>\n",
       "      <th>portfolio ret</th>\n",
       "      <th>gold ret</th>\n",
       "    </tr>\n",
       "    <tr>\n",
       "      <th>Date</th>\n",
       "      <th></th>\n",
       "      <th></th>\n",
       "    </tr>\n",
       "  </thead>\n",
       "  <tbody>\n",
       "    <tr>\n",
       "      <th>2009-04-26</th>\n",
       "      <td>0.0148</td>\n",
       "      <td>0.0528</td>\n",
       "    </tr>\n",
       "    <tr>\n",
       "      <th>2009-05-03</th>\n",
       "      <td>-0.0086</td>\n",
       "      <td>-0.0309</td>\n",
       "    </tr>\n",
       "    <tr>\n",
       "      <th>2009-05-10</th>\n",
       "      <td>0.0099</td>\n",
       "      <td>0.0348</td>\n",
       "    </tr>\n",
       "    <tr>\n",
       "      <th>2009-05-17</th>\n",
       "      <td>0.0049</td>\n",
       "      <td>0.0174</td>\n",
       "    </tr>\n",
       "    <tr>\n",
       "      <th>2009-05-24</th>\n",
       "      <td>0.0080</td>\n",
       "      <td>0.0284</td>\n",
       "    </tr>\n",
       "    <tr>\n",
       "      <th>...</th>\n",
       "      <td>...</td>\n",
       "      <td>...</td>\n",
       "    </tr>\n",
       "    <tr>\n",
       "      <th>2022-11-06</th>\n",
       "      <td>0.0078</td>\n",
       "      <td>0.0216</td>\n",
       "    </tr>\n",
       "    <tr>\n",
       "      <th>2022-11-13</th>\n",
       "      <td>0.0187</td>\n",
       "      <td>0.0517</td>\n",
       "    </tr>\n",
       "    <tr>\n",
       "      <th>2022-11-20</th>\n",
       "      <td>-0.0039</td>\n",
       "      <td>-0.0108</td>\n",
       "    </tr>\n",
       "    <tr>\n",
       "      <th>2022-11-27</th>\n",
       "      <td>0.0010</td>\n",
       "      <td>0.0026</td>\n",
       "    </tr>\n",
       "    <tr>\n",
       "      <th>2022-12-04</th>\n",
       "      <td>-0.0011</td>\n",
       "      <td>-0.0030</td>\n",
       "    </tr>\n",
       "  </tbody>\n",
       "</table>\n",
       "<p>711 rows × 2 columns</p>\n",
       "</div>"
      ],
      "text/plain": [
       "            portfolio ret  gold ret\n",
       "Date                               \n",
       "2009-04-26         0.0148    0.0528\n",
       "2009-05-03        -0.0086   -0.0309\n",
       "2009-05-10         0.0099    0.0348\n",
       "2009-05-17         0.0049    0.0174\n",
       "2009-05-24         0.0080    0.0284\n",
       "...                   ...       ...\n",
       "2022-11-06         0.0078    0.0216\n",
       "2022-11-13         0.0187    0.0517\n",
       "2022-11-20        -0.0039   -0.0108\n",
       "2022-11-27         0.0010    0.0026\n",
       "2022-12-04        -0.0011   -0.0030\n",
       "\n",
       "[711 rows x 2 columns]"
      ]
     },
     "execution_count": 158,
     "metadata": {},
     "output_type": "execute_result"
    }
   ],
   "source": [
    "portfolio_ret[\"gold ret\"] = y\n",
    "portfolio_ret = portfolio_ret.dropna()\n",
    "portfolio_ret"
   ]
  },
  {
   "cell_type": "code",
   "execution_count": 159,
   "metadata": {},
   "outputs": [
    {
     "data": {
      "text/html": [
       "<div>\n",
       "<style scoped>\n",
       "    .dataframe tbody tr th:only-of-type {\n",
       "        vertical-align: middle;\n",
       "    }\n",
       "\n",
       "    .dataframe tbody tr th {\n",
       "        vertical-align: top;\n",
       "    }\n",
       "\n",
       "    .dataframe thead th {\n",
       "        text-align: right;\n",
       "    }\n",
       "</style>\n",
       "<table border=\"1\" class=\"dataframe\">\n",
       "  <thead>\n",
       "    <tr style=\"text-align: right;\">\n",
       "      <th></th>\n",
       "      <th>mean</th>\n",
       "      <th>volatility</th>\n",
       "      <th>Sharpe Ratio</th>\n",
       "      <th>Max Drawdown</th>\n",
       "    </tr>\n",
       "  </thead>\n",
       "  <tbody>\n",
       "    <tr>\n",
       "      <th>portfolio ret</th>\n",
       "      <td>0.0040</td>\n",
       "      <td>0.0209</td>\n",
       "      <td>0.1911</td>\n",
       "      <td>-0.1426</td>\n",
       "    </tr>\n",
       "    <tr>\n",
       "      <th>gold ret</th>\n",
       "      <td>0.0136</td>\n",
       "      <td>0.0732</td>\n",
       "      <td>0.1859</td>\n",
       "      <td>-0.4474</td>\n",
       "    </tr>\n",
       "  </tbody>\n",
       "</table>\n",
       "</div>"
      ],
      "text/plain": [
       "                 mean  volatility  Sharpe Ratio  Max Drawdown\n",
       "portfolio ret  0.0040      0.0209        0.1911       -0.1426\n",
       "gold ret       0.0136      0.0732        0.1859       -0.4474"
      ]
     },
     "execution_count": 159,
     "metadata": {},
     "output_type": "execute_result"
    }
   ],
   "source": [
    "summary_stat(portfolio_ret, 12)"
   ]
  },
  {
   "cell_type": "markdown",
   "metadata": {},
   "source": [
    "## 4.4  Run a Linear Factor Decomposition of rx on rGLD and report the following (annualized)"
   ]
  },
  {
   "cell_type": "code",
   "execution_count": 160,
   "metadata": {},
   "outputs": [
    {
     "data": {
      "text/html": [
       "<div>\n",
       "<style scoped>\n",
       "    .dataframe tbody tr th:only-of-type {\n",
       "        vertical-align: middle;\n",
       "    }\n",
       "\n",
       "    .dataframe tbody tr th {\n",
       "        vertical-align: top;\n",
       "    }\n",
       "\n",
       "    .dataframe thead th {\n",
       "        text-align: right;\n",
       "    }\n",
       "</style>\n",
       "<table border=\"1\" class=\"dataframe\">\n",
       "  <thead>\n",
       "    <tr style=\"text-align: right;\">\n",
       "      <th></th>\n",
       "      <th>alpha</th>\n",
       "      <th>gold ret</th>\n",
       "      <th>r-squared</th>\n",
       "      <th>Treynor Ratio</th>\n",
       "      <th>Info Ratio</th>\n",
       "    </tr>\n",
       "  </thead>\n",
       "  <tbody>\n",
       "    <tr>\n",
       "      <th>portfolio ret</th>\n",
       "      <td>0.0001</td>\n",
       "      <td>0.2856</td>\n",
       "      <td>0.9971</td>\n",
       "      <td>0.014</td>\n",
       "      <td>0.1026</td>\n",
       "    </tr>\n",
       "  </tbody>\n",
       "</table>\n",
       "</div>"
      ],
      "text/plain": [
       "                alpha  gold ret  r-squared  Treynor Ratio  Info Ratio\n",
       "portfolio ret  0.0001    0.2856     0.9971          0.014      0.1026"
      ]
     },
     "execution_count": 160,
     "metadata": {},
     "output_type": "execute_result"
    }
   ],
   "source": [
    "get_ols_metrics(portfolio_ret[[\"gold ret\"]], portfolio_ret[[\"portfolio ret\"]], annualization=12)"
   ]
  },
  {
   "cell_type": "markdown",
   "metadata": {},
   "source": [
    "## 4.5 Suppose we were going to forecast GLD using just one of our two signals. Which of the signals would likely lead to a result where the long-term forecast compounds the effect over long horizons, as we saw for forecasting SPY using dividend-price ratios? Explains\n",
    "\n",
    "- \"Tbill rate\" signal. It has higher serial correlation than \"Tbill change\" signal. So it may have better predict in the long run due to the cumulative effect. "
   ]
  },
  {
   "cell_type": "markdown",
   "metadata": {},
   "source": [
    "## 4.6 (5pts) Let’s consider the out-of-sample performance of the strategy."
   ]
  },
  {
   "cell_type": "code",
   "execution_count": 92,
   "metadata": {},
   "outputs": [],
   "source": [
    "begin = X[:\"2016\"].shape[0]\n",
    "params, predict_all, r_squared = oos_reg(y, X, begin, True)"
   ]
  },
  {
   "cell_type": "code",
   "execution_count": 93,
   "metadata": {},
   "outputs": [
    {
     "data": {
      "text/html": [
       "<div>\n",
       "<style scoped>\n",
       "    .dataframe tbody tr th:only-of-type {\n",
       "        vertical-align: middle;\n",
       "    }\n",
       "\n",
       "    .dataframe tbody tr th {\n",
       "        vertical-align: top;\n",
       "    }\n",
       "\n",
       "    .dataframe thead th {\n",
       "        text-align: right;\n",
       "    }\n",
       "</style>\n",
       "<table border=\"1\" class=\"dataframe\">\n",
       "  <thead>\n",
       "    <tr style=\"text-align: right;\">\n",
       "      <th></th>\n",
       "      <th>Real</th>\n",
       "      <th>Forecast</th>\n",
       "      <th>Zero predict</th>\n",
       "    </tr>\n",
       "    <tr>\n",
       "      <th>Date</th>\n",
       "      <th></th>\n",
       "      <th></th>\n",
       "      <th></th>\n",
       "    </tr>\n",
       "  </thead>\n",
       "  <tbody>\n",
       "    <tr>\n",
       "      <th>2017-01-01</th>\n",
       "      <td>0.0156</td>\n",
       "      <td>0.0043</td>\n",
       "      <td>0.0008</td>\n",
       "    </tr>\n",
       "    <tr>\n",
       "      <th>2017-01-08</th>\n",
       "      <td>0.0195</td>\n",
       "      <td>0.0083</td>\n",
       "      <td>0.0009</td>\n",
       "    </tr>\n",
       "    <tr>\n",
       "      <th>2017-01-15</th>\n",
       "      <td>0.0220</td>\n",
       "      <td>0.0045</td>\n",
       "      <td>0.0009</td>\n",
       "    </tr>\n",
       "    <tr>\n",
       "      <th>2017-01-22</th>\n",
       "      <td>0.0074</td>\n",
       "      <td>0.0069</td>\n",
       "      <td>0.0009</td>\n",
       "    </tr>\n",
       "    <tr>\n",
       "      <th>2017-01-29</th>\n",
       "      <td>-0.0136</td>\n",
       "      <td>0.0110</td>\n",
       "      <td>0.0010</td>\n",
       "    </tr>\n",
       "  </tbody>\n",
       "</table>\n",
       "</div>"
      ],
      "text/plain": [
       "              Real  Forecast  Zero predict\n",
       "Date                                      \n",
       "2017-01-01  0.0156    0.0043        0.0008\n",
       "2017-01-08  0.0195    0.0083        0.0009\n",
       "2017-01-15  0.0220    0.0045        0.0009\n",
       "2017-01-22  0.0074    0.0069        0.0009\n",
       "2017-01-29 -0.0136    0.0110        0.0010"
      ]
     },
     "execution_count": 93,
     "metadata": {},
     "output_type": "execute_result"
    }
   ],
   "source": [
    "predict_all.head()"
   ]
  },
  {
   "cell_type": "code",
   "execution_count": 94,
   "metadata": {},
   "outputs": [
    {
     "data": {
      "text/html": [
       "<div>\n",
       "<style scoped>\n",
       "    .dataframe tbody tr th:only-of-type {\n",
       "        vertical-align: middle;\n",
       "    }\n",
       "\n",
       "    .dataframe tbody tr th {\n",
       "        vertical-align: top;\n",
       "    }\n",
       "\n",
       "    .dataframe thead th {\n",
       "        text-align: right;\n",
       "    }\n",
       "</style>\n",
       "<table border=\"1\" class=\"dataframe\">\n",
       "  <thead>\n",
       "    <tr style=\"text-align: right;\">\n",
       "      <th></th>\n",
       "      <th>Real</th>\n",
       "      <th>Forecast</th>\n",
       "      <th>Zero predict</th>\n",
       "    </tr>\n",
       "    <tr>\n",
       "      <th>Date</th>\n",
       "      <th></th>\n",
       "      <th></th>\n",
       "      <th></th>\n",
       "    </tr>\n",
       "  </thead>\n",
       "  <tbody>\n",
       "    <tr>\n",
       "      <th>2022-11-06</th>\n",
       "      <td>0.0216</td>\n",
       "      <td>0.0006</td>\n",
       "      <td>0.0010</td>\n",
       "    </tr>\n",
       "    <tr>\n",
       "      <th>2022-11-13</th>\n",
       "      <td>0.0517</td>\n",
       "      <td>0.0011</td>\n",
       "      <td>0.0011</td>\n",
       "    </tr>\n",
       "    <tr>\n",
       "      <th>2022-11-20</th>\n",
       "      <td>-0.0108</td>\n",
       "      <td>0.0025</td>\n",
       "      <td>0.0011</td>\n",
       "    </tr>\n",
       "    <tr>\n",
       "      <th>2022-11-27</th>\n",
       "      <td>0.0026</td>\n",
       "      <td>0.0022</td>\n",
       "      <td>0.0011</td>\n",
       "    </tr>\n",
       "    <tr>\n",
       "      <th>2022-12-04</th>\n",
       "      <td>-0.0030</td>\n",
       "      <td>0.0022</td>\n",
       "      <td>0.0011</td>\n",
       "    </tr>\n",
       "  </tbody>\n",
       "</table>\n",
       "</div>"
      ],
      "text/plain": [
       "              Real  Forecast  Zero predict\n",
       "Date                                      \n",
       "2022-11-06  0.0216    0.0006        0.0010\n",
       "2022-11-13  0.0517    0.0011        0.0011\n",
       "2022-11-20 -0.0108    0.0025        0.0011\n",
       "2022-11-27  0.0026    0.0022        0.0011\n",
       "2022-12-04 -0.0030    0.0022        0.0011"
      ]
     },
     "execution_count": 94,
     "metadata": {},
     "output_type": "execute_result"
    }
   ],
   "source": [
    "predict_all.tail()"
   ]
  },
  {
   "cell_type": "markdown",
   "metadata": {},
   "source": [
    "## 4.7 Report the out-of-sample R2, relative to a baseline forecast which is simply the mean of GLD up to the point the forecast is made."
   ]
  },
  {
   "cell_type": "code",
   "execution_count": 95,
   "metadata": {},
   "outputs": [
    {
     "name": "stdout",
     "output_type": "stream",
     "text": [
      "oos r-squared:-0.14488422352127506\n"
     ]
    }
   ],
   "source": [
    "print(\"oos r-squared:\" + str(r_squared))"
   ]
  },
  {
   "cell_type": "markdown",
   "metadata": {},
   "source": [
    "## 4.8 "
   ]
  },
  {
   "cell_type": "code",
   "execution_count": 103,
   "metadata": {},
   "outputs": [
    {
     "data": {
      "text/html": [
       "<div>\n",
       "<style scoped>\n",
       "    .dataframe tbody tr th:only-of-type {\n",
       "        vertical-align: middle;\n",
       "    }\n",
       "\n",
       "    .dataframe tbody tr th {\n",
       "        vertical-align: top;\n",
       "    }\n",
       "\n",
       "    .dataframe thead th {\n",
       "        text-align: right;\n",
       "    }\n",
       "</style>\n",
       "<table border=\"1\" class=\"dataframe\">\n",
       "  <thead>\n",
       "    <tr style=\"text-align: right;\">\n",
       "      <th></th>\n",
       "      <th>Real</th>\n",
       "      <th>Forecast</th>\n",
       "      <th>Zero predict</th>\n",
       "    </tr>\n",
       "  </thead>\n",
       "  <tbody>\n",
       "    <tr>\n",
       "      <th>Real</th>\n",
       "      <td>1.0000</td>\n",
       "      <td>-0.1952</td>\n",
       "      <td>-0.1049</td>\n",
       "    </tr>\n",
       "    <tr>\n",
       "      <th>Forecast</th>\n",
       "      <td>-0.1952</td>\n",
       "      <td>1.0000</td>\n",
       "      <td>-0.0667</td>\n",
       "    </tr>\n",
       "    <tr>\n",
       "      <th>Zero predict</th>\n",
       "      <td>-0.1049</td>\n",
       "      <td>-0.0667</td>\n",
       "      <td>1.0000</td>\n",
       "    </tr>\n",
       "  </tbody>\n",
       "</table>\n",
       "</div>"
      ],
      "text/plain": [
       "                Real  Forecast  Zero predict\n",
       "Real          1.0000   -0.1952       -0.1049\n",
       "Forecast     -0.1952    1.0000       -0.0667\n",
       "Zero predict -0.1049   -0.0667        1.0000"
      ]
     },
     "execution_count": 103,
     "metadata": {},
     "output_type": "execute_result"
    }
   ],
   "source": [
    "predict_all.corr()"
   ]
  },
  {
   "cell_type": "code",
   "execution_count": 107,
   "metadata": {},
   "outputs": [
    {
     "data": {
      "text/html": [
       "<div>\n",
       "<style scoped>\n",
       "    .dataframe tbody tr th:only-of-type {\n",
       "        vertical-align: middle;\n",
       "    }\n",
       "\n",
       "    .dataframe tbody tr th {\n",
       "        vertical-align: top;\n",
       "    }\n",
       "\n",
       "    .dataframe thead th {\n",
       "        text-align: right;\n",
       "    }\n",
       "</style>\n",
       "<table border=\"1\" class=\"dataframe\">\n",
       "  <thead>\n",
       "    <tr style=\"text-align: right;\">\n",
       "      <th></th>\n",
       "      <th>Real</th>\n",
       "      <th>Forecast</th>\n",
       "      <th>Zero predict</th>\n",
       "    </tr>\n",
       "    <tr>\n",
       "      <th>Date</th>\n",
       "      <th></th>\n",
       "      <th></th>\n",
       "      <th></th>\n",
       "    </tr>\n",
       "  </thead>\n",
       "  <tbody>\n",
       "    <tr>\n",
       "      <th>2017-01-01</th>\n",
       "      <td>1.4453</td>\n",
       "      <td>0.5458</td>\n",
       "      <td>0.2652</td>\n",
       "    </tr>\n",
       "    <tr>\n",
       "      <th>2017-01-08</th>\n",
       "      <td>1.7619</td>\n",
       "      <td>0.8638</td>\n",
       "      <td>0.2681</td>\n",
       "    </tr>\n",
       "    <tr>\n",
       "      <th>2017-01-15</th>\n",
       "      <td>1.9611</td>\n",
       "      <td>0.5631</td>\n",
       "      <td>0.2718</td>\n",
       "    </tr>\n",
       "    <tr>\n",
       "      <th>2017-01-22</th>\n",
       "      <td>0.7884</td>\n",
       "      <td>0.7502</td>\n",
       "      <td>0.2759</td>\n",
       "    </tr>\n",
       "    <tr>\n",
       "      <th>2017-01-29</th>\n",
       "      <td>-0.8847</td>\n",
       "      <td>1.0791</td>\n",
       "      <td>0.2772</td>\n",
       "    </tr>\n",
       "    <tr>\n",
       "      <th>...</th>\n",
       "      <td>...</td>\n",
       "      <td>...</td>\n",
       "      <td>...</td>\n",
       "    </tr>\n",
       "    <tr>\n",
       "      <th>2022-11-06</th>\n",
       "      <td>1.9289</td>\n",
       "      <td>0.2446</td>\n",
       "      <td>0.2828</td>\n",
       "    </tr>\n",
       "    <tr>\n",
       "      <th>2022-11-13</th>\n",
       "      <td>4.3363</td>\n",
       "      <td>0.2890</td>\n",
       "      <td>0.2851</td>\n",
       "    </tr>\n",
       "    <tr>\n",
       "      <th>2022-11-20</th>\n",
       "      <td>-0.6605</td>\n",
       "      <td>0.4017</td>\n",
       "      <td>0.2908</td>\n",
       "    </tr>\n",
       "    <tr>\n",
       "      <th>2022-11-27</th>\n",
       "      <td>0.4113</td>\n",
       "      <td>0.3750</td>\n",
       "      <td>0.2895</td>\n",
       "    </tr>\n",
       "    <tr>\n",
       "      <th>2022-12-04</th>\n",
       "      <td>-0.0402</td>\n",
       "      <td>0.3759</td>\n",
       "      <td>0.2896</td>\n",
       "    </tr>\n",
       "  </tbody>\n",
       "</table>\n",
       "<p>310 rows × 3 columns</p>\n",
       "</div>"
      ],
      "text/plain": [
       "              Real  Forecast  Zero predict\n",
       "Date                                      \n",
       "2017-01-01  1.4453    0.5458        0.2652\n",
       "2017-01-08  1.7619    0.8638        0.2681\n",
       "2017-01-15  1.9611    0.5631        0.2718\n",
       "2017-01-22  0.7884    0.7502        0.2759\n",
       "2017-01-29 -0.8847    1.0791        0.2772\n",
       "...            ...       ...           ...\n",
       "2022-11-06  1.9289    0.2446        0.2828\n",
       "2022-11-13  4.3363    0.2890        0.2851\n",
       "2022-11-20 -0.6605    0.4017        0.2908\n",
       "2022-11-27  0.4113    0.3750        0.2895\n",
       "2022-12-04 -0.0402    0.3759        0.2896\n",
       "\n",
       "[310 rows x 3 columns]"
      ]
     },
     "execution_count": 107,
     "metadata": {},
     "output_type": "execute_result"
    }
   ],
   "source": [
    "weight = predict_all * 80 + 0.2\n",
    "weight"
   ]
  },
  {
   "cell_type": "code",
   "execution_count": 110,
   "metadata": {},
   "outputs": [
    {
     "data": {
      "text/html": [
       "<div>\n",
       "<style scoped>\n",
       "    .dataframe tbody tr th:only-of-type {\n",
       "        vertical-align: middle;\n",
       "    }\n",
       "\n",
       "    .dataframe tbody tr th {\n",
       "        vertical-align: top;\n",
       "    }\n",
       "\n",
       "    .dataframe thead th {\n",
       "        text-align: right;\n",
       "    }\n",
       "</style>\n",
       "<table border=\"1\" class=\"dataframe\">\n",
       "  <thead>\n",
       "    <tr style=\"text-align: right;\">\n",
       "      <th></th>\n",
       "      <th>Forecast</th>\n",
       "      <th>Zero predict</th>\n",
       "    </tr>\n",
       "    <tr>\n",
       "      <th>Date</th>\n",
       "      <th></th>\n",
       "      <th></th>\n",
       "    </tr>\n",
       "  </thead>\n",
       "  <tbody>\n",
       "    <tr>\n",
       "      <th>2009-04-19</th>\n",
       "      <td>-0.0126</td>\n",
       "      <td>-0.0126</td>\n",
       "    </tr>\n",
       "    <tr>\n",
       "      <th>2009-04-26</th>\n",
       "      <td>0.0528</td>\n",
       "      <td>0.0528</td>\n",
       "    </tr>\n",
       "    <tr>\n",
       "      <th>2009-05-03</th>\n",
       "      <td>-0.0309</td>\n",
       "      <td>-0.0309</td>\n",
       "    </tr>\n",
       "    <tr>\n",
       "      <th>2009-05-10</th>\n",
       "      <td>0.0348</td>\n",
       "      <td>0.0348</td>\n",
       "    </tr>\n",
       "    <tr>\n",
       "      <th>2009-05-17</th>\n",
       "      <td>0.0174</td>\n",
       "      <td>0.0174</td>\n",
       "    </tr>\n",
       "    <tr>\n",
       "      <th>...</th>\n",
       "      <td>...</td>\n",
       "      <td>...</td>\n",
       "    </tr>\n",
       "    <tr>\n",
       "      <th>2022-11-06</th>\n",
       "      <td>0.0216</td>\n",
       "      <td>0.0216</td>\n",
       "    </tr>\n",
       "    <tr>\n",
       "      <th>2022-11-13</th>\n",
       "      <td>0.0517</td>\n",
       "      <td>0.0517</td>\n",
       "    </tr>\n",
       "    <tr>\n",
       "      <th>2022-11-20</th>\n",
       "      <td>-0.0108</td>\n",
       "      <td>-0.0108</td>\n",
       "    </tr>\n",
       "    <tr>\n",
       "      <th>2022-11-27</th>\n",
       "      <td>0.0026</td>\n",
       "      <td>0.0026</td>\n",
       "    </tr>\n",
       "    <tr>\n",
       "      <th>2022-12-04</th>\n",
       "      <td>-0.0030</td>\n",
       "      <td>-0.0030</td>\n",
       "    </tr>\n",
       "  </tbody>\n",
       "</table>\n",
       "<p>712 rows × 2 columns</p>\n",
       "</div>"
      ],
      "text/plain": [
       "            Forecast  Zero predict\n",
       "Date                              \n",
       "2009-04-19   -0.0126       -0.0126\n",
       "2009-04-26    0.0528        0.0528\n",
       "2009-05-03   -0.0309       -0.0309\n",
       "2009-05-10    0.0348        0.0348\n",
       "2009-05-17    0.0174        0.0174\n",
       "...              ...           ...\n",
       "2022-11-06    0.0216        0.0216\n",
       "2022-11-13    0.0517        0.0517\n",
       "2022-11-20   -0.0108       -0.0108\n",
       "2022-11-27    0.0026        0.0026\n",
       "2022-12-04   -0.0030       -0.0030\n",
       "\n",
       "[712 rows x 2 columns]"
      ]
     },
     "execution_count": 110,
     "metadata": {},
     "output_type": "execute_result"
    }
   ],
   "source": [
    "y_new = y\n",
    "y_new[\"Zero predict\"] = y\n",
    "y_new.columns = [\"Forecast\", \"Zero predict\"]\n",
    "y_new"
   ]
  },
  {
   "cell_type": "code",
   "execution_count": 113,
   "metadata": {},
   "outputs": [
    {
     "data": {
      "text/html": [
       "<div>\n",
       "<style scoped>\n",
       "    .dataframe tbody tr th:only-of-type {\n",
       "        vertical-align: middle;\n",
       "    }\n",
       "\n",
       "    .dataframe tbody tr th {\n",
       "        vertical-align: top;\n",
       "    }\n",
       "\n",
       "    .dataframe thead th {\n",
       "        text-align: right;\n",
       "    }\n",
       "</style>\n",
       "<table border=\"1\" class=\"dataframe\">\n",
       "  <thead>\n",
       "    <tr style=\"text-align: right;\">\n",
       "      <th></th>\n",
       "      <th>mean</th>\n",
       "      <th>volatility</th>\n",
       "      <th>Sharpe Ratio</th>\n",
       "      <th>Max Drawdown</th>\n",
       "    </tr>\n",
       "  </thead>\n",
       "  <tbody>\n",
       "    <tr>\n",
       "      <th>Forecast</th>\n",
       "      <td>-0.0080</td>\n",
       "      <td>0.0900</td>\n",
       "      <td>-0.0883</td>\n",
       "      <td>-0.4500</td>\n",
       "    </tr>\n",
       "    <tr>\n",
       "      <th>Zero predict</th>\n",
       "      <td>0.0049</td>\n",
       "      <td>0.0194</td>\n",
       "      <td>0.2523</td>\n",
       "      <td>-0.0632</td>\n",
       "    </tr>\n",
       "  </tbody>\n",
       "</table>\n",
       "</div>"
      ],
      "text/plain": [
       "                mean  volatility  Sharpe Ratio  Max Drawdown\n",
       "Forecast     -0.0080      0.0900       -0.0883       -0.4500\n",
       "Zero predict  0.0049      0.0194        0.2523       -0.0632"
      ]
     },
     "execution_count": 113,
     "metadata": {},
     "output_type": "execute_result"
    }
   ],
   "source": [
    "port_all = (weight[[\"Forecast\", \"Zero predict\"]] * y_new).dropna()\n",
    "summary_stat(port_all, 12)"
   ]
  },
  {
   "cell_type": "code",
   "execution_count": 114,
   "metadata": {},
   "outputs": [
    {
     "data": {
      "text/html": [
       "<div>\n",
       "<style scoped>\n",
       "    .dataframe tbody tr th:only-of-type {\n",
       "        vertical-align: middle;\n",
       "    }\n",
       "\n",
       "    .dataframe tbody tr th {\n",
       "        vertical-align: top;\n",
       "    }\n",
       "\n",
       "    .dataframe thead th {\n",
       "        text-align: right;\n",
       "    }\n",
       "</style>\n",
       "<table border=\"1\" class=\"dataframe\">\n",
       "  <thead>\n",
       "    <tr style=\"text-align: right;\">\n",
       "      <th></th>\n",
       "      <th>alpha</th>\n",
       "      <th>gold ret</th>\n",
       "      <th>r-squared</th>\n",
       "      <th>Treynor Ratio</th>\n",
       "      <th>Info Ratio</th>\n",
       "    </tr>\n",
       "  </thead>\n",
       "  <tbody>\n",
       "    <tr>\n",
       "      <th>Forecast</th>\n",
       "      <td>-0.0205</td>\n",
       "      <td>0.6975</td>\n",
       "      <td>0.2571</td>\n",
       "      <td>-0.0114</td>\n",
       "      <td>-0.2646</td>\n",
       "    </tr>\n",
       "  </tbody>\n",
       "</table>\n",
       "</div>"
      ],
      "text/plain": [
       "           alpha  gold ret  r-squared  Treynor Ratio  Info Ratio\n",
       "Forecast -0.0205    0.6975     0.2571        -0.0114     -0.2646"
      ]
     },
     "execution_count": 114,
     "metadata": {},
     "output_type": "execute_result"
    }
   ],
   "source": [
    "get_ols_metrics(portfolio_ret[[\"gold ret\"]], port_all[[\"Forecast\"]], annualization=12)"
   ]
  },
  {
   "cell_type": "code",
   "execution_count": 115,
   "metadata": {},
   "outputs": [
    {
     "data": {
      "text/html": [
       "<div>\n",
       "<style scoped>\n",
       "    .dataframe tbody tr th:only-of-type {\n",
       "        vertical-align: middle;\n",
       "    }\n",
       "\n",
       "    .dataframe tbody tr th {\n",
       "        vertical-align: top;\n",
       "    }\n",
       "\n",
       "    .dataframe thead th {\n",
       "        text-align: right;\n",
       "    }\n",
       "</style>\n",
       "<table border=\"1\" class=\"dataframe\">\n",
       "  <thead>\n",
       "    <tr style=\"text-align: right;\">\n",
       "      <th></th>\n",
       "      <th>alpha</th>\n",
       "      <th>gold ret</th>\n",
       "      <th>r-squared</th>\n",
       "      <th>Treynor Ratio</th>\n",
       "      <th>Info Ratio</th>\n",
       "    </tr>\n",
       "  </thead>\n",
       "  <tbody>\n",
       "    <tr>\n",
       "      <th>Zero predict</th>\n",
       "      <td>-0.0004</td>\n",
       "      <td>0.2954</td>\n",
       "      <td>0.9978</td>\n",
       "      <td>0.0165</td>\n",
       "      <td>-0.4968</td>\n",
       "    </tr>\n",
       "  </tbody>\n",
       "</table>\n",
       "</div>"
      ],
      "text/plain": [
       "               alpha  gold ret  r-squared  Treynor Ratio  Info Ratio\n",
       "Zero predict -0.0004    0.2954     0.9978         0.0165     -0.4968"
      ]
     },
     "execution_count": 115,
     "metadata": {},
     "output_type": "execute_result"
    }
   ],
   "source": [
    "get_ols_metrics(portfolio_ret[[\"gold ret\"]],\n",
    "                port_all[[\"Zero predict\"]], annualization=12)"
   ]
  },
  {
   "cell_type": "markdown",
   "metadata": {},
   "source": [
    "## 5\n",
    "## 5.1"
   ]
  },
  {
   "cell_type": "code",
   "execution_count": 117,
   "metadata": {},
   "outputs": [
    {
     "data": {
      "text/html": [
       "<div>\n",
       "<style scoped>\n",
       "    .dataframe tbody tr th:only-of-type {\n",
       "        vertical-align: middle;\n",
       "    }\n",
       "\n",
       "    .dataframe tbody tr th {\n",
       "        vertical-align: top;\n",
       "    }\n",
       "\n",
       "    .dataframe thead th {\n",
       "        text-align: right;\n",
       "    }\n",
       "</style>\n",
       "<table border=\"1\" class=\"dataframe\">\n",
       "  <thead>\n",
       "    <tr style=\"text-align: right;\">\n",
       "      <th></th>\n",
       "      <th>GBP</th>\n",
       "      <th>SOFR</th>\n",
       "      <th>SONIA</th>\n",
       "    </tr>\n",
       "    <tr>\n",
       "      <th>DATE</th>\n",
       "      <th></th>\n",
       "      <th></th>\n",
       "      <th></th>\n",
       "    </tr>\n",
       "  </thead>\n",
       "  <tbody>\n",
       "    <tr>\n",
       "      <th>2018-04-03</th>\n",
       "      <td>1.4068</td>\n",
       "      <td>0.0183</td>\n",
       "      <td>0.0047</td>\n",
       "    </tr>\n",
       "    <tr>\n",
       "      <th>2018-04-04</th>\n",
       "      <td>1.4076</td>\n",
       "      <td>0.0174</td>\n",
       "      <td>0.0046</td>\n",
       "    </tr>\n",
       "    <tr>\n",
       "      <th>2018-04-05</th>\n",
       "      <td>1.3991</td>\n",
       "      <td>0.0175</td>\n",
       "      <td>0.0047</td>\n",
       "    </tr>\n",
       "    <tr>\n",
       "      <th>2018-04-06</th>\n",
       "      <td>1.4088</td>\n",
       "      <td>0.0175</td>\n",
       "      <td>0.0047</td>\n",
       "    </tr>\n",
       "    <tr>\n",
       "      <th>2018-04-09</th>\n",
       "      <td>1.4136</td>\n",
       "      <td>0.0175</td>\n",
       "      <td>0.0047</td>\n",
       "    </tr>\n",
       "  </tbody>\n",
       "</table>\n",
       "</div>"
      ],
      "text/plain": [
       "               GBP    SOFR   SONIA\n",
       "DATE                              \n",
       "2018-04-03  1.4068  0.0183  0.0047\n",
       "2018-04-04  1.4076  0.0174  0.0046\n",
       "2018-04-05  1.3991  0.0175  0.0047\n",
       "2018-04-06  1.4088  0.0175  0.0047\n",
       "2018-04-09  1.4136  0.0175  0.0047"
      ]
     },
     "execution_count": 117,
     "metadata": {},
     "output_type": "execute_result"
    }
   ],
   "source": [
    "fx_rate = pd.read_excel(\"../data/final_exam_data.xlsx\",\n",
    "                        sheet_name=3, index_col=0)\n",
    "fx_rate.head()"
   ]
  },
  {
   "cell_type": "code",
   "execution_count": 119,
   "metadata": {},
   "outputs": [
    {
     "data": {
      "text/html": [
       "<div>\n",
       "<style scoped>\n",
       "    .dataframe tbody tr th:only-of-type {\n",
       "        vertical-align: middle;\n",
       "    }\n",
       "\n",
       "    .dataframe tbody tr th {\n",
       "        vertical-align: top;\n",
       "    }\n",
       "\n",
       "    .dataframe thead th {\n",
       "        text-align: right;\n",
       "    }\n",
       "</style>\n",
       "<table border=\"1\" class=\"dataframe\">\n",
       "  <thead>\n",
       "    <tr style=\"text-align: right;\">\n",
       "      <th></th>\n",
       "      <th>Mean</th>\n",
       "    </tr>\n",
       "  </thead>\n",
       "  <tbody>\n",
       "    <tr>\n",
       "      <th>GBP</th>\n",
       "      <td>0.2601</td>\n",
       "    </tr>\n",
       "    <tr>\n",
       "      <th>SOFR</th>\n",
       "      <td>0.0114</td>\n",
       "    </tr>\n",
       "    <tr>\n",
       "      <th>SONIA</th>\n",
       "      <td>0.0053</td>\n",
       "    </tr>\n",
       "  </tbody>\n",
       "</table>\n",
       "</div>"
      ],
      "text/plain": [
       "         Mean\n",
       "GBP    0.2601\n",
       "SOFR   0.0114\n",
       "SONIA  0.0053"
      ]
     },
     "execution_count": 119,
     "metadata": {},
     "output_type": "execute_result"
    }
   ],
   "source": [
    "logFX = np.log(fx_rate[[\"GBP\"]])\n",
    "logRF = np.log(fx_rate[[\"SOFR\", \"SONIA\"]]+1)\n",
    "\n",
    "logFX.mean().to_frame('Mean').append(logRF.mean().to_frame('Mean'))"
   ]
  },
  {
   "cell_type": "markdown",
   "metadata": {},
   "source": [
    "## 5.2 3pts) If we assume the Uncovered Interest Parity to hold true, what would you expect from the (static, passive) return to GBP?\n",
    "\n",
    "- Static and equal to zero. \n",
    "\n",
    "## 5.3 (3pts) Calculate the excess log return to a USD investor of holding GBP. Report the following annualized stats..."
   ]
  },
  {
   "cell_type": "code",
   "execution_count": 122,
   "metadata": {},
   "outputs": [
    {
     "data": {
      "text/html": [
       "<div>\n",
       "<style scoped>\n",
       "    .dataframe tbody tr th:only-of-type {\n",
       "        vertical-align: middle;\n",
       "    }\n",
       "\n",
       "    .dataframe tbody tr th {\n",
       "        vertical-align: top;\n",
       "    }\n",
       "\n",
       "    .dataframe thead th {\n",
       "        text-align: right;\n",
       "    }\n",
       "</style>\n",
       "<table border=\"1\" class=\"dataframe\">\n",
       "  <thead>\n",
       "    <tr style=\"text-align: right;\">\n",
       "      <th></th>\n",
       "      <th>mean</th>\n",
       "      <th>volatility</th>\n",
       "      <th>Sharpe Ratio</th>\n",
       "      <th>Max Drawdown</th>\n",
       "    </tr>\n",
       "  </thead>\n",
       "  <tbody>\n",
       "    <tr>\n",
       "      <th>GP Excess Return</th>\n",
       "      <td>-0.0741</td>\n",
       "      <td>0.0328</td>\n",
       "      <td>-2.2585</td>\n",
       "      <td>-0.9991</td>\n",
       "    </tr>\n",
       "  </tbody>\n",
       "</table>\n",
       "</div>"
      ],
      "text/plain": [
       "                    mean  volatility  Sharpe Ratio  Max Drawdown\n",
       "GP Excess Return -0.0741      0.0328       -2.2585       -0.9991"
      ]
     },
     "execution_count": 122,
     "metadata": {},
     "output_type": "execute_result"
    }
   ],
   "source": [
    "logRFspread = (logRF[\"SOFR\"]-logRF[\"SONIA\"]).shift(1).rename('RF Spread')\n",
    "logFXgrowth = logFX[\"GBP\"].diff().rename('GBP Growth')\n",
    "\n",
    "logRX = (logFXgrowth - logRFspread).to_frame('GP Excess Return')\n",
    "summary_stat(logRX, 12)"
   ]
  },
  {
   "cell_type": "markdown",
   "metadata": {},
   "source": [
    "## 5.4 (6pts) Over the sample, was it better to be long or short GBP relative to USD?"
   ]
  },
  {
   "cell_type": "code",
   "execution_count": 123,
   "metadata": {},
   "outputs": [
    {
     "data": {
      "text/plain": [
       "GBP Growth         -0.0001\n",
       "RF Spread           0.0060\n",
       "GP Excess Return   -0.0062\n",
       "dtype: float64"
      ]
     },
     "execution_count": 123,
     "metadata": {},
     "output_type": "execute_result"
    }
   ],
   "source": [
    "FXcomponents = pd.concat([logFXgrowth, logRFspread, logRX], axis=1)\n",
    "FXcomponents.mean()"
   ]
  },
  {
   "cell_type": "markdown",
   "metadata": {},
   "source": [
    "- We see that the FX growth was negative on average, which means that the USD appreciated over the sample. (This was drag on mean excess returns to MXN.)\n",
    "- We see that the USD-GBP spread was positive on average, which indicates that GBP rates were lower on average.\n",
    "- Over all, it has negative excess return. "
   ]
  },
  {
   "cell_type": "markdown",
   "metadata": {},
   "source": [
    "## 5.5 (5pts) Assume just for this question that these daily excess log returns are normally distributed. What is the probability that holding GBP over the following 5 years will underperform the USD risk-free rate?"
   ]
  },
  {
   "cell_type": "code",
   "execution_count": 125,
   "metadata": {},
   "outputs": [
    {
     "data": {
      "text/plain": [
       "0.9999997791754612"
      ]
     },
     "execution_count": 125,
     "metadata": {},
     "output_type": "execute_result"
    }
   ],
   "source": [
    "def p(h, tilde_mu, tilde_sigma):\n",
    "    '''\n",
    "    That's the rate of underperformed.\n",
    "    You should use iid log returns.\n",
    "    Do not need to annualize mu and sigma first.  \n",
    "    '''\n",
    "    x = - np.sqrt(h) * tilde_mu / tilde_sigma\n",
    "    val = stats.norm.cdf(x)\n",
    "    return val[0]\n",
    "\n",
    "\n",
    "mean = logRX.mean() * 12\n",
    "std = logRX.std() * np.sqrt(12)\n",
    "p(5, mean, std)"
   ]
  },
  {
   "cell_type": "markdown",
   "metadata": {},
   "source": [
    "## 5.6"
   ]
  },
  {
   "cell_type": "code",
   "execution_count": 128,
   "metadata": {},
   "outputs": [
    {
     "data": {
      "text/html": [
       "<div>\n",
       "<style scoped>\n",
       "    .dataframe tbody tr th:only-of-type {\n",
       "        vertical-align: middle;\n",
       "    }\n",
       "\n",
       "    .dataframe tbody tr th {\n",
       "        vertical-align: top;\n",
       "    }\n",
       "\n",
       "    .dataframe thead th {\n",
       "        text-align: right;\n",
       "    }\n",
       "</style>\n",
       "<table border=\"1\" class=\"dataframe\">\n",
       "  <thead>\n",
       "    <tr style=\"text-align: right;\">\n",
       "      <th></th>\n",
       "      <th>alpha</th>\n",
       "      <th>beta</th>\n",
       "      <th>r-squared</th>\n",
       "    </tr>\n",
       "  </thead>\n",
       "  <tbody>\n",
       "    <tr>\n",
       "      <th>GBP Growth</th>\n",
       "      <td>-6.9182e-05</td>\n",
       "      <td>-0.0106</td>\n",
       "      <td>0.0002</td>\n",
       "    </tr>\n",
       "  </tbody>\n",
       "</table>\n",
       "</div>"
      ],
      "text/plain": [
       "                 alpha    beta  r-squared\n",
       "GBP Growth -6.9182e-05 -0.0106     0.0002"
      ]
     },
     "execution_count": 128,
     "metadata": {},
     "output_type": "execute_result"
    }
   ],
   "source": [
    "y, X = logFXgrowth.to_frame().dropna().align(\n",
    "    logRFspread.to_frame().dropna(), join='inner', axis=0)\n",
    "mod = linear_model.LinearRegression().fit(X, y)\n",
    "\n",
    "FXpredictOLS = pd.DataFrame(\n",
    "    {'alpha': mod.intercept_[0],\n",
    "     'beta': mod.coef_[0, 0],\n",
    "     'r-squared': mod.score(X, y)},\n",
    "    index=['GBP Growth'])\n",
    "\n",
    "FXpredictOLS"
   ]
  },
  {
   "cell_type": "markdown",
   "metadata": {},
   "source": [
    "## 5.7 7. (4pts) If we assume the Uncovered Interest Parity to hold true, what would you expect to be true of the regression estimates?\n",
    "- The mean excess returns to GBP should be zero. \n",
    "- The FX forecasting beta should equals 1.\n",
    "- The FX alpha shold be zero.\n",
    "\n",
    "- UIP has nothing to say about excess return volatility \n",
    "- UIP has nothing to say about forecasting r-squared "
   ]
  },
  {
   "cell_type": "markdown",
   "metadata": {},
   "source": [
    "## 8. (4pts) Based on the regression results, if we observe an increase in the interest rate on GBP relative to USD, should we expect the USD to get stronger (appreciate) or weaker (depreciate)?\n",
    "\n",
    "- Based on the OLS stats that beta < 0, an increase spread of GBP-USD (which is a **decrease** in our regressor, given that it is constructed as USD-GBP rate spread) predicts an **increase** in the FX rate, which is a **depreciation** in the USD relative to GBP."
   ]
  },
  {
   "cell_type": "markdown",
   "metadata": {},
   "source": [
    "## 5.9 (4pts) If the risk free rates in USD increase relative to risk-free rates in GBP, we expect the forward exchange rate to be higher than the spot exchange rate?\n",
    "\n",
    "- We expect a decrease in the FX rate(which is time t+1 spot exchange rate), so yes, the forward exchange rate is higher than the spot exchange rate."
   ]
  },
  {
   "cell_type": "markdown",
   "metadata": {},
   "source": [
    "## 5.10  Based on the regression results, construct an in-sample forecast of the excess log return to holding GBP. Report the forecasted values for the first 5 and last 5 dates."
   ]
  },
  {
   "cell_type": "code",
   "execution_count": 130,
   "metadata": {},
   "outputs": [
    {
     "data": {
      "text/html": [
       "<div>\n",
       "<style scoped>\n",
       "    .dataframe tbody tr th:only-of-type {\n",
       "        vertical-align: middle;\n",
       "    }\n",
       "\n",
       "    .dataframe tbody tr th {\n",
       "        vertical-align: top;\n",
       "    }\n",
       "\n",
       "    .dataframe thead th {\n",
       "        text-align: right;\n",
       "    }\n",
       "</style>\n",
       "<table border=\"1\" class=\"dataframe\">\n",
       "  <thead>\n",
       "    <tr style=\"text-align: right;\">\n",
       "      <th></th>\n",
       "      <th>excess return</th>\n",
       "    </tr>\n",
       "    <tr>\n",
       "      <th>DATE</th>\n",
       "      <th></th>\n",
       "    </tr>\n",
       "  </thead>\n",
       "  <tbody>\n",
       "    <tr>\n",
       "      <th>2018-04-04</th>\n",
       "      <td>-0.0137</td>\n",
       "    </tr>\n",
       "    <tr>\n",
       "      <th>2018-04-05</th>\n",
       "      <td>-0.0128</td>\n",
       "    </tr>\n",
       "    <tr>\n",
       "      <th>2018-04-06</th>\n",
       "      <td>-0.0129</td>\n",
       "    </tr>\n",
       "    <tr>\n",
       "      <th>2018-04-09</th>\n",
       "      <td>-0.0129</td>\n",
       "    </tr>\n",
       "    <tr>\n",
       "      <th>2018-04-10</th>\n",
       "      <td>-0.0129</td>\n",
       "    </tr>\n",
       "  </tbody>\n",
       "</table>\n",
       "</div>"
      ],
      "text/plain": [
       "            excess return\n",
       "DATE                     \n",
       "2018-04-04        -0.0137\n",
       "2018-04-05        -0.0128\n",
       "2018-04-06        -0.0129\n",
       "2018-04-09        -0.0129\n",
       "2018-04-10        -0.0129"
      ]
     },
     "execution_count": 130,
     "metadata": {},
     "output_type": "execute_result"
    }
   ],
   "source": [
    "forecast = FXpredictOLS[\"alpha\"][0] + (FXpredictOLS[\"beta\"][0] - 1) * logRFspread\n",
    "forecast = forecast.to_frame(\"excess return\").dropna()\n",
    "forecast.head()"
   ]
  },
  {
   "cell_type": "code",
   "execution_count": 131,
   "metadata": {},
   "outputs": [
    {
     "data": {
      "text/html": [
       "<div>\n",
       "<style scoped>\n",
       "    .dataframe tbody tr th:only-of-type {\n",
       "        vertical-align: middle;\n",
       "    }\n",
       "\n",
       "    .dataframe tbody tr th {\n",
       "        vertical-align: top;\n",
       "    }\n",
       "\n",
       "    .dataframe thead th {\n",
       "        text-align: right;\n",
       "    }\n",
       "</style>\n",
       "<table border=\"1\" class=\"dataframe\">\n",
       "  <thead>\n",
       "    <tr style=\"text-align: right;\">\n",
       "      <th></th>\n",
       "      <th>excess return</th>\n",
       "    </tr>\n",
       "    <tr>\n",
       "      <th>DATE</th>\n",
       "      <th></th>\n",
       "    </tr>\n",
       "  </thead>\n",
       "  <tbody>\n",
       "    <tr>\n",
       "      <th>2022-11-18</th>\n",
       "      <td>-0.0086</td>\n",
       "    </tr>\n",
       "    <tr>\n",
       "      <th>2022-11-21</th>\n",
       "      <td>-0.0086</td>\n",
       "    </tr>\n",
       "    <tr>\n",
       "      <th>2022-11-22</th>\n",
       "      <td>-0.0086</td>\n",
       "    </tr>\n",
       "    <tr>\n",
       "      <th>2022-11-23</th>\n",
       "      <td>-0.0086</td>\n",
       "    </tr>\n",
       "    <tr>\n",
       "      <th>2022-11-25</th>\n",
       "      <td>-0.0085</td>\n",
       "    </tr>\n",
       "  </tbody>\n",
       "</table>\n",
       "</div>"
      ],
      "text/plain": [
       "            excess return\n",
       "DATE                     \n",
       "2022-11-18        -0.0086\n",
       "2022-11-21        -0.0086\n",
       "2022-11-22        -0.0086\n",
       "2022-11-23        -0.0086\n",
       "2022-11-25        -0.0085"
      ]
     },
     "execution_count": 131,
     "metadata": {},
     "output_type": "execute_result"
    }
   ],
   "source": [
    "forecast.tail()"
   ]
  },
  {
   "cell_type": "markdown",
   "metadata": {},
   "source": []
  },
  {
   "cell_type": "markdown",
   "metadata": {},
   "source": []
  }
 ],
 "metadata": {
  "kernelspec": {
   "display_name": "Python 3.8.5 ('.venv': venv)",
   "language": "python",
   "name": "python3"
  },
  "language_info": {
   "codemirror_mode": {
    "name": "ipython",
    "version": 3
   },
   "file_extension": ".py",
   "mimetype": "text/x-python",
   "name": "python",
   "nbconvert_exporter": "python",
   "pygments_lexer": "ipython3",
   "version": "3.8.5"
  },
  "orig_nbformat": 4,
  "vscode": {
   "interpreter": {
    "hash": "6553dfd50d31686df0e364d38a7d281a21dd8241aae825f978e35a44bd16b092"
   }
  }
 },
 "nbformat": 4,
 "nbformat_minor": 2
}
